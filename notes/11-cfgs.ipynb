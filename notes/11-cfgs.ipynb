{
  "cells": [
    {
      "cell_type": "markdown",
      "metadata": {
        "id": "view-in-github",
        "colab_type": "text"
      },
      "source": [
        "<a href=\"https://colab.research.google.com/github/ND-CSE-30151/spring-2023/blob/master/notes/11-cfgs.ipynb\" target=\"_parent\"><img src=\"https://colab.research.google.com/assets/colab-badge.svg\" alt=\"Open In Colab\"/></a>"
      ]
    },
    {
      "cell_type": "markdown",
      "metadata": {
        "id": "Ctwlp-OeW6kc"
      },
      "source": [
        "# Notebook 11: Context-free grammars"
      ]
    },
    {
      "cell_type": "code",
      "execution_count": null,
      "metadata": {
        "id": "seQzfXc3W6kd",
        "cellView": "form"
      },
      "outputs": [],
      "source": [
        "#@title Setup\n",
        "!pip install -qqq tock\n",
        "from tock import *\n",
        "!test -x /content/theory || git clone --quiet https://github.com/ND-CSE-30151/spring-2023 /content/theory\n",
        "%cd -q /content/theory/notes"
      ]
    },
    {
      "cell_type": "markdown",
      "metadata": {
        "id": "HfwNwJ9eW6kf"
      },
      "source": [
        "We're beginning the second unit of the course, in which we look at _context-free grammars_ and _pushdown automata_. Recall that in the first class we briefly introduced Turing machines, and then introduced finite automata as being like Turing machines but restricted to have only a one-way, read-only tape. Pushdown automata are a little bit less restricted: they have a one-way, read-only tape, but they also have a stack. But the book starts with context-free grammars, probably because they're a little more familiar and/or easier to understand.\n",
        "\n",
        "## Definition and example\n",
        "\n",
        "<div class=\"alert alert-info\">\n",
        "    <p><b>Read</b> Section 2.1, but skip \"Chomsky Normal Form.\"</p>\n",
        "</div>\n",
        "\n",
        "Context-free grammars were invented in the late 1950s by Noam Chomsky as a way of describing the syntax of human languages (he called them *phrase-structure grammars*). Later, they were appropriated by the inventors of the programming language ALGOL-60 as a way to describe that language's syntax (which came to be called *Backus-Naur form*).\n",
        "\n",
        "We can start with a simpler example than the book's."
      ]
    },
    {
      "cell_type": "code",
      "execution_count": null,
      "metadata": {
        "id": "5ntnWbaJW6kg",
        "outputId": "48bbc49c-9d86-4522-9500-e564d2fed005",
        "colab": {
          "base_uri": "https://localhost:8080/",
          "height": 85
        }
      },
      "outputs": [
        {
          "output_type": "execute_result",
          "data": {
            "text/plain": [
              "<tock.grammars.Grammar at 0x7f18181098b0>"
            ],
            "text/html": [
              "nonterminals: {S}<br>\n",
              "start: S<br>\n",
              "S &rarr; a S b<br>\n",
              "S &rarr; ε"
            ]
          },
          "metadata": {},
          "execution_count": 2
        }
      ],
      "source": [
        "g1 = Grammar.from_lines([\n",
        "    'S -> a S b',\n",
        "    'S -> &'\n",
        "])\n",
        "g1"
      ]
    },
    {
      "cell_type": "markdown",
      "metadata": {
        "id": "sfurkVP8W6kh"
      },
      "source": [
        "This grammar has two *rules* (also called *productions*) of the form $A \\rightarrow \\beta$, where $A$ is called the *left-hand side* (lhs) and $\\beta$ is called the *right-hand side* (rhs).\n",
        "\n",
        "A *derivation* of a grammar starts with the *start symbol*, which in this case is $\\text{S}$. Then, if there is a rule $A \\rightarrow \\beta$, you can rewrite an occurrence of $A$ with $\\beta$. Repeat until no more rewriting can be done. For example,\n",
        "\\begin{align*}\n",
        "\\text{S} &\\Rightarrow \\mathtt{a} \\text{S} \\mathtt{b} && \\text{using the first rule} \\\\\n",
        "&\\Rightarrow \\mathtt{aa} \\text{S} \\mathtt{bb} && \\text{using the first rule} \\\\\n",
        "&\\Rightarrow \\mathtt{aabb} && \\text{using the second rule}\n",
        "\\end{align*}\n",
        "Another example:\n",
        "\\begin{align*}\n",
        "\\text{S} &\\Rightarrow \\mathtt{a} \\text{S} \\mathtt{b} && \\text{using the first rule} \\\\\n",
        "&\\Rightarrow \\mathtt{aa} \\text{S} \\mathtt{bb} && \\text{using the first rule} \\\\\n",
        "&\\Rightarrow \\mathtt{aaa} \\text{S} \\mathtt{bbb} && \\text{using the first rule} \\\\\n",
        "&\\Rightarrow \\mathtt{aaabbb} && \\text{using the second rule}\n",
        "\\end{align*}\n",
        "\n",
        "An alternative way to write derivations is as a *tree*:"
      ]
    },
    {
      "cell_type": "code",
      "execution_count": null,
      "metadata": {
        "id": "ktY-3YVbW6kh",
        "outputId": "894eb9f4-8efa-4333-8bd4-3bc131d6a598",
        "colab": {
          "base_uri": "https://localhost:8080/",
          "height": 135
        }
      },
      "outputs": [
        {
          "output_type": "execute_result",
          "data": {
            "text/plain": [
              "<tock.trees.Tree at 0x7f181807c850>"
            ],
            "image/svg+xml": "<svg width=\"101\" height=\"114\">\n  <style>\n    .nonterminal {\n      font: 14px serif;\n      text-anchor: middle;\n    }\n    .terminal {\n      font: 14px monospace;\n      text-anchor: middle;\n    }\n  </style>\n<text x=\"4.5\" y=\"46\" class=\"terminal\">a</text>\n<text x=\"27.5\" y=\"78\" class=\"terminal\">a</text>\n<text x=\"50.5\" y=\"110\" class=\"terminal\">ε</text>\n<text x=\"50.5\" y=\"78\" class=\"nonterminal\">S</text>\n<line x1=\"50.5\" y1=\"82\" x2=\"50.5\" y2=\"96\" style=\"stroke:rgb(0,0,0);stroke-width:1\"/>\n<text x=\"73.5\" y=\"78\" class=\"terminal\">b</text>\n<text x=\"50.5\" y=\"46\" class=\"nonterminal\">S</text>\n<line x1=\"50.5\" y1=\"50\" x2=\"27.5\" y2=\"64\" style=\"stroke:rgb(0,0,0);stroke-width:1\"/>\n<line x1=\"50.5\" y1=\"50\" x2=\"50.5\" y2=\"64\" style=\"stroke:rgb(0,0,0);stroke-width:1\"/>\n<line x1=\"50.5\" y1=\"50\" x2=\"73.5\" y2=\"64\" style=\"stroke:rgb(0,0,0);stroke-width:1\"/>\n<text x=\"96.5\" y=\"46\" class=\"terminal\">b</text>\n<text x=\"50.5\" y=\"14\" class=\"nonterminal\">S</text>\n<line x1=\"50.5\" y1=\"18\" x2=\"4.5\" y2=\"32\" style=\"stroke:rgb(0,0,0);stroke-width:1\"/>\n<line x1=\"50.5\" y1=\"18\" x2=\"50.5\" y2=\"32\" style=\"stroke:rgb(0,0,0);stroke-width:1\"/>\n<line x1=\"50.5\" y1=\"18\" x2=\"96.5\" y2=\"32\" style=\"stroke:rgb(0,0,0);stroke-width:1\"/>\n</svg>\n"
          },
          "metadata": {},
          "execution_count": 3
        }
      ],
      "source": [
        "only_parse(g1, 'a a b b'.split())"
      ]
    },
    {
      "cell_type": "markdown",
      "metadata": {
        "id": "1cqnFrelW6ki"
      },
      "source": [
        "Note that we draw a leaf node for $\\varepsilon$ even though it is not a symbol of the string.\n",
        "\n",
        "The symbols used in a CFG come in two kinds, *terminals* and *nonterminals*. Terminals are normally written with lowercase typewriter letters (e.g., $\\texttt{a}$, $\\texttt{b}$). The book calls nonterminals *variables* and it writes them with uppercase italic letters. I think it's confusing to call them variables, so I always call them nonterminals, and I try to write them with uppercase roman letters (e.g., $\\text{A}, \\text{B}$).\n",
        "\n",
        "The start symbol is always a nonterminal. It is often $\\text{S}$ but doesn't have to be. When you write a CFG, you should state what the start symbol is if it's anything other than $\\text{S}$.\n",
        "\n",
        "The left-hand side of a rule is always a single nonterminal, and the right-hand side is a string of terminals and nonterminals. (There are other kinds of grammars where the left-hand side doesn't have to be a single nonterminal; we may look at some in later units of the course.) Above, I said that a derivation stops when no more rewriting can be done. That's not strictly correct; a derivation stops when there are no more nonterminal symbols. (What's the difference?)"
      ]
    },
    {
      "cell_type": "markdown",
      "metadata": {
        "id": "wxVHZxayW6kj"
      },
      "source": [
        "## A natural language example"
      ]
    },
    {
      "cell_type": "markdown",
      "metadata": {
        "id": "QU0NDzSGW6kj"
      },
      "source": [
        "As I mentioned above, CFGs were originally invented for natural language. [Generalized Phrase Structure Grammar](https://en.wikipedia.org/wiki/Generalized_phrase_structure_grammar) was an attempt to write a CFG for English. The [Berkeley Parser](https://github.com/slavpetrov/berkeleyparser) builds a CFG for English partly using human input and partly automatically.\n",
        "\n",
        "Here's a CFG for a very small fragment of English:"
      ]
    },
    {
      "cell_type": "code",
      "execution_count": null,
      "metadata": {
        "id": "oL9et3LXW6kk",
        "outputId": "1a1182ed-9177-48f2-d734-70237da4e8b9",
        "colab": {
          "base_uri": "https://localhost:8080/"
        }
      },
      "outputs": [
        {
          "output_type": "stream",
          "name": "stdout",
          "text": [
            "Writing english.cfg\n"
          ]
        }
      ],
      "source": [
        "%%file english.cfg\n",
        "S -> NP VP\n",
        "VP -> V NP\n",
        "NP -> DT NN\n",
        "NP -> DT JJ NN\n",
        "NP -> NP that VP\n",
        "VP -> V NP\n",
        "DT -> a\n",
        "NN -> cat\n",
        "NN -> dog\n",
        "JJ -> red\n",
        "JJ -> blue\n",
        "V -> saw\n",
        "V -> ate"
      ]
    },
    {
      "cell_type": "code",
      "execution_count": null,
      "metadata": {
        "id": "EFN9Vgf9W6kk",
        "outputId": "2fa9de4e-2e95-4906-a2f1-8e516a383c37",
        "colab": {
          "base_uri": "https://localhost:8080/",
          "height": 272
        }
      },
      "outputs": [
        {
          "output_type": "execute_result",
          "data": {
            "text/plain": [
              "<tock.grammars.Grammar at 0x7f18025eac10>"
            ],
            "text/html": [
              "nonterminals: {DT,JJ,NN,NP,S,V,VP}<br>\n",
              "start: S<br>\n",
              "S &rarr; NP VP<br>\n",
              "VP &rarr; V NP<br>\n",
              "NP &rarr; DT NN<br>\n",
              "NP &rarr; DT JJ NN<br>\n",
              "NP &rarr; NP that VP<br>\n",
              "VP &rarr; V NP<br>\n",
              "DT &rarr; a<br>\n",
              "NN &rarr; cat<br>\n",
              "NN &rarr; dog<br>\n",
              "JJ &rarr; red<br>\n",
              "JJ &rarr; blue<br>\n",
              "V &rarr; saw<br>\n",
              "V &rarr; ate"
            ]
          },
          "metadata": {},
          "execution_count": 5
        }
      ],
      "source": [
        "g2 = Grammar.from_file('english.cfg')\n",
        "g2"
      ]
    },
    {
      "cell_type": "markdown",
      "metadata": {
        "id": "2VAuYtpYW6kl"
      },
      "source": [
        "We can generate some random strings from it:"
      ]
    },
    {
      "cell_type": "code",
      "execution_count": null,
      "metadata": {
        "scrolled": true,
        "id": "JHFQsT0zW6km",
        "outputId": "159e8fb2-725a-4221-c97d-6d3c5ee27e49",
        "colab": {
          "base_uri": "https://localhost:8080/",
          "height": 1000
        }
      },
      "outputs": [
        {
          "output_type": "stream",
          "name": "stdout",
          "text": [
            "a dog that ate a cat saw a blue dog that saw a cat that saw a blue dog\n"
          ]
        },
        {
          "output_type": "display_data",
          "data": {
            "text/plain": [
              "<tock.trees.Tree at 0x7f18021daf40>"
            ],
            "image/svg+xml": "<svg width=\"742.5\" height=\"242\">\n  <style>\n    .nonterminal {\n      font: 14px serif;\n      text-anchor: middle;\n    }\n    .terminal {\n      font: 14px monospace;\n      text-anchor: middle;\n    }\n  </style>\n<text x=\"9.0\" y=\"142\" class=\"terminal\">a</text>\n<text x=\"9.0\" y=\"110\" class=\"nonterminal\">DT</text>\n<line x1=\"9.0\" y1=\"114\" x2=\"9.0\" y2=\"128\" style=\"stroke:rgb(0,0,0);stroke-width:1\"/>\n<text x=\"41.0\" y=\"142\" class=\"terminal\">dog</text>\n<text x=\"41.0\" y=\"110\" class=\"nonterminal\">NN</text>\n<line x1=\"41.0\" y1=\"114\" x2=\"41.0\" y2=\"128\" style=\"stroke:rgb(0,0,0);stroke-width:1\"/>\n<text x=\"25.0\" y=\"78\" class=\"nonterminal\">NP</text>\n<line x1=\"25.0\" y1=\"82\" x2=\"9.0\" y2=\"96\" style=\"stroke:rgb(0,0,0);stroke-width:1\"/>\n<line x1=\"25.0\" y1=\"82\" x2=\"41.0\" y2=\"96\" style=\"stroke:rgb(0,0,0);stroke-width:1\"/>\n<text x=\"86.5\" y=\"78\" class=\"terminal\">that</text>\n<text x=\"132.0\" y=\"142\" class=\"terminal\">ate</text>\n<text x=\"132.0\" y=\"110\" class=\"nonterminal\">V</text>\n<line x1=\"132.0\" y1=\"114\" x2=\"132.0\" y2=\"128\" style=\"stroke:rgb(0,0,0);stroke-width:1\"/>\n<text x=\"168.5\" y=\"174\" class=\"terminal\">a</text>\n<text x=\"168.5\" y=\"142\" class=\"nonterminal\">DT</text>\n<line x1=\"168.5\" y1=\"146\" x2=\"168.5\" y2=\"160\" style=\"stroke:rgb(0,0,0);stroke-width:1\"/>\n<text x=\"200.5\" y=\"174\" class=\"terminal\">cat</text>\n<text x=\"200.5\" y=\"142\" class=\"nonterminal\">NN</text>\n<line x1=\"200.5\" y1=\"146\" x2=\"200.5\" y2=\"160\" style=\"stroke:rgb(0,0,0);stroke-width:1\"/>\n<text x=\"184.5\" y=\"110\" class=\"nonterminal\">NP</text>\n<line x1=\"184.5\" y1=\"114\" x2=\"168.5\" y2=\"128\" style=\"stroke:rgb(0,0,0);stroke-width:1\"/>\n<line x1=\"184.5\" y1=\"114\" x2=\"200.5\" y2=\"128\" style=\"stroke:rgb(0,0,0);stroke-width:1\"/>\n<text x=\"158.25\" y=\"78\" class=\"nonterminal\">VP</text>\n<line x1=\"158.25\" y1=\"82\" x2=\"132.0\" y2=\"96\" style=\"stroke:rgb(0,0,0);stroke-width:1\"/>\n<line x1=\"158.25\" y1=\"82\" x2=\"184.5\" y2=\"96\" style=\"stroke:rgb(0,0,0);stroke-width:1\"/>\n<text x=\"91.625\" y=\"46\" class=\"nonterminal\">NP</text>\n<line x1=\"91.625\" y1=\"50\" x2=\"25.0\" y2=\"64\" style=\"stroke:rgb(0,0,0);stroke-width:1\"/>\n<line x1=\"91.625\" y1=\"50\" x2=\"86.5\" y2=\"64\" style=\"stroke:rgb(0,0,0);stroke-width:1\"/>\n<line x1=\"91.625\" y1=\"50\" x2=\"158.25\" y2=\"64\" style=\"stroke:rgb(0,0,0);stroke-width:1\"/>\n<text x=\"241.5\" y=\"110\" class=\"terminal\">saw</text>\n<text x=\"241.5\" y=\"78\" class=\"nonterminal\">V</text>\n<line x1=\"241.5\" y1=\"82\" x2=\"241.5\" y2=\"96\" style=\"stroke:rgb(0,0,0);stroke-width:1\"/>\n<text x=\"278.0\" y=\"206\" class=\"terminal\">a</text>\n<text x=\"278.0\" y=\"174\" class=\"nonterminal\">DT</text>\n<line x1=\"278.0\" y1=\"178\" x2=\"278.0\" y2=\"192\" style=\"stroke:rgb(0,0,0);stroke-width:1\"/>\n<text x=\"314.5\" y=\"206\" class=\"terminal\">blue</text>\n<text x=\"314.5\" y=\"174\" class=\"nonterminal\">JJ</text>\n<line x1=\"314.5\" y1=\"178\" x2=\"314.5\" y2=\"192\" style=\"stroke:rgb(0,0,0);stroke-width:1\"/>\n<text x=\"360.0\" y=\"206\" class=\"terminal\">dog</text>\n<text x=\"360.0\" y=\"174\" class=\"nonterminal\">NN</text>\n<line x1=\"360.0\" y1=\"178\" x2=\"360.0\" y2=\"192\" style=\"stroke:rgb(0,0,0);stroke-width:1\"/>\n<text x=\"319.0\" y=\"142\" class=\"nonterminal\">NP</text>\n<line x1=\"319.0\" y1=\"146\" x2=\"278.0\" y2=\"160\" style=\"stroke:rgb(0,0,0);stroke-width:1\"/>\n<line x1=\"319.0\" y1=\"146\" x2=\"314.5\" y2=\"160\" style=\"stroke:rgb(0,0,0);stroke-width:1\"/>\n<line x1=\"319.0\" y1=\"146\" x2=\"360.0\" y2=\"160\" style=\"stroke:rgb(0,0,0);stroke-width:1\"/>\n<text x=\"405.5\" y=\"142\" class=\"terminal\">that</text>\n<text x=\"451.0\" y=\"206\" class=\"terminal\">saw</text>\n<text x=\"451.0\" y=\"174\" class=\"nonterminal\">V</text>\n<line x1=\"451.0\" y1=\"178\" x2=\"451.0\" y2=\"192\" style=\"stroke:rgb(0,0,0);stroke-width:1\"/>\n<text x=\"487.5\" y=\"238\" class=\"terminal\">a</text>\n<text x=\"487.5\" y=\"206\" class=\"nonterminal\">DT</text>\n<line x1=\"487.5\" y1=\"210\" x2=\"487.5\" y2=\"224\" style=\"stroke:rgb(0,0,0);stroke-width:1\"/>\n<text x=\"519.5\" y=\"238\" class=\"terminal\">cat</text>\n<text x=\"519.5\" y=\"206\" class=\"nonterminal\">NN</text>\n<line x1=\"519.5\" y1=\"210\" x2=\"519.5\" y2=\"224\" style=\"stroke:rgb(0,0,0);stroke-width:1\"/>\n<text x=\"503.5\" y=\"174\" class=\"nonterminal\">NP</text>\n<line x1=\"503.5\" y1=\"178\" x2=\"487.5\" y2=\"192\" style=\"stroke:rgb(0,0,0);stroke-width:1\"/>\n<line x1=\"503.5\" y1=\"178\" x2=\"519.5\" y2=\"192\" style=\"stroke:rgb(0,0,0);stroke-width:1\"/>\n<text x=\"477.25\" y=\"142\" class=\"nonterminal\">VP</text>\n<line x1=\"477.25\" y1=\"146\" x2=\"451.0\" y2=\"160\" style=\"stroke:rgb(0,0,0);stroke-width:1\"/>\n<line x1=\"477.25\" y1=\"146\" x2=\"503.5\" y2=\"160\" style=\"stroke:rgb(0,0,0);stroke-width:1\"/>\n<text x=\"398.125\" y=\"110\" class=\"nonterminal\">NP</text>\n<line x1=\"398.125\" y1=\"114\" x2=\"319.0\" y2=\"128\" style=\"stroke:rgb(0,0,0);stroke-width:1\"/>\n<line x1=\"398.125\" y1=\"114\" x2=\"405.5\" y2=\"128\" style=\"stroke:rgb(0,0,0);stroke-width:1\"/>\n<line x1=\"398.125\" y1=\"114\" x2=\"477.25\" y2=\"128\" style=\"stroke:rgb(0,0,0);stroke-width:1\"/>\n<text x=\"565.0\" y=\"110\" class=\"terminal\">that</text>\n<text x=\"610.5\" y=\"174\" class=\"terminal\">saw</text>\n<text x=\"610.5\" y=\"142\" class=\"nonterminal\">V</text>\n<line x1=\"610.5\" y1=\"146\" x2=\"610.5\" y2=\"160\" style=\"stroke:rgb(0,0,0);stroke-width:1\"/>\n<text x=\"647.0\" y=\"206\" class=\"terminal\">a</text>\n<text x=\"647.0\" y=\"174\" class=\"nonterminal\">DT</text>\n<line x1=\"647.0\" y1=\"178\" x2=\"647.0\" y2=\"192\" style=\"stroke:rgb(0,0,0);stroke-width:1\"/>\n<text x=\"683.5\" y=\"206\" class=\"terminal\">blue</text>\n<text x=\"683.5\" y=\"174\" class=\"nonterminal\">JJ</text>\n<line x1=\"683.5\" y1=\"178\" x2=\"683.5\" y2=\"192\" style=\"stroke:rgb(0,0,0);stroke-width:1\"/>\n<text x=\"729.0\" y=\"206\" class=\"terminal\">dog</text>\n<text x=\"729.0\" y=\"174\" class=\"nonterminal\">NN</text>\n<line x1=\"729.0\" y1=\"178\" x2=\"729.0\" y2=\"192\" style=\"stroke:rgb(0,0,0);stroke-width:1\"/>\n<text x=\"688.0\" y=\"142\" class=\"nonterminal\">NP</text>\n<line x1=\"688.0\" y1=\"146\" x2=\"647.0\" y2=\"160\" style=\"stroke:rgb(0,0,0);stroke-width:1\"/>\n<line x1=\"688.0\" y1=\"146\" x2=\"683.5\" y2=\"160\" style=\"stroke:rgb(0,0,0);stroke-width:1\"/>\n<line x1=\"688.0\" y1=\"146\" x2=\"729.0\" y2=\"160\" style=\"stroke:rgb(0,0,0);stroke-width:1\"/>\n<text x=\"649.25\" y=\"110\" class=\"nonterminal\">VP</text>\n<line x1=\"649.25\" y1=\"114\" x2=\"610.5\" y2=\"128\" style=\"stroke:rgb(0,0,0);stroke-width:1\"/>\n<line x1=\"649.25\" y1=\"114\" x2=\"688.0\" y2=\"128\" style=\"stroke:rgb(0,0,0);stroke-width:1\"/>\n<text x=\"523.6875\" y=\"78\" class=\"nonterminal\">NP</text>\n<line x1=\"523.6875\" y1=\"82\" x2=\"398.125\" y2=\"96\" style=\"stroke:rgb(0,0,0);stroke-width:1\"/>\n<line x1=\"523.6875\" y1=\"82\" x2=\"565.0\" y2=\"96\" style=\"stroke:rgb(0,0,0);stroke-width:1\"/>\n<line x1=\"523.6875\" y1=\"82\" x2=\"649.25\" y2=\"96\" style=\"stroke:rgb(0,0,0);stroke-width:1\"/>\n<text x=\"382.59375\" y=\"46\" class=\"nonterminal\">VP</text>\n<line x1=\"382.59375\" y1=\"50\" x2=\"241.5\" y2=\"64\" style=\"stroke:rgb(0,0,0);stroke-width:1\"/>\n<line x1=\"382.59375\" y1=\"50\" x2=\"523.6875\" y2=\"64\" style=\"stroke:rgb(0,0,0);stroke-width:1\"/>\n<text x=\"237.109375\" y=\"14\" class=\"nonterminal\">S</text>\n<line x1=\"237.109375\" y1=\"18\" x2=\"91.625\" y2=\"32\" style=\"stroke:rgb(0,0,0);stroke-width:1\"/>\n<line x1=\"237.109375\" y1=\"18\" x2=\"382.59375\" y2=\"32\" style=\"stroke:rgb(0,0,0);stroke-width:1\"/>\n</svg>\n"
          },
          "metadata": {}
        },
        {
          "output_type": "stream",
          "name": "stdout",
          "text": [
            "a dog ate a red dog\n"
          ]
        },
        {
          "output_type": "display_data",
          "data": {
            "text/plain": [
              "<tock.trees.Tree at 0x7f1801fffd90>"
            ],
            "image/svg+xml": "<svg width=\"205.0\" height=\"146\">\n  <style>\n    .nonterminal {\n      font: 14px serif;\n      text-anchor: middle;\n    }\n    .terminal {\n      font: 14px monospace;\n      text-anchor: middle;\n    }\n  </style>\n<text x=\"9.0\" y=\"110\" class=\"terminal\">a</text>\n<text x=\"9.0\" y=\"78\" class=\"nonterminal\">DT</text>\n<line x1=\"9.0\" y1=\"82\" x2=\"9.0\" y2=\"96\" style=\"stroke:rgb(0,0,0);stroke-width:1\"/>\n<text x=\"41.0\" y=\"110\" class=\"terminal\">dog</text>\n<text x=\"41.0\" y=\"78\" class=\"nonterminal\">NN</text>\n<line x1=\"41.0\" y1=\"82\" x2=\"41.0\" y2=\"96\" style=\"stroke:rgb(0,0,0);stroke-width:1\"/>\n<text x=\"25.0\" y=\"46\" class=\"nonterminal\">NP</text>\n<line x1=\"25.0\" y1=\"50\" x2=\"9.0\" y2=\"64\" style=\"stroke:rgb(0,0,0);stroke-width:1\"/>\n<line x1=\"25.0\" y1=\"50\" x2=\"41.0\" y2=\"64\" style=\"stroke:rgb(0,0,0);stroke-width:1\"/>\n<text x=\"82.0\" y=\"110\" class=\"terminal\">ate</text>\n<text x=\"82.0\" y=\"78\" class=\"nonterminal\">V</text>\n<line x1=\"82.0\" y1=\"82\" x2=\"82.0\" y2=\"96\" style=\"stroke:rgb(0,0,0);stroke-width:1\"/>\n<text x=\"118.5\" y=\"142\" class=\"terminal\">a</text>\n<text x=\"118.5\" y=\"110\" class=\"nonterminal\">DT</text>\n<line x1=\"118.5\" y1=\"114\" x2=\"118.5\" y2=\"128\" style=\"stroke:rgb(0,0,0);stroke-width:1\"/>\n<text x=\"150.5\" y=\"142\" class=\"terminal\">red</text>\n<text x=\"150.5\" y=\"110\" class=\"nonterminal\">JJ</text>\n<line x1=\"150.5\" y1=\"114\" x2=\"150.5\" y2=\"128\" style=\"stroke:rgb(0,0,0);stroke-width:1\"/>\n<text x=\"191.5\" y=\"142\" class=\"terminal\">dog</text>\n<text x=\"191.5\" y=\"110\" class=\"nonterminal\">NN</text>\n<line x1=\"191.5\" y1=\"114\" x2=\"191.5\" y2=\"128\" style=\"stroke:rgb(0,0,0);stroke-width:1\"/>\n<text x=\"155.0\" y=\"78\" class=\"nonterminal\">NP</text>\n<line x1=\"155.0\" y1=\"82\" x2=\"118.5\" y2=\"96\" style=\"stroke:rgb(0,0,0);stroke-width:1\"/>\n<line x1=\"155.0\" y1=\"82\" x2=\"150.5\" y2=\"96\" style=\"stroke:rgb(0,0,0);stroke-width:1\"/>\n<line x1=\"155.0\" y1=\"82\" x2=\"191.5\" y2=\"96\" style=\"stroke:rgb(0,0,0);stroke-width:1\"/>\n<text x=\"118.5\" y=\"46\" class=\"nonterminal\">VP</text>\n<line x1=\"118.5\" y1=\"50\" x2=\"82.0\" y2=\"64\" style=\"stroke:rgb(0,0,0);stroke-width:1\"/>\n<line x1=\"118.5\" y1=\"50\" x2=\"155.0\" y2=\"64\" style=\"stroke:rgb(0,0,0);stroke-width:1\"/>\n<text x=\"71.75\" y=\"14\" class=\"nonterminal\">S</text>\n<line x1=\"71.75\" y1=\"18\" x2=\"25.0\" y2=\"32\" style=\"stroke:rgb(0,0,0);stroke-width:1\"/>\n<line x1=\"71.75\" y1=\"18\" x2=\"118.5\" y2=\"32\" style=\"stroke:rgb(0,0,0);stroke-width:1\"/>\n</svg>\n"
          },
          "metadata": {}
        },
        {
          "output_type": "stream",
          "name": "stdout",
          "text": [
            "a cat ate a cat that ate a blue cat that ate a cat that ate a blue dog\n"
          ]
        },
        {
          "output_type": "display_data",
          "data": {
            "text/plain": [
              "<tock.trees.Tree at 0x7f1802266e20>"
            ],
            "image/svg+xml": "<svg width=\"742.5\" height=\"274\">\n  <style>\n    .nonterminal {\n      font: 14px serif;\n      text-anchor: middle;\n    }\n    .terminal {\n      font: 14px monospace;\n      text-anchor: middle;\n    }\n  </style>\n<text x=\"9.0\" y=\"110\" class=\"terminal\">a</text>\n<text x=\"9.0\" y=\"78\" class=\"nonterminal\">DT</text>\n<line x1=\"9.0\" y1=\"82\" x2=\"9.0\" y2=\"96\" style=\"stroke:rgb(0,0,0);stroke-width:1\"/>\n<text x=\"41.0\" y=\"110\" class=\"terminal\">cat</text>\n<text x=\"41.0\" y=\"78\" class=\"nonterminal\">NN</text>\n<line x1=\"41.0\" y1=\"82\" x2=\"41.0\" y2=\"96\" style=\"stroke:rgb(0,0,0);stroke-width:1\"/>\n<text x=\"25.0\" y=\"46\" class=\"nonterminal\">NP</text>\n<line x1=\"25.0\" y1=\"50\" x2=\"9.0\" y2=\"64\" style=\"stroke:rgb(0,0,0);stroke-width:1\"/>\n<line x1=\"25.0\" y1=\"50\" x2=\"41.0\" y2=\"64\" style=\"stroke:rgb(0,0,0);stroke-width:1\"/>\n<text x=\"82.0\" y=\"110\" class=\"terminal\">ate</text>\n<text x=\"82.0\" y=\"78\" class=\"nonterminal\">V</text>\n<line x1=\"82.0\" y1=\"82\" x2=\"82.0\" y2=\"96\" style=\"stroke:rgb(0,0,0);stroke-width:1\"/>\n<text x=\"118.5\" y=\"238\" class=\"terminal\">a</text>\n<text x=\"118.5\" y=\"206\" class=\"nonterminal\">DT</text>\n<line x1=\"118.5\" y1=\"210\" x2=\"118.5\" y2=\"224\" style=\"stroke:rgb(0,0,0);stroke-width:1\"/>\n<text x=\"150.5\" y=\"238\" class=\"terminal\">cat</text>\n<text x=\"150.5\" y=\"206\" class=\"nonterminal\">NN</text>\n<line x1=\"150.5\" y1=\"210\" x2=\"150.5\" y2=\"224\" style=\"stroke:rgb(0,0,0);stroke-width:1\"/>\n<text x=\"134.5\" y=\"174\" class=\"nonterminal\">NP</text>\n<line x1=\"134.5\" y1=\"178\" x2=\"118.5\" y2=\"192\" style=\"stroke:rgb(0,0,0);stroke-width:1\"/>\n<line x1=\"134.5\" y1=\"178\" x2=\"150.5\" y2=\"192\" style=\"stroke:rgb(0,0,0);stroke-width:1\"/>\n<text x=\"196.0\" y=\"174\" class=\"terminal\">that</text>\n<text x=\"241.5\" y=\"238\" class=\"terminal\">ate</text>\n<text x=\"241.5\" y=\"206\" class=\"nonterminal\">V</text>\n<line x1=\"241.5\" y1=\"210\" x2=\"241.5\" y2=\"224\" style=\"stroke:rgb(0,0,0);stroke-width:1\"/>\n<text x=\"278.0\" y=\"270\" class=\"terminal\">a</text>\n<text x=\"278.0\" y=\"238\" class=\"nonterminal\">DT</text>\n<line x1=\"278.0\" y1=\"242\" x2=\"278.0\" y2=\"256\" style=\"stroke:rgb(0,0,0);stroke-width:1\"/>\n<text x=\"314.5\" y=\"270\" class=\"terminal\">blue</text>\n<text x=\"314.5\" y=\"238\" class=\"nonterminal\">JJ</text>\n<line x1=\"314.5\" y1=\"242\" x2=\"314.5\" y2=\"256\" style=\"stroke:rgb(0,0,0);stroke-width:1\"/>\n<text x=\"360.0\" y=\"270\" class=\"terminal\">cat</text>\n<text x=\"360.0\" y=\"238\" class=\"nonterminal\">NN</text>\n<line x1=\"360.0\" y1=\"242\" x2=\"360.0\" y2=\"256\" style=\"stroke:rgb(0,0,0);stroke-width:1\"/>\n<text x=\"319.0\" y=\"206\" class=\"nonterminal\">NP</text>\n<line x1=\"319.0\" y1=\"210\" x2=\"278.0\" y2=\"224\" style=\"stroke:rgb(0,0,0);stroke-width:1\"/>\n<line x1=\"319.0\" y1=\"210\" x2=\"314.5\" y2=\"224\" style=\"stroke:rgb(0,0,0);stroke-width:1\"/>\n<line x1=\"319.0\" y1=\"210\" x2=\"360.0\" y2=\"224\" style=\"stroke:rgb(0,0,0);stroke-width:1\"/>\n<text x=\"280.25\" y=\"174\" class=\"nonterminal\">VP</text>\n<line x1=\"280.25\" y1=\"178\" x2=\"241.5\" y2=\"192\" style=\"stroke:rgb(0,0,0);stroke-width:1\"/>\n<line x1=\"280.25\" y1=\"178\" x2=\"319.0\" y2=\"192\" style=\"stroke:rgb(0,0,0);stroke-width:1\"/>\n<text x=\"207.375\" y=\"142\" class=\"nonterminal\">NP</text>\n<line x1=\"207.375\" y1=\"146\" x2=\"134.5\" y2=\"160\" style=\"stroke:rgb(0,0,0);stroke-width:1\"/>\n<line x1=\"207.375\" y1=\"146\" x2=\"196.0\" y2=\"160\" style=\"stroke:rgb(0,0,0);stroke-width:1\"/>\n<line x1=\"207.375\" y1=\"146\" x2=\"280.25\" y2=\"160\" style=\"stroke:rgb(0,0,0);stroke-width:1\"/>\n<text x=\"405.5\" y=\"142\" class=\"terminal\">that</text>\n<text x=\"451.0\" y=\"206\" class=\"terminal\">ate</text>\n<text x=\"451.0\" y=\"174\" class=\"nonterminal\">V</text>\n<line x1=\"451.0\" y1=\"178\" x2=\"451.0\" y2=\"192\" style=\"stroke:rgb(0,0,0);stroke-width:1\"/>\n<text x=\"487.5\" y=\"238\" class=\"terminal\">a</text>\n<text x=\"487.5\" y=\"206\" class=\"nonterminal\">DT</text>\n<line x1=\"487.5\" y1=\"210\" x2=\"487.5\" y2=\"224\" style=\"stroke:rgb(0,0,0);stroke-width:1\"/>\n<text x=\"519.5\" y=\"238\" class=\"terminal\">cat</text>\n<text x=\"519.5\" y=\"206\" class=\"nonterminal\">NN</text>\n<line x1=\"519.5\" y1=\"210\" x2=\"519.5\" y2=\"224\" style=\"stroke:rgb(0,0,0);stroke-width:1\"/>\n<text x=\"503.5\" y=\"174\" class=\"nonterminal\">NP</text>\n<line x1=\"503.5\" y1=\"178\" x2=\"487.5\" y2=\"192\" style=\"stroke:rgb(0,0,0);stroke-width:1\"/>\n<line x1=\"503.5\" y1=\"178\" x2=\"519.5\" y2=\"192\" style=\"stroke:rgb(0,0,0);stroke-width:1\"/>\n<text x=\"477.25\" y=\"142\" class=\"nonterminal\">VP</text>\n<line x1=\"477.25\" y1=\"146\" x2=\"451.0\" y2=\"160\" style=\"stroke:rgb(0,0,0);stroke-width:1\"/>\n<line x1=\"477.25\" y1=\"146\" x2=\"503.5\" y2=\"160\" style=\"stroke:rgb(0,0,0);stroke-width:1\"/>\n<text x=\"342.3125\" y=\"110\" class=\"nonterminal\">NP</text>\n<line x1=\"342.3125\" y1=\"114\" x2=\"207.375\" y2=\"128\" style=\"stroke:rgb(0,0,0);stroke-width:1\"/>\n<line x1=\"342.3125\" y1=\"114\" x2=\"405.5\" y2=\"128\" style=\"stroke:rgb(0,0,0);stroke-width:1\"/>\n<line x1=\"342.3125\" y1=\"114\" x2=\"477.25\" y2=\"128\" style=\"stroke:rgb(0,0,0);stroke-width:1\"/>\n<text x=\"565.0\" y=\"110\" class=\"terminal\">that</text>\n<text x=\"610.5\" y=\"174\" class=\"terminal\">ate</text>\n<text x=\"610.5\" y=\"142\" class=\"nonterminal\">V</text>\n<line x1=\"610.5\" y1=\"146\" x2=\"610.5\" y2=\"160\" style=\"stroke:rgb(0,0,0);stroke-width:1\"/>\n<text x=\"647.0\" y=\"206\" class=\"terminal\">a</text>\n<text x=\"647.0\" y=\"174\" class=\"nonterminal\">DT</text>\n<line x1=\"647.0\" y1=\"178\" x2=\"647.0\" y2=\"192\" style=\"stroke:rgb(0,0,0);stroke-width:1\"/>\n<text x=\"683.5\" y=\"206\" class=\"terminal\">blue</text>\n<text x=\"683.5\" y=\"174\" class=\"nonterminal\">JJ</text>\n<line x1=\"683.5\" y1=\"178\" x2=\"683.5\" y2=\"192\" style=\"stroke:rgb(0,0,0);stroke-width:1\"/>\n<text x=\"729.0\" y=\"206\" class=\"terminal\">dog</text>\n<text x=\"729.0\" y=\"174\" class=\"nonterminal\">NN</text>\n<line x1=\"729.0\" y1=\"178\" x2=\"729.0\" y2=\"192\" style=\"stroke:rgb(0,0,0);stroke-width:1\"/>\n<text x=\"688.0\" y=\"142\" class=\"nonterminal\">NP</text>\n<line x1=\"688.0\" y1=\"146\" x2=\"647.0\" y2=\"160\" style=\"stroke:rgb(0,0,0);stroke-width:1\"/>\n<line x1=\"688.0\" y1=\"146\" x2=\"683.5\" y2=\"160\" style=\"stroke:rgb(0,0,0);stroke-width:1\"/>\n<line x1=\"688.0\" y1=\"146\" x2=\"729.0\" y2=\"160\" style=\"stroke:rgb(0,0,0);stroke-width:1\"/>\n<text x=\"649.25\" y=\"110\" class=\"nonterminal\">VP</text>\n<line x1=\"649.25\" y1=\"114\" x2=\"610.5\" y2=\"128\" style=\"stroke:rgb(0,0,0);stroke-width:1\"/>\n<line x1=\"649.25\" y1=\"114\" x2=\"688.0\" y2=\"128\" style=\"stroke:rgb(0,0,0);stroke-width:1\"/>\n<text x=\"495.78125\" y=\"78\" class=\"nonterminal\">NP</text>\n<line x1=\"495.78125\" y1=\"82\" x2=\"342.3125\" y2=\"96\" style=\"stroke:rgb(0,0,0);stroke-width:1\"/>\n<line x1=\"495.78125\" y1=\"82\" x2=\"565.0\" y2=\"96\" style=\"stroke:rgb(0,0,0);stroke-width:1\"/>\n<line x1=\"495.78125\" y1=\"82\" x2=\"649.25\" y2=\"96\" style=\"stroke:rgb(0,0,0);stroke-width:1\"/>\n<text x=\"288.890625\" y=\"46\" class=\"nonterminal\">VP</text>\n<line x1=\"288.890625\" y1=\"50\" x2=\"82.0\" y2=\"64\" style=\"stroke:rgb(0,0,0);stroke-width:1\"/>\n<line x1=\"288.890625\" y1=\"50\" x2=\"495.78125\" y2=\"64\" style=\"stroke:rgb(0,0,0);stroke-width:1\"/>\n<text x=\"156.9453125\" y=\"14\" class=\"nonterminal\">S</text>\n<line x1=\"156.9453125\" y1=\"18\" x2=\"25.0\" y2=\"32\" style=\"stroke:rgb(0,0,0);stroke-width:1\"/>\n<line x1=\"156.9453125\" y1=\"18\" x2=\"288.890625\" y2=\"32\" style=\"stroke:rgb(0,0,0);stroke-width:1\"/>\n</svg>\n"
          },
          "metadata": {}
        },
        {
          "output_type": "stream",
          "name": "stdout",
          "text": [
            "a dog ate a dog\n"
          ]
        },
        {
          "output_type": "display_data",
          "data": {
            "text/plain": [
              "<tock.trees.Tree at 0x7f18024c35b0>"
            ],
            "image/svg+xml": "<svg width=\"164.0\" height=\"146\">\n  <style>\n    .nonterminal {\n      font: 14px serif;\n      text-anchor: middle;\n    }\n    .terminal {\n      font: 14px monospace;\n      text-anchor: middle;\n    }\n  </style>\n<text x=\"9.0\" y=\"110\" class=\"terminal\">a</text>\n<text x=\"9.0\" y=\"78\" class=\"nonterminal\">DT</text>\n<line x1=\"9.0\" y1=\"82\" x2=\"9.0\" y2=\"96\" style=\"stroke:rgb(0,0,0);stroke-width:1\"/>\n<text x=\"41.0\" y=\"110\" class=\"terminal\">dog</text>\n<text x=\"41.0\" y=\"78\" class=\"nonterminal\">NN</text>\n<line x1=\"41.0\" y1=\"82\" x2=\"41.0\" y2=\"96\" style=\"stroke:rgb(0,0,0);stroke-width:1\"/>\n<text x=\"25.0\" y=\"46\" class=\"nonterminal\">NP</text>\n<line x1=\"25.0\" y1=\"50\" x2=\"9.0\" y2=\"64\" style=\"stroke:rgb(0,0,0);stroke-width:1\"/>\n<line x1=\"25.0\" y1=\"50\" x2=\"41.0\" y2=\"64\" style=\"stroke:rgb(0,0,0);stroke-width:1\"/>\n<text x=\"82.0\" y=\"110\" class=\"terminal\">ate</text>\n<text x=\"82.0\" y=\"78\" class=\"nonterminal\">V</text>\n<line x1=\"82.0\" y1=\"82\" x2=\"82.0\" y2=\"96\" style=\"stroke:rgb(0,0,0);stroke-width:1\"/>\n<text x=\"118.5\" y=\"142\" class=\"terminal\">a</text>\n<text x=\"118.5\" y=\"110\" class=\"nonterminal\">DT</text>\n<line x1=\"118.5\" y1=\"114\" x2=\"118.5\" y2=\"128\" style=\"stroke:rgb(0,0,0);stroke-width:1\"/>\n<text x=\"150.5\" y=\"142\" class=\"terminal\">dog</text>\n<text x=\"150.5\" y=\"110\" class=\"nonterminal\">NN</text>\n<line x1=\"150.5\" y1=\"114\" x2=\"150.5\" y2=\"128\" style=\"stroke:rgb(0,0,0);stroke-width:1\"/>\n<text x=\"134.5\" y=\"78\" class=\"nonterminal\">NP</text>\n<line x1=\"134.5\" y1=\"82\" x2=\"118.5\" y2=\"96\" style=\"stroke:rgb(0,0,0);stroke-width:1\"/>\n<line x1=\"134.5\" y1=\"82\" x2=\"150.5\" y2=\"96\" style=\"stroke:rgb(0,0,0);stroke-width:1\"/>\n<text x=\"108.25\" y=\"46\" class=\"nonterminal\">VP</text>\n<line x1=\"108.25\" y1=\"50\" x2=\"82.0\" y2=\"64\" style=\"stroke:rgb(0,0,0);stroke-width:1\"/>\n<line x1=\"108.25\" y1=\"50\" x2=\"134.5\" y2=\"64\" style=\"stroke:rgb(0,0,0);stroke-width:1\"/>\n<text x=\"66.625\" y=\"14\" class=\"nonterminal\">S</text>\n<line x1=\"66.625\" y1=\"18\" x2=\"25.0\" y2=\"32\" style=\"stroke:rgb(0,0,0);stroke-width:1\"/>\n<line x1=\"66.625\" y1=\"18\" x2=\"108.25\" y2=\"32\" style=\"stroke:rgb(0,0,0);stroke-width:1\"/>\n</svg>\n"
          },
          "metadata": {}
        },
        {
          "output_type": "stream",
          "name": "stdout",
          "text": [
            "a dog ate a blue cat that saw a cat\n"
          ]
        },
        {
          "output_type": "display_data",
          "data": {
            "text/plain": [
              "<tock.trees.Tree at 0x7f1802599d90>"
            ],
            "image/svg+xml": "<svg width=\"373.5\" height=\"210\">\n  <style>\n    .nonterminal {\n      font: 14px serif;\n      text-anchor: middle;\n    }\n    .terminal {\n      font: 14px monospace;\n      text-anchor: middle;\n    }\n  </style>\n<text x=\"9.0\" y=\"110\" class=\"terminal\">a</text>\n<text x=\"9.0\" y=\"78\" class=\"nonterminal\">DT</text>\n<line x1=\"9.0\" y1=\"82\" x2=\"9.0\" y2=\"96\" style=\"stroke:rgb(0,0,0);stroke-width:1\"/>\n<text x=\"41.0\" y=\"110\" class=\"terminal\">dog</text>\n<text x=\"41.0\" y=\"78\" class=\"nonterminal\">NN</text>\n<line x1=\"41.0\" y1=\"82\" x2=\"41.0\" y2=\"96\" style=\"stroke:rgb(0,0,0);stroke-width:1\"/>\n<text x=\"25.0\" y=\"46\" class=\"nonterminal\">NP</text>\n<line x1=\"25.0\" y1=\"50\" x2=\"9.0\" y2=\"64\" style=\"stroke:rgb(0,0,0);stroke-width:1\"/>\n<line x1=\"25.0\" y1=\"50\" x2=\"41.0\" y2=\"64\" style=\"stroke:rgb(0,0,0);stroke-width:1\"/>\n<text x=\"82.0\" y=\"110\" class=\"terminal\">ate</text>\n<text x=\"82.0\" y=\"78\" class=\"nonterminal\">V</text>\n<line x1=\"82.0\" y1=\"82\" x2=\"82.0\" y2=\"96\" style=\"stroke:rgb(0,0,0);stroke-width:1\"/>\n<text x=\"118.5\" y=\"174\" class=\"terminal\">a</text>\n<text x=\"118.5\" y=\"142\" class=\"nonterminal\">DT</text>\n<line x1=\"118.5\" y1=\"146\" x2=\"118.5\" y2=\"160\" style=\"stroke:rgb(0,0,0);stroke-width:1\"/>\n<text x=\"155.0\" y=\"174\" class=\"terminal\">blue</text>\n<text x=\"155.0\" y=\"142\" class=\"nonterminal\">JJ</text>\n<line x1=\"155.0\" y1=\"146\" x2=\"155.0\" y2=\"160\" style=\"stroke:rgb(0,0,0);stroke-width:1\"/>\n<text x=\"200.5\" y=\"174\" class=\"terminal\">cat</text>\n<text x=\"200.5\" y=\"142\" class=\"nonterminal\">NN</text>\n<line x1=\"200.5\" y1=\"146\" x2=\"200.5\" y2=\"160\" style=\"stroke:rgb(0,0,0);stroke-width:1\"/>\n<text x=\"159.5\" y=\"110\" class=\"nonterminal\">NP</text>\n<line x1=\"159.5\" y1=\"114\" x2=\"118.5\" y2=\"128\" style=\"stroke:rgb(0,0,0);stroke-width:1\"/>\n<line x1=\"159.5\" y1=\"114\" x2=\"155.0\" y2=\"128\" style=\"stroke:rgb(0,0,0);stroke-width:1\"/>\n<line x1=\"159.5\" y1=\"114\" x2=\"200.5\" y2=\"128\" style=\"stroke:rgb(0,0,0);stroke-width:1\"/>\n<text x=\"246.0\" y=\"110\" class=\"terminal\">that</text>\n<text x=\"291.5\" y=\"174\" class=\"terminal\">saw</text>\n<text x=\"291.5\" y=\"142\" class=\"nonterminal\">V</text>\n<line x1=\"291.5\" y1=\"146\" x2=\"291.5\" y2=\"160\" style=\"stroke:rgb(0,0,0);stroke-width:1\"/>\n<text x=\"328.0\" y=\"206\" class=\"terminal\">a</text>\n<text x=\"328.0\" y=\"174\" class=\"nonterminal\">DT</text>\n<line x1=\"328.0\" y1=\"178\" x2=\"328.0\" y2=\"192\" style=\"stroke:rgb(0,0,0);stroke-width:1\"/>\n<text x=\"360.0\" y=\"206\" class=\"terminal\">cat</text>\n<text x=\"360.0\" y=\"174\" class=\"nonterminal\">NN</text>\n<line x1=\"360.0\" y1=\"178\" x2=\"360.0\" y2=\"192\" style=\"stroke:rgb(0,0,0);stroke-width:1\"/>\n<text x=\"344.0\" y=\"142\" class=\"nonterminal\">NP</text>\n<line x1=\"344.0\" y1=\"146\" x2=\"328.0\" y2=\"160\" style=\"stroke:rgb(0,0,0);stroke-width:1\"/>\n<line x1=\"344.0\" y1=\"146\" x2=\"360.0\" y2=\"160\" style=\"stroke:rgb(0,0,0);stroke-width:1\"/>\n<text x=\"317.75\" y=\"110\" class=\"nonterminal\">VP</text>\n<line x1=\"317.75\" y1=\"114\" x2=\"291.5\" y2=\"128\" style=\"stroke:rgb(0,0,0);stroke-width:1\"/>\n<line x1=\"317.75\" y1=\"114\" x2=\"344.0\" y2=\"128\" style=\"stroke:rgb(0,0,0);stroke-width:1\"/>\n<text x=\"238.625\" y=\"78\" class=\"nonterminal\">NP</text>\n<line x1=\"238.625\" y1=\"82\" x2=\"159.5\" y2=\"96\" style=\"stroke:rgb(0,0,0);stroke-width:1\"/>\n<line x1=\"238.625\" y1=\"82\" x2=\"246.0\" y2=\"96\" style=\"stroke:rgb(0,0,0);stroke-width:1\"/>\n<line x1=\"238.625\" y1=\"82\" x2=\"317.75\" y2=\"96\" style=\"stroke:rgb(0,0,0);stroke-width:1\"/>\n<text x=\"160.3125\" y=\"46\" class=\"nonterminal\">VP</text>\n<line x1=\"160.3125\" y1=\"50\" x2=\"82.0\" y2=\"64\" style=\"stroke:rgb(0,0,0);stroke-width:1\"/>\n<line x1=\"160.3125\" y1=\"50\" x2=\"238.625\" y2=\"64\" style=\"stroke:rgb(0,0,0);stroke-width:1\"/>\n<text x=\"92.65625\" y=\"14\" class=\"nonterminal\">S</text>\n<line x1=\"92.65625\" y1=\"18\" x2=\"25.0\" y2=\"32\" style=\"stroke:rgb(0,0,0);stroke-width:1\"/>\n<line x1=\"92.65625\" y1=\"18\" x2=\"160.3125\" y2=\"32\" style=\"stroke:rgb(0,0,0);stroke-width:1\"/>\n</svg>\n"
          },
          "metadata": {}
        }
      ],
      "source": [
        "import random\n",
        "def sample(g):\n",
        "    \"\"\"Generate a random string from a CFG.\"\"\"\n",
        "    rules = {n:[] for n in g.nonterminals}\n",
        "    for lhs, rhs in g.rules:\n",
        "        rules[lhs[0]].append(list(rhs))\n",
        "    x = []\n",
        "    y = [g.start_nonterminal]\n",
        "    while len(y) > 0:\n",
        "        a = y.pop(0)\n",
        "        if a in g.nonterminals:\n",
        "            y = random.choice(rules[a]) + y\n",
        "        else:\n",
        "            x.append(a)\n",
        "    return x\n",
        "\n",
        "for i in range(5):\n",
        "    w = sample(g2)\n",
        "    print(' '.join(w))\n",
        "    display(any_parse(g2, w))"
      ]
    },
    {
      "cell_type": "markdown",
      "metadata": {
        "id": "hkftcXGpW6kn"
      },
      "source": [
        "## A programming language example\n",
        "\n",
        "You can see a CFG for C in the [draft standard](http://www.open-std.org/jtc1/sc22/wg14/www/docs/n1570.pdf), starting on page 458, or as a [YACC grammar](http://www.quut.com/c/ANSI-C-grammar-y.html).\n",
        "\n",
        "The book shows a CFG for arithmetic expressions. Let's imagine a simpler version first. Unfortunately Tock makes us write the symbols out as words:"
      ]
    },
    {
      "cell_type": "code",
      "execution_count": null,
      "metadata": {
        "id": "Z1HuS6pjW6kn",
        "outputId": "7d41582f-5e96-4b63-c3c8-dc74c9e16c0c",
        "colab": {
          "base_uri": "https://localhost:8080/",
          "height": 119
        }
      },
      "outputs": [
        {
          "output_type": "execute_result",
          "data": {
            "text/plain": [
              "<tock.grammars.Grammar at 0x7f1818058f70>"
            ],
            "text/html": [
              "nonterminals: {E}<br>\n",
              "start: E<br>\n",
              "E &rarr; E plus E<br>\n",
              "E &rarr; E times E<br>\n",
              "E &rarr; left E right<br>\n",
              "E &rarr; 3"
            ]
          },
          "metadata": {},
          "execution_count": 7
        }
      ],
      "source": [
        "g3 = Grammar.from_lines([\n",
        "    'E -> E plus E',\n",
        "    'E -> E times E',\n",
        "    'E -> left E right',\n",
        "    'E -> 3'\n",
        "])\n",
        "g3"
      ]
    },
    {
      "cell_type": "markdown",
      "metadata": {
        "id": "TQ7ILIHxW6ko"
      },
      "source": [
        "This generates syntactically correct strings like $\\texttt{3+3*3}$, but there's a problem. First, the grammar is *ambiguous* because there is more than one way to derive $\\texttt{3+3*3}$:"
      ]
    },
    {
      "cell_type": "code",
      "execution_count": null,
      "metadata": {
        "id": "zlBZmldfW6ko",
        "outputId": "78793a6e-d488-4eed-e264-e77f8e673021",
        "colab": {
          "base_uri": "https://localhost:8080/",
          "height": 253
        }
      },
      "outputs": [
        {
          "output_type": "display_data",
          "data": {
            "text/plain": [
              "<tock.trees.Tree at 0x7f1802235d90>"
            ],
            "image/svg+xml": "<svg width=\"164\" height=\"114\">\n  <style>\n    .nonterminal {\n      font: 14px serif;\n      text-anchor: middle;\n    }\n    .terminal {\n      font: 14px monospace;\n      text-anchor: middle;\n    }\n  </style>\n<text x=\"4.5\" y=\"110\" class=\"terminal\">3</text>\n<text x=\"4.5\" y=\"78\" class=\"nonterminal\">E</text>\n<line x1=\"4.5\" y1=\"82\" x2=\"4.5\" y2=\"96\" style=\"stroke:rgb(0,0,0);stroke-width:1\"/>\n<text x=\"41.0\" y=\"78\" class=\"terminal\">plus</text>\n<text x=\"77.5\" y=\"110\" class=\"terminal\">3</text>\n<text x=\"77.5\" y=\"78\" class=\"nonterminal\">E</text>\n<line x1=\"77.5\" y1=\"82\" x2=\"77.5\" y2=\"96\" style=\"stroke:rgb(0,0,0);stroke-width:1\"/>\n<text x=\"41.0\" y=\"46\" class=\"nonterminal\">E</text>\n<line x1=\"41.0\" y1=\"50\" x2=\"4.5\" y2=\"64\" style=\"stroke:rgb(0,0,0);stroke-width:1\"/>\n<line x1=\"41.0\" y1=\"50\" x2=\"41.0\" y2=\"64\" style=\"stroke:rgb(0,0,0);stroke-width:1\"/>\n<line x1=\"41.0\" y1=\"50\" x2=\"77.5\" y2=\"64\" style=\"stroke:rgb(0,0,0);stroke-width:1\"/>\n<text x=\"118.5\" y=\"46\" class=\"terminal\">times</text>\n<text x=\"159.5\" y=\"78\" class=\"terminal\">3</text>\n<text x=\"159.5\" y=\"46\" class=\"nonterminal\">E</text>\n<line x1=\"159.5\" y1=\"50\" x2=\"159.5\" y2=\"64\" style=\"stroke:rgb(0,0,0);stroke-width:1\"/>\n<text x=\"100.25\" y=\"14\" class=\"nonterminal\">E</text>\n<line x1=\"100.25\" y1=\"18\" x2=\"41.0\" y2=\"32\" style=\"stroke:rgb(0,0,0);stroke-width:1\"/>\n<line x1=\"100.25\" y1=\"18\" x2=\"118.5\" y2=\"32\" style=\"stroke:rgb(0,0,0);stroke-width:1\"/>\n<line x1=\"100.25\" y1=\"18\" x2=\"159.5\" y2=\"32\" style=\"stroke:rgb(0,0,0);stroke-width:1\"/>\n</svg>\n"
          },
          "metadata": {}
        },
        {
          "output_type": "display_data",
          "data": {
            "text/plain": [
              "<tock.trees.Tree at 0x7f1802593f40>"
            ],
            "image/svg+xml": "<svg width=\"164\" height=\"114\">\n  <style>\n    .nonterminal {\n      font: 14px serif;\n      text-anchor: middle;\n    }\n    .terminal {\n      font: 14px monospace;\n      text-anchor: middle;\n    }\n  </style>\n<text x=\"4.5\" y=\"78\" class=\"terminal\">3</text>\n<text x=\"4.5\" y=\"46\" class=\"nonterminal\">E</text>\n<line x1=\"4.5\" y1=\"50\" x2=\"4.5\" y2=\"64\" style=\"stroke:rgb(0,0,0);stroke-width:1\"/>\n<text x=\"41.0\" y=\"46\" class=\"terminal\">plus</text>\n<text x=\"77.5\" y=\"110\" class=\"terminal\">3</text>\n<text x=\"77.5\" y=\"78\" class=\"nonterminal\">E</text>\n<line x1=\"77.5\" y1=\"82\" x2=\"77.5\" y2=\"96\" style=\"stroke:rgb(0,0,0);stroke-width:1\"/>\n<text x=\"118.5\" y=\"78\" class=\"terminal\">times</text>\n<text x=\"159.5\" y=\"110\" class=\"terminal\">3</text>\n<text x=\"159.5\" y=\"78\" class=\"nonterminal\">E</text>\n<line x1=\"159.5\" y1=\"82\" x2=\"159.5\" y2=\"96\" style=\"stroke:rgb(0,0,0);stroke-width:1\"/>\n<text x=\"118.5\" y=\"46\" class=\"nonterminal\">E</text>\n<line x1=\"118.5\" y1=\"50\" x2=\"77.5\" y2=\"64\" style=\"stroke:rgb(0,0,0);stroke-width:1\"/>\n<line x1=\"118.5\" y1=\"50\" x2=\"118.5\" y2=\"64\" style=\"stroke:rgb(0,0,0);stroke-width:1\"/>\n<line x1=\"118.5\" y1=\"50\" x2=\"159.5\" y2=\"64\" style=\"stroke:rgb(0,0,0);stroke-width:1\"/>\n<text x=\"61.5\" y=\"14\" class=\"nonterminal\">E</text>\n<line x1=\"61.5\" y1=\"18\" x2=\"4.5\" y2=\"32\" style=\"stroke:rgb(0,0,0);stroke-width:1\"/>\n<line x1=\"61.5\" y1=\"18\" x2=\"41.0\" y2=\"32\" style=\"stroke:rgb(0,0,0);stroke-width:1\"/>\n<line x1=\"61.5\" y1=\"18\" x2=\"118.5\" y2=\"32\" style=\"stroke:rgb(0,0,0);stroke-width:1\"/>\n</svg>\n"
          },
          "metadata": {}
        }
      ],
      "source": [
        "for tree in all_parses(g3, '3 plus 3 times 3'):\n",
        "    display(tree)"
      ]
    },
    {
      "cell_type": "markdown",
      "metadata": {
        "id": "FvqkOBMBW6kp"
      },
      "source": [
        "Ambiguity is ubiquitous is natural language, but in programming languages, it is generally considered a bad thing.\n",
        "\n",
        "Compilers and interpreters usually process syntax trees bottom-up: the translation or value of a node is computed from the translation/value of its children. So the natural interpretation of one of these trees is $3+(3\\times3)=12$, while the natural interpretation of the other is $(3+3)\\times3=18$. If we want the standard order of operations, we only want the former.\n",
        "\n",
        "Various solutions to this problem exist, but the one that uses pure context free grammars is to add more nonterminal symbols to make the tree on the right impossible."
      ]
    },
    {
      "cell_type": "code",
      "execution_count": null,
      "metadata": {
        "id": "dignoCbcW6kq",
        "outputId": "50dcf4b6-97aa-4785-c9b7-0cf6276796d6",
        "colab": {
          "base_uri": "https://localhost:8080/",
          "height": 153
        }
      },
      "outputs": [
        {
          "output_type": "execute_result",
          "data": {
            "text/plain": [
              "<tock.grammars.Grammar at 0x7f18025f4d00>"
            ],
            "text/html": [
              "nonterminals: {E,F,T}<br>\n",
              "start: E<br>\n",
              "E &rarr; E plus T<br>\n",
              "E &rarr; T<br>\n",
              "T &rarr; T times F<br>\n",
              "T &rarr; F<br>\n",
              "F &rarr; left E right<br>\n",
              "F &rarr; 3"
            ]
          },
          "metadata": {},
          "execution_count": 9
        }
      ],
      "source": [
        "g4 = Grammar.from_lines([\n",
        "    'E -> E plus T',\n",
        "    'E -> T',\n",
        "    'T -> T times F',\n",
        "    'T -> F',\n",
        "    'F -> left E right',\n",
        "    'F -> 3'\n",
        "])\n",
        "g4"
      ]
    },
    {
      "cell_type": "code",
      "execution_count": null,
      "metadata": {
        "id": "Zws5zXhpW6kq",
        "outputId": "37dac789-39bd-43ff-b397-a498a5985a29",
        "colab": {
          "base_uri": "https://localhost:8080/",
          "height": 167
        }
      },
      "outputs": [
        {
          "output_type": "execute_result",
          "data": {
            "text/plain": [
              "<tock.trees.Tree at 0x7f18025ea340>"
            ],
            "image/svg+xml": "<svg width=\"164\" height=\"146\">\n  <style>\n    .nonterminal {\n      font: 14px serif;\n      text-anchor: middle;\n    }\n    .terminal {\n      font: 14px monospace;\n      text-anchor: middle;\n    }\n  </style>\n<text x=\"4.5\" y=\"142\" class=\"terminal\">3</text>\n<text x=\"4.5\" y=\"110\" class=\"nonterminal\">F</text>\n<line x1=\"4.5\" y1=\"114\" x2=\"4.5\" y2=\"128\" style=\"stroke:rgb(0,0,0);stroke-width:1\"/>\n<text x=\"4.5\" y=\"78\" class=\"nonterminal\">T</text>\n<line x1=\"4.5\" y1=\"82\" x2=\"4.5\" y2=\"96\" style=\"stroke:rgb(0,0,0);stroke-width:1\"/>\n<text x=\"4.5\" y=\"46\" class=\"nonterminal\">E</text>\n<line x1=\"4.5\" y1=\"50\" x2=\"4.5\" y2=\"64\" style=\"stroke:rgb(0,0,0);stroke-width:1\"/>\n<text x=\"41.0\" y=\"46\" class=\"terminal\">plus</text>\n<text x=\"77.5\" y=\"142\" class=\"terminal\">3</text>\n<text x=\"77.5\" y=\"110\" class=\"nonterminal\">F</text>\n<line x1=\"77.5\" y1=\"114\" x2=\"77.5\" y2=\"128\" style=\"stroke:rgb(0,0,0);stroke-width:1\"/>\n<text x=\"77.5\" y=\"78\" class=\"nonterminal\">T</text>\n<line x1=\"77.5\" y1=\"82\" x2=\"77.5\" y2=\"96\" style=\"stroke:rgb(0,0,0);stroke-width:1\"/>\n<text x=\"118.5\" y=\"78\" class=\"terminal\">times</text>\n<text x=\"159.5\" y=\"110\" class=\"terminal\">3</text>\n<text x=\"159.5\" y=\"78\" class=\"nonterminal\">F</text>\n<line x1=\"159.5\" y1=\"82\" x2=\"159.5\" y2=\"96\" style=\"stroke:rgb(0,0,0);stroke-width:1\"/>\n<text x=\"118.5\" y=\"46\" class=\"nonterminal\">T</text>\n<line x1=\"118.5\" y1=\"50\" x2=\"77.5\" y2=\"64\" style=\"stroke:rgb(0,0,0);stroke-width:1\"/>\n<line x1=\"118.5\" y1=\"50\" x2=\"118.5\" y2=\"64\" style=\"stroke:rgb(0,0,0);stroke-width:1\"/>\n<line x1=\"118.5\" y1=\"50\" x2=\"159.5\" y2=\"64\" style=\"stroke:rgb(0,0,0);stroke-width:1\"/>\n<text x=\"61.5\" y=\"14\" class=\"nonterminal\">E</text>\n<line x1=\"61.5\" y1=\"18\" x2=\"4.5\" y2=\"32\" style=\"stroke:rgb(0,0,0);stroke-width:1\"/>\n<line x1=\"61.5\" y1=\"18\" x2=\"41.0\" y2=\"32\" style=\"stroke:rgb(0,0,0);stroke-width:1\"/>\n<line x1=\"61.5\" y1=\"18\" x2=\"118.5\" y2=\"32\" style=\"stroke:rgb(0,0,0);stroke-width:1\"/>\n</svg>\n"
          },
          "metadata": {},
          "execution_count": 10
        }
      ],
      "source": [
        "only_parse(g4, '3 plus 3 times 3')"
      ]
    }
  ],
  "metadata": {
    "kernelspec": {
      "display_name": "Python 3",
      "language": "python",
      "name": "python3"
    },
    "language_info": {
      "codemirror_mode": {
        "name": "ipython",
        "version": 3
      },
      "file_extension": ".py",
      "mimetype": "text/x-python",
      "name": "python",
      "nbconvert_exporter": "python",
      "pygments_lexer": "ipython3",
      "version": "3.8.1"
    },
    "colab": {
      "provenance": [],
      "include_colab_link": true
    }
  },
  "nbformat": 4,
  "nbformat_minor": 0
}
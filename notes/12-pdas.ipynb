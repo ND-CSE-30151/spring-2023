{
  "cells": [
    {
      "cell_type": "markdown",
      "metadata": {
        "id": "view-in-github",
        "colab_type": "text"
      },
      "source": [
        "<a href=\"https://colab.research.google.com/github/ND-CSE-30151/spring-2023/blob/master/notes/12-pdas.ipynb\" target=\"_parent\"><img src=\"https://colab.research.google.com/assets/colab-badge.svg\" alt=\"Open In Colab\"/></a>"
      ]
    },
    {
      "cell_type": "markdown",
      "metadata": {
        "id": "Ctwlp-OeW6kc"
      },
      "source": [
        "# Notebook 12: Pushdown automata"
      ]
    },
    {
      "cell_type": "code",
      "execution_count": null,
      "metadata": {
        "id": "seQzfXc3W6kd",
        "cellView": "form"
      },
      "outputs": [],
      "source": [
        "#@title Setup\n",
        "!pip install -qqq tock\n",
        "from tock import *\n",
        "!test -x /content/theory || git clone --quiet https://github.com/ND-CSE-30151/spring-2023 /content/theory\n",
        "%cd -q /content/theory/notes"
      ]
    },
    {
      "cell_type": "markdown",
      "metadata": {
        "id": "g0Oj5eNyW6kr"
      },
      "source": [
        "## Pushdown automata\n",
        "\n",
        "<div class=\"alert alert-info\">\n",
        "    <p><b>Read</b> Section 2.2, up to but not including \"Equivalence with Context-Free Grammars\".</p>\n",
        "</div>\n",
        "\n",
        "Pushdown automata are equipped with, in addition to the input tape, a *pushdown store*, said to have been inspired by the tray dispenser in a university dining hall. Nowadays, a pushdown store is more commonly known as a stack, which you should be quite familiar with. Here's an example (2.14):"
      ]
    },
    {
      "cell_type": "code",
      "execution_count": null,
      "metadata": {
        "id": "jkIc9J-cW6kr",
        "outputId": "08c01e4a-1756-49a7-a1cf-b2d4c11710e0",
        "colab": {
          "base_uri": "https://localhost:8080/",
          "height": 105
        }
      },
      "outputs": [
        {
          "output_type": "display_data",
          "data": {
            "text/plain": [
              "<IPython.core.display.SVG object>"
            ],
            "image/svg+xml": "<svg xmlns=\"http://www.w3.org/2000/svg\" xmlns:xlink=\"http://www.w3.org/1999/xlink\" width=\"375pt\" height=\"63pt\" viewBox=\"0.00 0.00 375.00 63.00\">\n<g id=\"graph0\" class=\"graph\" transform=\"scale(1 1) rotate(0) translate(4 59)\">\n\n<polygon fill=\"white\" stroke=\"transparent\" points=\"-4,4 -4,-59 371,-59 371,4 -4,4\"/>\n<!-- _START -->\n<g id=\"node1\" class=\"node\">\n\n</g>\n<!-- 0 -->\n<g id=\"node2\" class=\"node\">\n\n<path fill=\"none\" stroke=\"black\" d=\"M53.33,-21C53.33,-21 43.67,-21 43.67,-21 40.83,-21 38,-18.17 38,-15.33 38,-15.33 38,-9.67 38,-9.67 38,-6.83 40.83,-4 43.67,-4 43.67,-4 53.33,-4 53.33,-4 56.17,-4 59,-6.83 59,-9.67 59,-9.67 59,-15.33 59,-15.33 59,-18.17 56.17,-21 53.33,-21\"/>\n<text text-anchor=\"start\" x=\"42\" y=\"-10\" font-family=\"Monospace\" font-size=\"10.00\">q1</text>\n</g>\n<!-- _START&#45;&gt;0 -->\n<g id=\"edge1\" class=\"edge\">\n\n<path fill=\"none\" stroke=\"black\" d=\"M1.13,-12.5C2.79,-12.5 19.6,-12.5 32.5,-12.5\"/>\n<polygon fill=\"black\" stroke=\"black\" points=\"37.74,-12.5 32.74,-14.75 35.24,-12.5 32.74,-12.5 32.74,-12.5 32.74,-12.5 35.24,-12.5 32.74,-10.25 37.74,-12.5 37.74,-12.5\"/>\n</g>\n<!-- 3 -->\n<g id=\"node5\" class=\"node\">\n\n<path fill=\"none\" stroke=\"black\" d=\"M153.33,-21C153.33,-21 143.67,-21 143.67,-21 140.83,-21 138,-18.17 138,-15.33 138,-15.33 138,-9.67 138,-9.67 138,-6.83 140.83,-4 143.67,-4 143.67,-4 153.33,-4 153.33,-4 156.17,-4 159,-6.83 159,-9.67 159,-9.67 159,-15.33 159,-15.33 159,-18.17 156.17,-21 153.33,-21\"/>\n<text text-anchor=\"start\" x=\"142\" y=\"-10\" font-family=\"Monospace\" font-size=\"10.00\">q2</text>\n</g>\n<!-- 0&#45;&gt;3 -->\n<g id=\"edge2\" class=\"edge\">\n\n<path fill=\"none\" stroke=\"black\" d=\"M59.25,-12.5C76.5,-12.5 112.46,-12.5 132.75,-12.5\"/>\n<polygon fill=\"black\" stroke=\"black\" points=\"137.78,-12.5 132.78,-14.75 135.28,-12.5 132.78,-12.5 132.78,-12.5 132.78,-12.5 135.28,-12.5 132.78,-10.25 137.78,-12.5 137.78,-12.5\"/>\n<text text-anchor=\"start\" x=\"80.5\" y=\"-18.3\" font-family=\"Monospace\" font-size=\"9.00\">ε,ε → $</text>\n</g>\n<!-- 1 -->\n<g id=\"node3\" class=\"node\">\n\n<path fill=\"none\" stroke=\"black\" d=\"M357.33,-21C357.33,-21 347.67,-21 347.67,-21 344.83,-21 342,-18.17 342,-15.33 342,-15.33 342,-9.67 342,-9.67 342,-6.83 344.83,-4 347.67,-4 347.67,-4 357.33,-4 357.33,-4 360.17,-4 363,-6.83 363,-9.67 363,-9.67 363,-15.33 363,-15.33 363,-18.17 360.17,-21 357.33,-21\"/>\n<path fill=\"none\" stroke=\"black\" d=\"M358.67,-25C358.67,-25 346.33,-25 346.33,-25 342.17,-25 338,-20.83 338,-16.67 338,-16.67 338,-8.33 338,-8.33 338,-4.17 342.17,0 346.33,0 346.33,0 358.67,0 358.67,0 362.83,0 367,-4.17 367,-8.33 367,-8.33 367,-16.67 367,-16.67 367,-20.83 362.83,-25 358.67,-25\"/>\n<text text-anchor=\"start\" x=\"346\" y=\"-10\" font-family=\"Monospace\" font-size=\"10.00\">q4</text>\n</g>\n<!-- 2 -->\n<g id=\"node4\" class=\"node\">\n\n<path fill=\"none\" stroke=\"black\" d=\"M253.33,-21C253.33,-21 243.67,-21 243.67,-21 240.83,-21 238,-18.17 238,-15.33 238,-15.33 238,-9.67 238,-9.67 238,-6.83 240.83,-4 243.67,-4 243.67,-4 253.33,-4 253.33,-4 256.17,-4 259,-6.83 259,-9.67 259,-9.67 259,-15.33 259,-15.33 259,-18.17 256.17,-21 253.33,-21\"/>\n<text text-anchor=\"start\" x=\"242\" y=\"-10\" font-family=\"Monospace\" font-size=\"10.00\">q3</text>\n</g>\n<!-- 2&#45;&gt;1 -->\n<g id=\"edge6\" class=\"edge\">\n\n<path fill=\"none\" stroke=\"black\" d=\"M259.28,-12.5C276.1,-12.5 310.8,-12.5 332.51,-12.5\"/>\n<polygon fill=\"black\" stroke=\"black\" points=\"337.73,-12.5 332.73,-14.75 335.23,-12.5 332.73,-12.5 332.73,-12.5 332.73,-12.5 335.23,-12.5 332.73,-10.25 337.73,-12.5 337.73,-12.5\"/>\n<text text-anchor=\"start\" x=\"280.5\" y=\"-18.3\" font-family=\"Monospace\" font-size=\"9.00\">ε,$ → ε</text>\n</g>\n<!-- 2&#45;&gt;2 -->\n<g id=\"edge5\" class=\"edge\">\n\n<path fill=\"none\" stroke=\"black\" d=\"M241.05,-21.19C236.93,-29.67 239.42,-39 248.5,-39 255.88,-39 258.9,-32.84 257.57,-25.98\"/>\n<polygon fill=\"black\" stroke=\"black\" points=\"255.95,-21.19 259.68,-25.2 256.75,-23.55 257.55,-25.92 257.55,-25.92 257.55,-25.92 256.75,-23.55 255.42,-26.64 255.95,-21.19 255.95,-21.19\"/>\n<text text-anchor=\"start\" x=\"230.5\" y=\"-44.8\" font-family=\"Monospace\" font-size=\"9.00\">1,0 → ε</text>\n</g>\n<!-- 3&#45;&gt;2 -->\n<g id=\"edge4\" class=\"edge\">\n\n<path fill=\"none\" stroke=\"black\" d=\"M159.25,-12.5C176.5,-12.5 212.46,-12.5 232.75,-12.5\"/>\n<polygon fill=\"black\" stroke=\"black\" points=\"237.78,-12.5 232.78,-14.75 235.28,-12.5 232.78,-12.5 232.78,-12.5 232.78,-12.5 235.28,-12.5 232.78,-10.25 237.78,-12.5 237.78,-12.5\"/>\n<text text-anchor=\"start\" x=\"180.5\" y=\"-18.3\" font-family=\"Monospace\" font-size=\"9.00\">1,0 → ε</text>\n</g>\n<!-- 3&#45;&gt;3 -->\n<g id=\"edge3\" class=\"edge\">\n\n<path fill=\"none\" stroke=\"black\" d=\"M141.05,-21.19C136.93,-29.67 139.42,-39 148.5,-39 155.88,-39 158.9,-32.84 157.57,-25.98\"/>\n<polygon fill=\"black\" stroke=\"black\" points=\"155.95,-21.19 159.68,-25.2 156.75,-23.55 157.55,-25.92 157.55,-25.92 157.55,-25.92 156.75,-23.55 155.42,-26.64 155.95,-21.19 155.95,-21.19\"/>\n<text text-anchor=\"start\" x=\"130.5\" y=\"-44.8\" font-family=\"Monospace\" font-size=\"9.00\">0,ε → 0</text>\n</g>\n</g>\n</svg>"
          },
          "metadata": {}
        }
      ],
      "source": [
        "m1 = read_csv(\"pda-m1.csv\")\n",
        "m1"
      ]
    },
    {
      "cell_type": "markdown",
      "metadata": {
        "id": "JSm6RbdPW6ks"
      },
      "source": [
        "As with NFAs, we have states, including a start state and accept states, and transitions. But the transition labels are different. They're of the form $a, x \\rightarrow y$ where $a$ is the input symbol to read, $x$ is the stack symbol to pop, and $y$ is the stack symbol to push. The PDA can follow the transition if $a$ is the next input symbol and $x$ is the top stack symbol. When it does, it consumes $a$, pops $x$, and pushes $y$.\n",
        "\n",
        "There is such a thing as a nondeterministic PDA and a deterministic PDA, but unlike with finite automata, they are _not_ equivalent: nondeterministic PDAs are more powerful. And PDAs are nondeterministic \"by default\": whenever we say PDA, we always mean a PDA that could be nondeterministic.\n",
        "\n",
        "Let's look at an example run. This happens to be a deterministic PDA."
      ]
    },
    {
      "cell_type": "code",
      "execution_count": null,
      "metadata": {
        "id": "U2Y2ihu3W6ks",
        "outputId": "fd05b4ae-3102-4ceb-ae42-8afd474432f5",
        "colab": {
          "base_uri": "https://localhost:8080/",
          "height": 90
        }
      },
      "outputs": [
        {
          "output_type": "execute_result",
          "data": {
            "text/plain": [
              "<tock.graphs.Path at 0x7f181806a970>"
            ],
            "text/html": [
              "<table style=\"font-family: Monospace, monospace;\">\n",
              "  <tr><td style=\"text-align: left\">q1</td><td style=\"text-align: left\">ε</td><td style=\"text-align: left\">ε</td></tr>\n",
              "  <tr><td style=\"text-align: left\">q2</td><td style=\"text-align: left\">ε</td><td style=\"text-align: left\">$</td></tr>\n",
              "</table>\n",
              "<p>reject</p>"
            ]
          },
          "metadata": {},
          "execution_count": 12
        }
      ],
      "source": [
        "run(m1, \"&\", show_stack=4).only_path()"
      ]
    },
    {
      "cell_type": "markdown",
      "metadata": {
        "id": "MK-dxhoRW6kt"
      },
      "source": [
        "This table shows the state in the first column, the input in the second column (next symbol in square brackets), and the stack in the third column (top symbol in square brackets)."
      ]
    },
    {
      "cell_type": "markdown",
      "metadata": {
        "id": "fNLg37WsW6kt"
      },
      "source": [
        "More examples from the book:"
      ]
    },
    {
      "cell_type": "code",
      "execution_count": null,
      "metadata": {
        "id": "NrbooE3VW6ku",
        "outputId": "635cc280-e9fe-4dc8-92a3-05143d6b4635",
        "colab": {
          "base_uri": "https://localhost:8080/",
          "height": 202
        }
      },
      "outputs": [
        {
          "output_type": "display_data",
          "data": {
            "text/plain": [
              "<IPython.core.display.SVG object>"
            ],
            "image/svg+xml": "<svg xmlns=\"http://www.w3.org/2000/svg\" xmlns:xlink=\"http://www.w3.org/1999/xlink\" width=\"483pt\" height=\"136pt\" viewBox=\"0.00 0.00 483.00 136.00\">\n<g id=\"graph0\" class=\"graph\" transform=\"scale(1 1) rotate(0) translate(4 132)\">\n\n<polygon fill=\"white\" stroke=\"transparent\" points=\"-4,4 -4,-132 479,-132 479,4 -4,4\"/>\n<!-- _START -->\n<g id=\"node1\" class=\"node\">\n\n</g>\n<!-- 1 -->\n<g id=\"node3\" class=\"node\">\n\n<path fill=\"none\" stroke=\"black\" d=\"M53.33,-58C53.33,-58 43.67,-58 43.67,-58 40.83,-58 38,-55.17 38,-52.33 38,-52.33 38,-46.67 38,-46.67 38,-43.83 40.83,-41 43.67,-41 43.67,-41 53.33,-41 53.33,-41 56.17,-41 59,-43.83 59,-46.67 59,-46.67 59,-52.33 59,-52.33 59,-55.17 56.17,-58 53.33,-58\"/>\n<text text-anchor=\"start\" x=\"42\" y=\"-47\" font-family=\"Monospace\" font-size=\"10.00\">q1</text>\n</g>\n<!-- _START&#45;&gt;1 -->\n<g id=\"edge1\" class=\"edge\">\n\n<path fill=\"none\" stroke=\"black\" d=\"M1.13,-49.5C2.79,-49.5 19.6,-49.5 32.5,-49.5\"/>\n<polygon fill=\"black\" stroke=\"black\" points=\"37.74,-49.5 32.74,-51.75 35.24,-49.5 32.74,-49.5 32.74,-49.5 32.74,-49.5 35.24,-49.5 32.74,-47.25 37.74,-49.5 37.74,-49.5\"/>\n</g>\n<!-- 0 -->\n<g id=\"node2\" class=\"node\">\n\n<path fill=\"none\" stroke=\"black\" d=\"M357.33,-94C357.33,-94 347.67,-94 347.67,-94 344.83,-94 342,-91.17 342,-88.33 342,-88.33 342,-82.67 342,-82.67 342,-79.83 344.83,-77 347.67,-77 347.67,-77 357.33,-77 357.33,-77 360.17,-77 363,-79.83 363,-82.67 363,-82.67 363,-88.33 363,-88.33 363,-91.17 360.17,-94 357.33,-94\"/>\n<text text-anchor=\"start\" x=\"346\" y=\"-83\" font-family=\"Monospace\" font-size=\"10.00\">q6</text>\n</g>\n<!-- 0&#45;&gt;0 -->\n<g id=\"edge11\" class=\"edge\">\n\n<path fill=\"none\" stroke=\"black\" d=\"M344.45,-94.19C340.01,-102.67 342.69,-112 352.5,-112 360.47,-112 363.73,-105.84 362.29,-98.98\"/>\n<polygon fill=\"black\" stroke=\"black\" points=\"360.55,-94.19 364.37,-98.11 361.4,-96.53 362.26,-98.88 362.26,-98.88 362.26,-98.88 361.4,-96.53 360.14,-99.65 360.55,-94.19 360.55,-94.19\"/>\n<text text-anchor=\"start\" x=\"334.5\" y=\"-117.8\" font-family=\"Monospace\" font-size=\"9.00\">c,a → ε</text>\n</g>\n<!-- 5 -->\n<g id=\"node7\" class=\"node\">\n\n<path fill=\"none\" stroke=\"black\" d=\"M465.33,-94C465.33,-94 455.67,-94 455.67,-94 452.83,-94 450,-91.17 450,-88.33 450,-88.33 450,-82.67 450,-82.67 450,-79.83 452.83,-77 455.67,-77 455.67,-77 465.33,-77 465.33,-77 468.17,-77 471,-79.83 471,-82.67 471,-82.67 471,-88.33 471,-88.33 471,-91.17 468.17,-94 465.33,-94\"/>\n<path fill=\"none\" stroke=\"black\" d=\"M466.67,-98C466.67,-98 454.33,-98 454.33,-98 450.17,-98 446,-93.83 446,-89.67 446,-89.67 446,-81.33 446,-81.33 446,-77.17 450.17,-73 454.33,-73 454.33,-73 466.67,-73 466.67,-73 470.83,-73 475,-77.17 475,-81.33 475,-81.33 475,-89.67 475,-89.67 475,-93.83 470.83,-98 466.67,-98\"/>\n<text text-anchor=\"start\" x=\"454\" y=\"-83\" font-family=\"Monospace\" font-size=\"10.00\">q7</text>\n</g>\n<!-- 0&#45;&gt;5 -->\n<g id=\"edge12\" class=\"edge\">\n\n<path fill=\"none\" stroke=\"black\" d=\"M363.28,-85.5C380.84,-85.5 417.97,-85.5 440.63,-85.5\"/>\n<polygon fill=\"black\" stroke=\"black\" points=\"445.78,-85.5 440.78,-87.75 443.28,-85.5 440.78,-85.5 440.78,-85.5 440.78,-85.5 443.28,-85.5 440.78,-83.25 445.78,-85.5 445.78,-85.5\"/>\n<text text-anchor=\"start\" x=\"388.5\" y=\"-91.3\" font-family=\"Monospace\" font-size=\"9.00\">ε,$ → ε</text>\n</g>\n<!-- 2 -->\n<g id=\"node4\" class=\"node\">\n\n<path fill=\"none\" stroke=\"black\" d=\"M153.33,-58C153.33,-58 143.67,-58 143.67,-58 140.83,-58 138,-55.17 138,-52.33 138,-52.33 138,-46.67 138,-46.67 138,-43.83 140.83,-41 143.67,-41 143.67,-41 153.33,-41 153.33,-41 156.17,-41 159,-43.83 159,-46.67 159,-46.67 159,-52.33 159,-52.33 159,-55.17 156.17,-58 153.33,-58\"/>\n<text text-anchor=\"start\" x=\"142\" y=\"-47\" font-family=\"Monospace\" font-size=\"10.00\">q2</text>\n</g>\n<!-- 1&#45;&gt;2 -->\n<g id=\"edge2\" class=\"edge\">\n\n<path fill=\"none\" stroke=\"black\" d=\"M59.25,-49.5C76.5,-49.5 112.46,-49.5 132.75,-49.5\"/>\n<polygon fill=\"black\" stroke=\"black\" points=\"137.78,-49.5 132.78,-51.75 135.28,-49.5 132.78,-49.5 132.78,-49.5 132.78,-49.5 135.28,-49.5 132.78,-47.25 137.78,-49.5 137.78,-49.5\"/>\n<text text-anchor=\"start\" x=\"80.5\" y=\"-55.3\" font-family=\"Monospace\" font-size=\"9.00\">ε,ε → $</text>\n</g>\n<!-- 2&#45;&gt;2 -->\n<g id=\"edge3\" class=\"edge\">\n\n<path fill=\"none\" stroke=\"black\" d=\"M141.05,-58.19C136.93,-66.67 139.42,-76 148.5,-76 155.88,-76 158.9,-69.84 157.57,-62.98\"/>\n<polygon fill=\"black\" stroke=\"black\" points=\"155.95,-58.19 159.68,-62.2 156.75,-60.55 157.55,-62.92 157.55,-62.92 157.55,-62.92 156.75,-60.55 155.42,-63.64 155.95,-58.19 155.95,-58.19\"/>\n<text text-anchor=\"start\" x=\"130.5\" y=\"-81.8\" font-family=\"Monospace\" font-size=\"9.00\">a,ε → a</text>\n</g>\n<!-- 4 -->\n<g id=\"node6\" class=\"node\">\n\n<path fill=\"none\" stroke=\"black\" d=\"M253.33,-93C253.33,-93 243.67,-93 243.67,-93 240.83,-93 238,-90.17 238,-87.33 238,-87.33 238,-81.67 238,-81.67 238,-78.83 240.83,-76 243.67,-76 243.67,-76 253.33,-76 253.33,-76 256.17,-76 259,-78.83 259,-81.67 259,-81.67 259,-87.33 259,-87.33 259,-90.17 256.17,-93 253.33,-93\"/>\n<text text-anchor=\"start\" x=\"242\" y=\"-82\" font-family=\"Monospace\" font-size=\"10.00\">q5</text>\n</g>\n<!-- 2&#45;&gt;4 -->\n<g id=\"edge5\" class=\"edge\">\n\n<path fill=\"none\" stroke=\"black\" d=\"M159.25,-52.98C176.57,-59.17 212.76,-72.09 233,-79.32\"/>\n<polygon fill=\"black\" stroke=\"black\" points=\"237.78,-81.03 232.32,-81.47 235.43,-80.19 233.08,-79.35 233.08,-79.35 233.08,-79.35 235.43,-80.19 233.83,-77.23 237.78,-81.03 237.78,-81.03\"/>\n<text text-anchor=\"start\" x=\"180.5\" y=\"-80.3\" font-family=\"Monospace\" font-size=\"9.00\">ε,ε → ε</text>\n</g>\n<!-- 6 -->\n<g id=\"node8\" class=\"node\">\n\n<path fill=\"none\" stroke=\"black\" d=\"M253.33,-24C253.33,-24 243.67,-24 243.67,-24 240.83,-24 238,-21.17 238,-18.33 238,-18.33 238,-12.67 238,-12.67 238,-9.83 240.83,-7 243.67,-7 243.67,-7 253.33,-7 253.33,-7 256.17,-7 259,-9.83 259,-12.67 259,-12.67 259,-18.33 259,-18.33 259,-21.17 256.17,-24 253.33,-24\"/>\n<text text-anchor=\"start\" x=\"242\" y=\"-13\" font-family=\"Monospace\" font-size=\"10.00\">q3</text>\n</g>\n<!-- 2&#45;&gt;6 -->\n<g id=\"edge4\" class=\"edge\">\n\n<path fill=\"none\" stroke=\"black\" d=\"M159.11,-45.48C164.37,-43.32 171.01,-40.67 177,-38.5 196.19,-31.54 218.65,-24.38 232.97,-19.94\"/>\n<polygon fill=\"black\" stroke=\"black\" points=\"237.85,-18.43 233.74,-22.05 235.46,-19.17 233.08,-19.9 233.08,-19.9 233.08,-19.9 235.46,-19.17 232.41,-17.75 237.85,-18.43 237.85,-18.43\"/>\n<text text-anchor=\"start\" x=\"180.5\" y=\"-44.3\" font-family=\"Monospace\" font-size=\"9.00\">ε,ε → ε</text>\n</g>\n<!-- 3 -->\n<g id=\"node5\" class=\"node\">\n\n<path fill=\"none\" stroke=\"black\" d=\"M357.33,-21C357.33,-21 347.67,-21 347.67,-21 344.83,-21 342,-18.17 342,-15.33 342,-15.33 342,-9.67 342,-9.67 342,-6.83 344.83,-4 347.67,-4 347.67,-4 357.33,-4 357.33,-4 360.17,-4 363,-6.83 363,-9.67 363,-9.67 363,-15.33 363,-15.33 363,-18.17 360.17,-21 357.33,-21\"/>\n<path fill=\"none\" stroke=\"black\" d=\"M358.67,-25C358.67,-25 346.33,-25 346.33,-25 342.17,-25 338,-20.83 338,-16.67 338,-16.67 338,-8.33 338,-8.33 338,-4.17 342.17,0 346.33,0 346.33,0 358.67,0 358.67,0 362.83,0 367,-4.17 367,-8.33 367,-8.33 367,-16.67 367,-16.67 367,-20.83 362.83,-25 358.67,-25\"/>\n<text text-anchor=\"start\" x=\"346\" y=\"-10\" font-family=\"Monospace\" font-size=\"10.00\">q4</text>\n</g>\n<!-- 3&#45;&gt;3 -->\n<g id=\"edge8\" class=\"edge\">\n\n<path fill=\"none\" stroke=\"black\" d=\"M343.47,-25.03C340.52,-34.03 343.54,-43 352.5,-43 359.78,-43 363.14,-37.08 362.56,-30.03\"/>\n<polygon fill=\"black\" stroke=\"black\" points=\"361.53,-25.03 364.74,-29.48 362.04,-27.48 362.54,-29.93 362.54,-29.93 362.54,-29.93 362.04,-27.48 360.34,-30.38 361.53,-25.03 361.53,-25.03\"/>\n<text text-anchor=\"start\" x=\"334.5\" y=\"-48.8\" font-family=\"Monospace\" font-size=\"9.00\">c,ε → ε</text>\n</g>\n<!-- 4&#45;&gt;0 -->\n<g id=\"edge10\" class=\"edge\">\n\n<path fill=\"none\" stroke=\"black\" d=\"M259.28,-84.6C277.22,-84.77 315.5,-85.15 336.66,-85.35\"/>\n<polygon fill=\"black\" stroke=\"black\" points=\"341.9,-85.41 336.88,-87.61 339.4,-85.38 336.9,-85.36 336.9,-85.36 336.9,-85.36 339.4,-85.38 336.92,-83.11 341.9,-85.41 341.9,-85.41\"/>\n<text text-anchor=\"start\" x=\"280.5\" y=\"-91.3\" font-family=\"Monospace\" font-size=\"9.00\">ε,ε → ε</text>\n</g>\n<!-- 4&#45;&gt;4 -->\n<g id=\"edge9\" class=\"edge\">\n\n<path fill=\"none\" stroke=\"black\" d=\"M241.05,-93.19C236.93,-101.67 239.42,-111 248.5,-111 255.88,-111 258.9,-104.84 257.57,-97.98\"/>\n<polygon fill=\"black\" stroke=\"black\" points=\"255.95,-93.19 259.68,-97.2 256.75,-95.55 257.55,-97.92 257.55,-97.92 257.55,-97.92 256.75,-95.55 255.42,-98.64 255.95,-93.19 255.95,-93.19\"/>\n<text text-anchor=\"start\" x=\"230.5\" y=\"-116.8\" font-family=\"Monospace\" font-size=\"9.00\">b,ε → ε</text>\n</g>\n<!-- 6&#45;&gt;3 -->\n<g id=\"edge7\" class=\"edge\">\n\n<path fill=\"none\" stroke=\"black\" d=\"M259.28,-15.21C276.1,-14.72 310.8,-13.7 332.51,-13.06\"/>\n<polygon fill=\"black\" stroke=\"black\" points=\"337.73,-12.9 332.8,-15.3 335.23,-12.98 332.73,-13.05 332.73,-13.05 332.73,-13.05 335.23,-12.98 332.67,-10.8 337.73,-12.9 337.73,-12.9\"/>\n<text text-anchor=\"start\" x=\"280.5\" y=\"-21.3\" font-family=\"Monospace\" font-size=\"9.00\">ε,$ → ε</text>\n</g>\n<!-- 6&#45;&gt;6 -->\n<g id=\"edge6\" class=\"edge\">\n\n<path fill=\"none\" stroke=\"black\" d=\"M241.05,-24.19C236.93,-32.67 239.42,-42 248.5,-42 255.88,-42 258.9,-35.84 257.57,-28.98\"/>\n<polygon fill=\"black\" stroke=\"black\" points=\"255.95,-24.19 259.68,-28.2 256.75,-26.55 257.55,-28.92 257.55,-28.92 257.55,-28.92 256.75,-26.55 255.42,-29.64 255.95,-24.19 255.95,-24.19\"/>\n<text text-anchor=\"start\" x=\"230.5\" y=\"-47.8\" font-family=\"Monospace\" font-size=\"9.00\">b,a → ε</text>\n</g>\n</g>\n</svg>"
          },
          "metadata": {}
        }
      ],
      "source": [
        "m2 = read_csv(\"pda-m2.csv\")\n",
        "m2"
      ]
    },
    {
      "cell_type": "markdown",
      "metadata": {
        "id": "6vl07fdNW6ku"
      },
      "source": [
        "**Question.** Does the above PDA accept the strings $\\mathtt{aabb}$? $\\mathtt{aabc}$? $\\mathtt{aacc}$?"
      ]
    },
    {
      "cell_type": "code",
      "execution_count": null,
      "metadata": {
        "id": "HahuhP9FW6ku",
        "outputId": "ad3d4422-987b-44f7-aa76-bcdcccb19fc7",
        "colab": {
          "base_uri": "https://localhost:8080/",
          "height": 124
        }
      },
      "outputs": [
        {
          "output_type": "display_data",
          "data": {
            "text/plain": [
              "<IPython.core.display.SVG object>"
            ],
            "image/svg+xml": "<svg xmlns=\"http://www.w3.org/2000/svg\" xmlns:xlink=\"http://www.w3.org/1999/xlink\" width=\"401pt\" height=\"77pt\" viewBox=\"0.00 0.00 401.00 77.00\">\n<g id=\"graph0\" class=\"graph\" transform=\"scale(1 1) rotate(0) translate(4 73)\">\n\n<polygon fill=\"white\" stroke=\"transparent\" points=\"-4,4 -4,-73 397,-73 397,4 -4,4\"/>\n<!-- _START -->\n<g id=\"node1\" class=\"node\">\n\n</g>\n<!-- 2 -->\n<g id=\"node4\" class=\"node\">\n\n<path fill=\"none\" stroke=\"black\" d=\"M57.33,-21C57.33,-21 47.67,-21 47.67,-21 44.83,-21 42,-18.17 42,-15.33 42,-15.33 42,-9.67 42,-9.67 42,-6.83 44.83,-4 47.67,-4 47.67,-4 57.33,-4 57.33,-4 60.17,-4 63,-6.83 63,-9.67 63,-9.67 63,-15.33 63,-15.33 63,-18.17 60.17,-21 57.33,-21\"/>\n<path fill=\"none\" stroke=\"black\" d=\"M58.67,-25C58.67,-25 46.33,-25 46.33,-25 42.17,-25 38,-20.83 38,-16.67 38,-16.67 38,-8.33 38,-8.33 38,-4.17 42.17,0 46.33,0 46.33,0 58.67,0 58.67,0 62.83,0 67,-4.17 67,-8.33 67,-8.33 67,-16.67 67,-16.67 67,-20.83 62.83,-25 58.67,-25\"/>\n<text text-anchor=\"start\" x=\"46\" y=\"-10\" font-family=\"Monospace\" font-size=\"10.00\">q1</text>\n</g>\n<!-- _START&#45;&gt;2 -->\n<g id=\"edge1\" class=\"edge\">\n\n<path fill=\"none\" stroke=\"black\" d=\"M1.14,-12.5C2.84,-12.5 19.1,-12.5 32.69,-12.5\"/>\n<polygon fill=\"black\" stroke=\"black\" points=\"37.92,-12.5 32.92,-14.75 35.42,-12.5 32.92,-12.5 32.92,-12.5 32.92,-12.5 35.42,-12.5 32.92,-10.25 37.92,-12.5 37.92,-12.5\"/>\n</g>\n<!-- 0 -->\n<g id=\"node2\" class=\"node\">\n\n<path fill=\"none\" stroke=\"black\" d=\"M383.33,-21C383.33,-21 373.67,-21 373.67,-21 370.83,-21 368,-18.17 368,-15.33 368,-15.33 368,-9.67 368,-9.67 368,-6.83 370.83,-4 373.67,-4 373.67,-4 383.33,-4 383.33,-4 386.17,-4 389,-6.83 389,-9.67 389,-9.67 389,-15.33 389,-15.33 389,-18.17 386.17,-21 383.33,-21\"/>\n<path fill=\"none\" stroke=\"black\" d=\"M384.67,-25C384.67,-25 372.33,-25 372.33,-25 368.17,-25 364,-20.83 364,-16.67 364,-16.67 364,-8.33 364,-8.33 364,-4.17 368.17,0 372.33,0 372.33,0 384.67,0 384.67,0 388.83,0 393,-4.17 393,-8.33 393,-8.33 393,-16.67 393,-16.67 393,-20.83 388.83,-25 384.67,-25\"/>\n<text text-anchor=\"start\" x=\"372\" y=\"-10\" font-family=\"Monospace\" font-size=\"10.00\">q4</text>\n</g>\n<!-- 1 -->\n<g id=\"node3\" class=\"node\">\n\n<path fill=\"none\" stroke=\"black\" d=\"M274.83,-21C274.83,-21 265.17,-21 265.17,-21 262.33,-21 259.5,-18.17 259.5,-15.33 259.5,-15.33 259.5,-9.67 259.5,-9.67 259.5,-6.83 262.33,-4 265.17,-4 265.17,-4 274.83,-4 274.83,-4 277.67,-4 280.5,-6.83 280.5,-9.67 280.5,-9.67 280.5,-15.33 280.5,-15.33 280.5,-18.17 277.67,-21 274.83,-21\"/>\n<text text-anchor=\"start\" x=\"263.5\" y=\"-10\" font-family=\"Monospace\" font-size=\"10.00\">q3</text>\n</g>\n<!-- 1&#45;&gt;0 -->\n<g id=\"edge6\" class=\"edge\">\n\n<path fill=\"none\" stroke=\"black\" d=\"M280.83,-12.5C298.47,-12.5 335.77,-12.5 358.54,-12.5\"/>\n<polygon fill=\"black\" stroke=\"black\" points=\"363.71,-12.5 358.71,-14.75 361.21,-12.5 358.71,-12.5 358.71,-12.5 358.71,-12.5 361.21,-12.5 358.71,-10.25 363.71,-12.5 363.71,-12.5\"/>\n<text text-anchor=\"start\" x=\"306.5\" y=\"-18.3\" font-family=\"Monospace\" font-size=\"9.00\">ε,$ → ε</text>\n</g>\n<!-- 1&#45;&gt;1 -->\n<g id=\"edge5\" class=\"edge\">\n\n<path fill=\"none\" stroke=\"black\" d=\"M261.95,-21.19C257.51,-29.67 260.19,-39 270,-39 277.97,-39 281.23,-32.84 279.79,-25.98\"/>\n<polygon fill=\"black\" stroke=\"black\" points=\"278.05,-21.19 281.87,-25.11 278.9,-23.53 279.76,-25.88 279.76,-25.88 279.76,-25.88 278.9,-23.53 277.64,-26.65 278.05,-21.19 278.05,-21.19\"/>\n<text text-anchor=\"start\" x=\"252\" y=\"-58.8\" font-family=\"Monospace\" font-size=\"9.00\">0,0 → ε</text>\n<text text-anchor=\"start\" x=\"252\" y=\"-44.8\" font-family=\"Monospace\" font-size=\"9.00\">1,1 → ε</text>\n</g>\n<!-- 3 -->\n<g id=\"node5\" class=\"node\">\n\n<path fill=\"none\" stroke=\"black\" d=\"M165.83,-21C165.83,-21 156.17,-21 156.17,-21 153.33,-21 150.5,-18.17 150.5,-15.33 150.5,-15.33 150.5,-9.67 150.5,-9.67 150.5,-6.83 153.33,-4 156.17,-4 156.17,-4 165.83,-4 165.83,-4 168.67,-4 171.5,-6.83 171.5,-9.67 171.5,-9.67 171.5,-15.33 171.5,-15.33 171.5,-18.17 168.67,-21 165.83,-21\"/>\n<text text-anchor=\"start\" x=\"154.5\" y=\"-10\" font-family=\"Monospace\" font-size=\"10.00\">q2</text>\n</g>\n<!-- 2&#45;&gt;3 -->\n<g id=\"edge2\" class=\"edge\">\n\n<path fill=\"none\" stroke=\"black\" d=\"M67.42,-12.5C87.61,-12.5 124.83,-12.5 145.39,-12.5\"/>\n<polygon fill=\"black\" stroke=\"black\" points=\"150.48,-12.5 145.48,-14.75 147.98,-12.5 145.48,-12.5 145.48,-12.5 145.48,-12.5 147.98,-12.5 145.48,-10.25 150.48,-12.5 150.48,-12.5\"/>\n<text text-anchor=\"start\" x=\"88.5\" y=\"-18.3\" font-family=\"Monospace\" font-size=\"9.00\">ε,ε → $</text>\n</g>\n<!-- 3&#45;&gt;1 -->\n<g id=\"edge4\" class=\"edge\">\n\n<path fill=\"none\" stroke=\"black\" d=\"M171.87,-12.5C190.76,-12.5 232.09,-12.5 254.26,-12.5\"/>\n<polygon fill=\"black\" stroke=\"black\" points=\"259.46,-12.5 254.46,-14.75 256.96,-12.5 254.46,-12.5 254.46,-12.5 254.46,-12.5 256.96,-12.5 254.46,-10.25 259.46,-12.5 259.46,-12.5\"/>\n<text text-anchor=\"start\" x=\"197.5\" y=\"-18.3\" font-family=\"Monospace\" font-size=\"9.00\">ε,ε → ε</text>\n</g>\n<!-- 3&#45;&gt;3 -->\n<g id=\"edge3\" class=\"edge\">\n\n<path fill=\"none\" stroke=\"black\" d=\"M152.95,-21.19C148.51,-29.67 151.19,-39 161,-39 168.97,-39 172.23,-32.84 170.79,-25.98\"/>\n<polygon fill=\"black\" stroke=\"black\" points=\"169.05,-21.19 172.87,-25.11 169.9,-23.53 170.76,-25.88 170.76,-25.88 170.76,-25.88 169.9,-23.53 168.64,-26.65 169.05,-21.19 169.05,-21.19\"/>\n<text text-anchor=\"start\" x=\"143\" y=\"-58.8\" font-family=\"Monospace\" font-size=\"9.00\">0,ε → 0</text>\n<text text-anchor=\"start\" x=\"143\" y=\"-44.8\" font-family=\"Monospace\" font-size=\"9.00\">1,ε → 1</text>\n</g>\n</g>\n</svg>"
          },
          "metadata": {}
        }
      ],
      "source": [
        "m3 = read_csv(\"pda-m3.csv\")\n",
        "m3"
      ]
    },
    {
      "cell_type": "markdown",
      "metadata": {
        "id": "MzOqbN--W6kv"
      },
      "source": [
        "Let's look at a run of this PDA, which is nondeterministic, so we draw it as a graph:"
      ]
    },
    {
      "cell_type": "code",
      "execution_count": null,
      "metadata": {
        "id": "wUe6agyHW6kv",
        "outputId": "49db526d-bd41-4d1b-e2f0-94cd8551566d",
        "colab": {
          "base_uri": "https://localhost:8080/",
          "height": 382
        }
      },
      "outputs": [
        {
          "output_type": "display_data",
          "data": {
            "text/plain": [
              "<IPython.core.display.SVG object>"
            ],
            "image/svg+xml": "<svg xmlns=\"http://www.w3.org/2000/svg\" xmlns:xlink=\"http://www.w3.org/1999/xlink\" width=\"895pt\" height=\"256pt\" viewBox=\"0.00 0.00 895.00 255.50\">\n<g id=\"graph0\" class=\"graph\" transform=\"scale(1 1) rotate(0) translate(4 251.5)\">\n\n<polygon fill=\"white\" stroke=\"transparent\" points=\"-4,4 -4,-251.5 891,-251.5 891,4 -4,4\"/>\n<!-- _START -->\n<g id=\"node1\" class=\"node\">\n\n</g>\n<!-- 28 -->\n<g id=\"node30\" class=\"node\">\n\n<path fill=\"none\" stroke=\"black\" d=\"M68.33,-190C68.33,-190 46.67,-190 46.67,-190 43.83,-190 41,-187.17 41,-184.33 41,-184.33 41,-178.67 41,-178.67 41,-175.83 43.83,-173 46.67,-173 46.67,-173 68.33,-173 68.33,-173 71.17,-173 74,-175.83 74,-178.67 74,-178.67 74,-184.33 74,-184.33 74,-187.17 71.17,-190 68.33,-190\"/>\n<text text-anchor=\"start\" x=\"45\" y=\"-179\" font-family=\"Monospace\" font-size=\"10.00\">q1,ε</text>\n</g>\n<!-- _START&#45;&gt;28 -->\n<g id=\"edge1\" class=\"edge\">\n\n<path fill=\"none\" stroke=\"black\" d=\"M1.16,-181.5C3.01,-181.5 20.55,-181.5 35.4,-181.5\"/>\n<polygon fill=\"black\" stroke=\"black\" points=\"40.72,-181.5 35.72,-183.75 38.22,-181.5 35.72,-181.5 35.72,-181.5 35.72,-181.5 38.22,-181.5 35.72,-179.25 40.72,-181.5 40.72,-181.5\"/>\n</g>\n<!-- 0 -->\n<g id=\"node2\" class=\"node\">\n\n<path fill=\"none\" stroke=\"black\" d=\"M422.33,-97C422.33,-97 352.67,-97 352.67,-97 349.83,-97 347,-94.17 347,-91.33 347,-91.33 347,-85.67 347,-85.67 347,-82.83 349.83,-80 352.67,-80 352.67,-80 422.33,-80 422.33,-80 425.17,-80 428,-82.83 428,-85.67 428,-85.67 428,-91.33 428,-91.33 428,-94.17 425.17,-97 422.33,-97\"/>\n<text text-anchor=\"start\" x=\"351\" y=\"-86\" font-family=\"Monospace\" font-size=\"10.00\">q3,[1] 1 0 $</text>\n</g>\n<!-- 5 -->\n<g id=\"node7\" class=\"node\">\n\n<path fill=\"none\" stroke=\"black\" d=\"M551.33,-78C551.33,-78 493.67,-78 493.67,-78 490.83,-78 488,-75.17 488,-72.33 488,-72.33 488,-66.67 488,-66.67 488,-63.83 490.83,-61 493.67,-61 493.67,-61 551.33,-61 551.33,-61 554.17,-61 557,-63.83 557,-66.67 557,-66.67 557,-72.33 557,-72.33 557,-75.17 554.17,-78 551.33,-78\"/>\n<text text-anchor=\"start\" x=\"492\" y=\"-67\" font-family=\"Monospace\" font-size=\"10.00\">q3,[1] 0 $</text>\n</g>\n<!-- 0&#45;&gt;5 -->\n<g id=\"edge21\" class=\"edge\">\n\n<path fill=\"none\" stroke=\"black\" d=\"M428.04,-82.85C445.25,-80.39 465.36,-77.52 482.51,-75.07\"/>\n<polygon fill=\"black\" stroke=\"black\" points=\"487.73,-74.32 483.1,-77.26 485.25,-74.68 482.78,-75.03 482.78,-75.03 482.78,-75.03 485.25,-74.68 482.46,-72.8 487.73,-74.32 487.73,-74.32\"/>\n</g>\n<!-- 1 -->\n<g id=\"node3\" class=\"node\">\n\n<path fill=\"none\" stroke=\"black\" d=\"M716.33,-201C716.33,-201 622.67,-201 622.67,-201 619.83,-201 617,-198.17 617,-195.33 617,-195.33 617,-189.67 617,-189.67 617,-186.83 619.83,-184 622.67,-184 622.67,-184 716.33,-184 716.33,-184 719.17,-184 722,-186.83 722,-189.67 722,-189.67 722,-195.33 722,-195.33 722,-198.17 719.17,-201 716.33,-201\"/>\n<text text-anchor=\"start\" x=\"621\" y=\"-190\" font-family=\"Monospace\" font-size=\"10.00\">q2,[1] 1 1 1 0 $</text>\n</g>\n<!-- 6 -->\n<g id=\"node8\" class=\"node\">\n\n<path fill=\"none\" stroke=\"black\" d=\"M716.33,-148C716.33,-148 622.67,-148 622.67,-148 619.83,-148 617,-145.17 617,-142.33 617,-142.33 617,-136.67 617,-136.67 617,-133.83 619.83,-131 622.67,-131 622.67,-131 716.33,-131 716.33,-131 719.17,-131 722,-133.83 722,-136.67 722,-136.67 722,-142.33 722,-142.33 722,-145.17 719.17,-148 716.33,-148\"/>\n<text text-anchor=\"start\" x=\"621\" y=\"-137\" font-family=\"Monospace\" font-size=\"10.00\">q3,[1] 1 1 1 0 $</text>\n</g>\n<!-- 1&#45;&gt;6 -->\n<g id=\"edge23\" class=\"edge\">\n\n<path fill=\"none\" stroke=\"black\" d=\"M669.5,-183.85C669.5,-173.63 669.5,-163.42 669.5,-153.21\"/>\n<polygon fill=\"black\" stroke=\"black\" points=\"669.5,-148.2 671.75,-153.2 669.5,-150.7 669.5,-153.2 669.5,-153.2 669.5,-153.2 669.5,-150.7 667.25,-153.2 669.5,-148.2 669.5,-148.2\"/>\n</g>\n<!-- 7 -->\n<g id=\"node9\" class=\"node\">\n\n<path fill=\"none\" stroke=\"black\" d=\"M881.33,-201C881.33,-201 775.67,-201 775.67,-201 772.83,-201 770,-198.17 770,-195.33 770,-195.33 770,-189.67 770,-189.67 770,-186.83 772.83,-184 775.67,-184 775.67,-184 881.33,-184 881.33,-184 884.17,-184 887,-186.83 887,-189.67 887,-189.67 887,-195.33 887,-195.33 887,-198.17 884.17,-201 881.33,-201\"/>\n<text text-anchor=\"start\" x=\"774\" y=\"-190\" font-family=\"Monospace\" font-size=\"10.00\">q2,[0] 1 1 1 1 0 $</text>\n</g>\n<!-- 1&#45;&gt;7 -->\n<g id=\"edge22\" class=\"edge\">\n\n<path fill=\"none\" stroke=\"black\" d=\"M722.34,-192.5C735.87,-192.5 750.59,-192.5 764.61,-192.5\"/>\n<polygon fill=\"black\" stroke=\"black\" points=\"769.75,-192.5 764.75,-194.75 767.25,-192.5 764.75,-192.5 764.75,-192.5 764.75,-192.5 767.25,-192.5 764.75,-190.25 769.75,-192.5 769.75,-192.5\"/>\n</g>\n<!-- 2 -->\n<g id=\"node4\" class=\"node\">\n\n<path fill=\"none\" stroke=\"black\" d=\"M410.33,-62C410.33,-62 364.67,-62 364.67,-62 361.83,-62 359,-59.17 359,-56.33 359,-56.33 359,-50.67 359,-50.67 359,-47.83 361.83,-45 364.67,-45 364.67,-45 410.33,-45 410.33,-45 413.17,-45 416,-47.83 416,-50.67 416,-50.67 416,-56.33 416,-56.33 416,-59.17 413.17,-62 410.33,-62\"/>\n<text text-anchor=\"start\" x=\"363\" y=\"-51\" font-family=\"Monospace\" font-size=\"10.00\">q3,[0] $</text>\n</g>\n<!-- 3 -->\n<g id=\"node5\" class=\"node\">\n\n<path fill=\"none\" stroke=\"black\" d=\"M563.33,-166C563.33,-166 481.67,-166 481.67,-166 478.83,-166 476,-163.17 476,-160.33 476,-160.33 476,-154.67 476,-154.67 476,-151.83 478.83,-149 481.67,-149 481.67,-149 563.33,-149 563.33,-149 566.17,-149 569,-151.83 569,-154.67 569,-154.67 569,-160.33 569,-160.33 569,-163.17 566.17,-166 563.33,-166\"/>\n<text text-anchor=\"start\" x=\"480\" y=\"-155\" font-family=\"Monospace\" font-size=\"10.00\">q2,[1] 1 1 0 $</text>\n</g>\n<!-- 3&#45;&gt;1 -->\n<g id=\"edge19\" class=\"edge\">\n\n<path fill=\"none\" stroke=\"black\" d=\"M558.97,-166.06C579.85,-171.1 606.33,-177.49 628.02,-182.73\"/>\n<polygon fill=\"black\" stroke=\"black\" points=\"633.14,-183.97 627.76,-184.98 630.71,-183.38 628.28,-182.79 628.28,-182.79 628.28,-182.79 630.71,-183.38 628.81,-180.61 633.14,-183.97 633.14,-183.97\"/>\n</g>\n<!-- 8 -->\n<g id=\"node10\" class=\"node\">\n\n<path fill=\"none\" stroke=\"black\" d=\"M563.33,-113C563.33,-113 481.67,-113 481.67,-113 478.83,-113 476,-110.17 476,-107.33 476,-107.33 476,-101.67 476,-101.67 476,-98.83 478.83,-96 481.67,-96 481.67,-96 563.33,-96 563.33,-96 566.17,-96 569,-98.83 569,-101.67 569,-101.67 569,-107.33 569,-107.33 569,-110.17 566.17,-113 563.33,-113\"/>\n<text text-anchor=\"start\" x=\"480\" y=\"-102\" font-family=\"Monospace\" font-size=\"10.00\">q3,[1] 1 1 0 $</text>\n</g>\n<!-- 3&#45;&gt;8 -->\n<g id=\"edge20\" class=\"edge\">\n\n<path fill=\"none\" stroke=\"black\" d=\"M522.5,-148.85C522.5,-138.63 522.5,-128.42 522.5,-118.21\"/>\n<polygon fill=\"black\" stroke=\"black\" points=\"522.5,-113.2 524.75,-118.2 522.5,-115.7 522.5,-118.2 522.5,-118.2 522.5,-118.2 522.5,-115.7 520.25,-118.2 522.5,-113.2 522.5,-113.2\"/>\n</g>\n<!-- 4 -->\n<g id=\"node6\" class=\"node\">\n\n</g>\n<!-- 10 -->\n<g id=\"node12\" class=\"node\">\n\n</g>\n<!-- 4&#45;&gt;10 -->\n<g id=\"edge2\" class=\"edge\">\n\n<path fill=\"none\" stroke=\"white\" d=\"M77.07,-231.5C91.88,-231.5 112.71,-231.5 128.73,-231.5\"/>\n<polygon fill=\"white\" stroke=\"white\" points=\"133.97,-231.5 128.97,-233.75 131.47,-231.5 128.97,-231.5 128.97,-231.5 128.97,-231.5 131.47,-231.5 128.97,-229.25 133.97,-231.5 133.97,-231.5\"/>\n<text text-anchor=\"start\" x=\"98\" y=\"-237.3\" font-family=\"Monospace\" font-size=\"9.00\">0</text>\n</g>\n<!-- 11 -->\n<g id=\"node13\" class=\"node\">\n\n<path fill=\"none\" stroke=\"black\" d=\"M692.33,-78C692.33,-78 646.67,-78 646.67,-78 643.83,-78 641,-75.17 641,-72.33 641,-72.33 641,-66.67 641,-66.67 641,-63.83 643.83,-61 646.67,-61 646.67,-61 692.33,-61 692.33,-61 695.17,-61 698,-63.83 698,-66.67 698,-66.67 698,-72.33 698,-72.33 698,-75.17 695.17,-78 692.33,-78\"/>\n<text text-anchor=\"start\" x=\"645\" y=\"-67\" font-family=\"Monospace\" font-size=\"10.00\">q3,[0] $</text>\n</g>\n<!-- 5&#45;&gt;11 -->\n<g id=\"edge25\" class=\"edge\">\n\n<path fill=\"none\" stroke=\"black\" d=\"M557.13,-69.5C580.78,-69.5 612.25,-69.5 635.71,-69.5\"/>\n<polygon fill=\"black\" stroke=\"black\" points=\"640.89,-69.5 635.89,-71.75 638.39,-69.5 635.89,-69.5 635.89,-69.5 635.89,-69.5 638.39,-69.5 635.89,-67.25 640.89,-69.5 640.89,-69.5\"/>\n</g>\n<!-- 12 -->\n<g id=\"node14\" class=\"node\">\n\n<path fill=\"none\" stroke=\"black\" d=\"M881.33,-148C881.33,-148 775.67,-148 775.67,-148 772.83,-148 770,-145.17 770,-142.33 770,-142.33 770,-136.67 770,-136.67 770,-133.83 772.83,-131 775.67,-131 775.67,-131 881.33,-131 881.33,-131 884.17,-131 887,-133.83 887,-136.67 887,-136.67 887,-142.33 887,-142.33 887,-145.17 884.17,-148 881.33,-148\"/>\n<text text-anchor=\"start\" x=\"774\" y=\"-137\" font-family=\"Monospace\" font-size=\"10.00\">q3,[0] 1 1 1 1 0 $</text>\n</g>\n<!-- 7&#45;&gt;12 -->\n<g id=\"edge26\" class=\"edge\">\n\n<path fill=\"none\" stroke=\"black\" d=\"M828.5,-183.85C828.5,-173.63 828.5,-163.42 828.5,-153.21\"/>\n<polygon fill=\"black\" stroke=\"black\" points=\"828.5,-148.2 830.75,-153.2 828.5,-150.7 828.5,-153.2 828.5,-153.2 828.5,-153.2 828.5,-150.7 826.25,-153.2 828.5,-148.2 828.5,-148.2\"/>\n</g>\n<!-- 13 -->\n<g id=\"node15\" class=\"node\">\n\n<path fill=\"none\" stroke=\"black\" d=\"M704.33,-113C704.33,-113 634.67,-113 634.67,-113 631.83,-113 629,-110.17 629,-107.33 629,-107.33 629,-101.67 629,-101.67 629,-98.83 631.83,-96 634.67,-96 634.67,-96 704.33,-96 704.33,-96 707.17,-96 710,-98.83 710,-101.67 710,-101.67 710,-107.33 710,-107.33 710,-110.17 707.17,-113 704.33,-113\"/>\n<text text-anchor=\"start\" x=\"633\" y=\"-102\" font-family=\"Monospace\" font-size=\"10.00\">q3,[1] 1 0 $</text>\n</g>\n<!-- 8&#45;&gt;13 -->\n<g id=\"edge24\" class=\"edge\">\n\n<path fill=\"none\" stroke=\"black\" d=\"M569.38,-104.5C586.67,-104.5 606.31,-104.5 623.52,-104.5\"/>\n<polygon fill=\"black\" stroke=\"black\" points=\"628.78,-104.5 623.78,-106.75 626.28,-104.5 623.78,-104.5 623.78,-104.5 623.78,-104.5 626.28,-104.5 623.78,-102.25 628.78,-104.5 628.78,-104.5\"/>\n</g>\n<!-- 9 -->\n<g id=\"node11\" class=\"node\">\n\n</g>\n<!-- 21 -->\n<g id=\"node23\" class=\"node\">\n\n</g>\n<!-- 9&#45;&gt;21 -->\n<g id=\"edge6\" class=\"edge\">\n\n<path fill=\"none\" stroke=\"white\" d=\"M542.16,-231.5C568.37,-231.5 616.09,-231.5 644.78,-231.5\"/>\n<polygon fill=\"white\" stroke=\"white\" points=\"649.91,-231.5 644.91,-233.75 647.41,-231.5 644.91,-231.5 644.91,-231.5 644.91,-231.5 647.41,-231.5 644.91,-229.25 649.91,-231.5 649.91,-231.5\"/>\n<text text-anchor=\"start\" x=\"590\" y=\"-237.3\" font-family=\"Monospace\" font-size=\"9.00\">1</text>\n</g>\n<!-- 19 -->\n<g id=\"node21\" class=\"node\">\n\n</g>\n<!-- 10&#45;&gt;19 -->\n<g id=\"edge3\" class=\"edge\">\n\n<path fill=\"none\" stroke=\"white\" d=\"M173.49,-231.5C191.85,-231.5 219.75,-231.5 239.61,-231.5\"/>\n<polygon fill=\"white\" stroke=\"white\" points=\"244.73,-231.5 239.73,-233.75 242.23,-231.5 239.73,-231.5 239.73,-231.5 239.73,-231.5 242.23,-231.5 239.73,-229.25 244.73,-231.5 244.73,-231.5\"/>\n<text text-anchor=\"start\" x=\"203\" y=\"-237.3\" font-family=\"Monospace\" font-size=\"9.00\">1</text>\n</g>\n<!-- 23 -->\n<g id=\"node25\" class=\"node\">\n\n<path fill=\"none\" stroke=\"black\" d=\"M839.33,-78C839.33,-78 817.67,-78 817.67,-78 814.83,-78 812,-75.17 812,-72.33 812,-72.33 812,-66.67 812,-66.67 812,-63.83 814.83,-61 817.67,-61 817.67,-61 839.33,-61 839.33,-61 842.17,-61 845,-63.83 845,-66.67 845,-66.67 845,-72.33 845,-72.33 845,-75.17 842.17,-78 839.33,-78\"/>\n<text text-anchor=\"start\" x=\"816\" y=\"-67\" font-family=\"Monospace\" font-size=\"10.00\">q3,$</text>\n</g>\n<!-- 11&#45;&gt;23 -->\n<g id=\"edge27\" class=\"edge\">\n\n<path fill=\"none\" stroke=\"black\" d=\"M698.21,-69.5C729.24,-69.5 778.83,-69.5 806.71,-69.5\"/>\n<polygon fill=\"black\" stroke=\"black\" points=\"811.99,-69.5 806.99,-71.75 809.49,-69.5 806.99,-69.5 806.99,-69.5 806.99,-69.5 809.49,-69.5 806.99,-67.25 811.99,-69.5 811.99,-69.5\"/>\n</g>\n<!-- 14 -->\n<g id=\"node16\" class=\"node\">\n\n<path fill=\"none\" stroke=\"black\" d=\"M422.33,-150C422.33,-150 352.67,-150 352.67,-150 349.83,-150 347,-147.17 347,-144.33 347,-144.33 347,-138.67 347,-138.67 347,-135.83 349.83,-133 352.67,-133 352.67,-133 422.33,-133 422.33,-133 425.17,-133 428,-135.83 428,-138.67 428,-138.67 428,-144.33 428,-144.33 428,-147.17 425.17,-150 422.33,-150\"/>\n<text text-anchor=\"start\" x=\"351\" y=\"-139\" font-family=\"Monospace\" font-size=\"10.00\">q2,[1] 1 0 $</text>\n</g>\n<!-- 14&#45;&gt;0 -->\n<g id=\"edge17\" class=\"edge\">\n\n<path fill=\"none\" stroke=\"black\" d=\"M387.5,-132.85C387.5,-122.63 387.5,-112.42 387.5,-102.21\"/>\n<polygon fill=\"black\" stroke=\"black\" points=\"387.5,-97.2 389.75,-102.2 387.5,-99.7 387.5,-102.2 387.5,-102.2 387.5,-102.2 387.5,-99.7 385.25,-102.2 387.5,-97.2 387.5,-97.2\"/>\n</g>\n<!-- 14&#45;&gt;3 -->\n<g id=\"edge16\" class=\"edge\">\n\n<path fill=\"none\" stroke=\"black\" d=\"M428.04,-146.26C441.41,-147.87 456.53,-149.68 470.64,-151.38\"/>\n<polygon fill=\"black\" stroke=\"black\" points=\"475.8,-152 470.56,-153.64 473.31,-151.7 470.83,-151.4 470.83,-151.4 470.83,-151.4 473.31,-151.7 471.1,-149.17 475.8,-152 475.8,-152\"/>\n</g>\n<!-- 15 -->\n<g id=\"node17\" class=\"node\">\n\n<path fill=\"none\" stroke=\"black\" d=\"M293.33,-67C293.33,-67 235.67,-67 235.67,-67 232.83,-67 230,-64.17 230,-61.33 230,-61.33 230,-55.67 230,-55.67 230,-52.83 232.83,-50 235.67,-50 235.67,-50 293.33,-50 293.33,-50 296.17,-50 299,-52.83 299,-55.67 299,-55.67 299,-61.33 299,-61.33 299,-64.17 296.17,-67 293.33,-67\"/>\n<text text-anchor=\"start\" x=\"234\" y=\"-56\" font-family=\"Monospace\" font-size=\"10.00\">q3,[1] 0 $</text>\n</g>\n<!-- 15&#45;&gt;2 -->\n<g id=\"edge18\" class=\"edge\">\n\n<path fill=\"none\" stroke=\"black\" d=\"M299.21,-57.11C316.19,-56.41 336.7,-55.56 353.58,-54.86\"/>\n<polygon fill=\"black\" stroke=\"black\" points=\"358.69,-54.65 353.79,-57.1 356.19,-54.75 353.69,-54.86 353.69,-54.86 353.69,-54.86 356.19,-54.75 353.6,-52.61 358.69,-54.65 358.69,-54.65\"/>\n</g>\n<!-- 16 -->\n<g id=\"node18\" class=\"node\">\n\n<path fill=\"none\" stroke=\"black\" d=\"M68.33,-31C68.33,-31 46.67,-31 46.67,-31 43.83,-31 41,-28.17 41,-25.33 41,-25.33 41,-19.67 41,-19.67 41,-16.83 43.83,-14 46.67,-14 46.67,-14 68.33,-14 68.33,-14 71.17,-14 74,-16.83 74,-19.67 74,-19.67 74,-25.33 74,-25.33 74,-28.17 71.17,-31 68.33,-31\"/>\n<text text-anchor=\"start\" x=\"45\" y=\"-20\" font-family=\"Monospace\" font-size=\"10.00\">q4,ε</text>\n</g>\n<!-- 17 -->\n<g id=\"node19\" class=\"node\">\n\n<path fill=\"none\" stroke=\"black\" d=\"M176.33,-84C176.33,-84 130.67,-84 130.67,-84 127.83,-84 125,-81.17 125,-78.33 125,-78.33 125,-72.67 125,-72.67 125,-69.83 127.83,-67 130.67,-67 130.67,-67 176.33,-67 176.33,-67 179.17,-67 182,-69.83 182,-72.67 182,-72.67 182,-78.33 182,-78.33 182,-81.17 179.17,-84 176.33,-84\"/>\n<text text-anchor=\"start\" x=\"129\" y=\"-73\" font-family=\"Monospace\" font-size=\"10.00\">q3,[0] $</text>\n</g>\n<!-- 18 -->\n<g id=\"node20\" class=\"node\">\n\n</g>\n<!-- 18&#45;&gt;9 -->\n<g id=\"edge5\" class=\"edge\">\n\n<path fill=\"none\" stroke=\"white\" d=\"M407.27,-231.5C430.94,-231.5 471.65,-231.5 497.53,-231.5\"/>\n<polygon fill=\"white\" stroke=\"white\" points=\"502.82,-231.5 497.82,-233.75 500.32,-231.5 497.82,-231.5 497.82,-231.5 497.82,-231.5 500.32,-231.5 497.82,-229.25 502.82,-231.5 502.82,-231.5\"/>\n<text text-anchor=\"start\" x=\"449\" y=\"-237.3\" font-family=\"Monospace\" font-size=\"9.00\">1</text>\n</g>\n<!-- 19&#45;&gt;18 -->\n<g id=\"edge4\" class=\"edge\">\n\n<path fill=\"none\" stroke=\"white\" d=\"M284.14,-231.5C305.22,-231.5 339.59,-231.5 362.62,-231.5\"/>\n<polygon fill=\"white\" stroke=\"white\" points=\"367.64,-231.5 362.64,-233.75 365.14,-231.5 362.64,-231.5 362.64,-231.5 362.64,-231.5 365.14,-231.5 362.64,-229.25 367.64,-231.5 367.64,-231.5\"/>\n<text text-anchor=\"start\" x=\"320\" y=\"-237.3\" font-family=\"Monospace\" font-size=\"9.00\">1</text>\n</g>\n<!-- 20 -->\n<g id=\"node22\" class=\"node\">\n\n</g>\n<!-- 21&#45;&gt;20 -->\n<g id=\"edge7\" class=\"edge\">\n\n<path fill=\"none\" stroke=\"white\" d=\"M689.13,-231.5C717.69,-231.5 772.29,-231.5 803.69,-231.5\"/>\n<polygon fill=\"white\" stroke=\"white\" points=\"808.9,-231.5 803.9,-233.75 806.4,-231.5 803.9,-231.5 803.9,-231.5 803.9,-231.5 806.4,-231.5 803.9,-229.25 808.9,-231.5 808.9,-231.5\"/>\n<text text-anchor=\"start\" x=\"743\" y=\"-237.3\" font-family=\"Monospace\" font-size=\"9.00\">0</text>\n</g>\n<!-- 22 -->\n<g id=\"node24\" class=\"node\">\n\n<path fill=\"none\" stroke=\"black\" d=\"M68.33,-84C68.33,-84 46.67,-84 46.67,-84 43.83,-84 41,-81.17 41,-78.33 41,-78.33 41,-72.67 41,-72.67 41,-69.83 43.83,-67 46.67,-67 46.67,-67 68.33,-67 68.33,-67 71.17,-67 74,-69.83 74,-72.67 74,-72.67 74,-78.33 74,-78.33 74,-81.17 71.17,-84 68.33,-84\"/>\n<text text-anchor=\"start\" x=\"45\" y=\"-73\" font-family=\"Monospace\" font-size=\"10.00\">q3,$</text>\n</g>\n<!-- 22&#45;&gt;16 -->\n<g id=\"edge13\" class=\"edge\">\n\n<path fill=\"none\" stroke=\"black\" d=\"M57.5,-66.85C57.5,-56.63 57.5,-46.42 57.5,-36.21\"/>\n<polygon fill=\"black\" stroke=\"black\" points=\"57.5,-31.2 59.75,-36.2 57.5,-33.7 57.5,-36.2 57.5,-36.2 57.5,-36.2 57.5,-33.7 55.25,-36.2 57.5,-31.2 57.5,-31.2\"/>\n</g>\n<!-- 24 -->\n<g id=\"node26\" class=\"node\">\n\n<path fill=\"none\" stroke=\"black\" d=\"M839.33,-21C839.33,-21 817.67,-21 817.67,-21 814.83,-21 812,-18.17 812,-15.33 812,-15.33 812,-9.67 812,-9.67 812,-6.83 814.83,-4 817.67,-4 817.67,-4 839.33,-4 839.33,-4 842.17,-4 845,-6.83 845,-9.67 845,-9.67 845,-15.33 845,-15.33 845,-18.17 842.17,-21 839.33,-21\"/>\n<path fill=\"none\" stroke=\"black\" d=\"M840.67,-25C840.67,-25 816.33,-25 816.33,-25 812.17,-25 808,-20.83 808,-16.67 808,-16.67 808,-8.33 808,-8.33 808,-4.17 812.17,0 816.33,0 816.33,0 840.67,0 840.67,0 844.83,0 849,-4.17 849,-8.33 849,-8.33 849,-16.67 849,-16.67 849,-20.83 844.83,-25 840.67,-25\"/>\n<text text-anchor=\"start\" x=\"816\" y=\"-10\" font-family=\"Monospace\" font-size=\"10.00\">q4,ε</text>\n</g>\n<!-- 23&#45;&gt;24 -->\n<g id=\"edge28\" class=\"edge\">\n\n<path fill=\"none\" stroke=\"black\" d=\"M828.5,-60.89C828.5,-50.82 828.5,-40.75 828.5,-30.68\"/>\n<polygon fill=\"black\" stroke=\"black\" points=\"828.5,-25.41 830.75,-30.41 828.5,-27.91 828.5,-30.41 828.5,-30.41 828.5,-30.41 828.5,-27.91 826.25,-30.41 828.5,-25.41 828.5,-25.41\"/>\n</g>\n<!-- 25 -->\n<g id=\"node27\" class=\"node\">\n\n<path fill=\"none\" stroke=\"black\" d=\"M293.33,-137C293.33,-137 235.67,-137 235.67,-137 232.83,-137 230,-134.17 230,-131.33 230,-131.33 230,-125.67 230,-125.67 230,-122.83 232.83,-120 235.67,-120 235.67,-120 293.33,-120 293.33,-120 296.17,-120 299,-122.83 299,-125.67 299,-125.67 299,-131.33 299,-131.33 299,-134.17 296.17,-137 293.33,-137\"/>\n<text text-anchor=\"start\" x=\"234\" y=\"-126\" font-family=\"Monospace\" font-size=\"10.00\">q2,[1] 0 $</text>\n</g>\n<!-- 25&#45;&gt;14 -->\n<g id=\"edge14\" class=\"edge\">\n\n<path fill=\"none\" stroke=\"black\" d=\"M299.21,-132.12C312.41,-133.54 327.75,-135.19 341.85,-136.7\"/>\n<polygon fill=\"black\" stroke=\"black\" points=\"346.98,-137.25 341.77,-138.96 344.49,-136.99 342.01,-136.72 342.01,-136.72 342.01,-136.72 344.49,-136.99 342.25,-134.48 346.98,-137.25 346.98,-137.25\"/>\n</g>\n<!-- 25&#45;&gt;15 -->\n<g id=\"edge15\" class=\"edge\">\n\n<path fill=\"none\" stroke=\"black\" d=\"M264.5,-119.89C264.5,-104.12 264.5,-88.36 264.5,-72.6\"/>\n<polygon fill=\"black\" stroke=\"black\" points=\"264.5,-67.25 266.75,-72.25 264.5,-69.75 264.5,-72.25 264.5,-72.25 264.5,-72.25 264.5,-69.75 262.25,-72.25 264.5,-67.25 264.5,-67.25\"/>\n</g>\n<!-- 26 -->\n<g id=\"node28\" class=\"node\">\n\n<path fill=\"none\" stroke=\"black\" d=\"M176.33,-137C176.33,-137 130.67,-137 130.67,-137 127.83,-137 125,-134.17 125,-131.33 125,-131.33 125,-125.67 125,-125.67 125,-122.83 127.83,-120 130.67,-120 130.67,-120 176.33,-120 176.33,-120 179.17,-120 182,-122.83 182,-125.67 182,-125.67 182,-131.33 182,-131.33 182,-134.17 179.17,-137 176.33,-137\"/>\n<text text-anchor=\"start\" x=\"129\" y=\"-126\" font-family=\"Monospace\" font-size=\"10.00\">q2,[0] $</text>\n</g>\n<!-- 26&#45;&gt;17 -->\n<g id=\"edge12\" class=\"edge\">\n\n<path fill=\"none\" stroke=\"black\" d=\"M153.5,-119.85C153.5,-109.63 153.5,-99.42 153.5,-89.21\"/>\n<polygon fill=\"black\" stroke=\"black\" points=\"153.5,-84.2 155.75,-89.2 153.5,-86.7 153.5,-89.2 153.5,-89.2 153.5,-89.2 153.5,-86.7 151.25,-89.2 153.5,-84.2 153.5,-84.2\"/>\n</g>\n<!-- 26&#45;&gt;25 -->\n<g id=\"edge11\" class=\"edge\">\n\n<path fill=\"none\" stroke=\"black\" d=\"M182.01,-128.5C194.92,-128.5 210.55,-128.5 224.65,-128.5\"/>\n<polygon fill=\"black\" stroke=\"black\" points=\"229.77,-128.5 224.77,-130.75 227.27,-128.5 224.77,-128.5 224.77,-128.5 224.77,-128.5 227.27,-128.5 224.77,-126.25 229.77,-128.5 229.77,-128.5\"/>\n</g>\n<!-- 27 -->\n<g id=\"node29\" class=\"node\">\n\n<path fill=\"none\" stroke=\"black\" d=\"M68.33,-137C68.33,-137 46.67,-137 46.67,-137 43.83,-137 41,-134.17 41,-131.33 41,-131.33 41,-125.67 41,-125.67 41,-122.83 43.83,-120 46.67,-120 46.67,-120 68.33,-120 68.33,-120 71.17,-120 74,-122.83 74,-125.67 74,-125.67 74,-131.33 74,-131.33 74,-134.17 71.17,-137 68.33,-137\"/>\n<text text-anchor=\"start\" x=\"45\" y=\"-126\" font-family=\"Monospace\" font-size=\"10.00\">q2,$</text>\n</g>\n<!-- 27&#45;&gt;22 -->\n<g id=\"edge10\" class=\"edge\">\n\n<path fill=\"none\" stroke=\"black\" d=\"M57.5,-119.85C57.5,-109.63 57.5,-99.42 57.5,-89.21\"/>\n<polygon fill=\"black\" stroke=\"black\" points=\"57.5,-84.2 59.75,-89.2 57.5,-86.7 57.5,-89.2 57.5,-89.2 57.5,-89.2 57.5,-86.7 55.25,-89.2 57.5,-84.2 57.5,-84.2\"/>\n</g>\n<!-- 27&#45;&gt;26 -->\n<g id=\"edge9\" class=\"edge\">\n\n<path fill=\"none\" stroke=\"black\" d=\"M74.02,-128.5C86.39,-128.5 104.14,-128.5 119.63,-128.5\"/>\n<polygon fill=\"black\" stroke=\"black\" points=\"124.79,-128.5 119.79,-130.75 122.29,-128.5 119.79,-128.5 119.79,-128.5 119.79,-128.5 122.29,-128.5 119.79,-126.25 124.79,-128.5 124.79,-128.5\"/>\n</g>\n<!-- 28&#45;&gt;27 -->\n<g id=\"edge8\" class=\"edge\">\n\n<path fill=\"none\" stroke=\"black\" d=\"M57.5,-172.85C57.5,-162.63 57.5,-152.42 57.5,-142.21\"/>\n<polygon fill=\"black\" stroke=\"black\" points=\"57.5,-137.2 59.75,-142.2 57.5,-139.7 57.5,-142.2 57.5,-142.2 57.5,-142.2 57.5,-139.7 55.25,-142.2 57.5,-137.2 57.5,-137.2\"/>\n</g>\n</g>\n</svg>"
          },
          "metadata": {}
        }
      ],
      "source": [
        "run(m3, \"0 1 1 1 1 0\", show_stack=7)"
      ]
    },
    {
      "cell_type": "markdown",
      "metadata": {
        "id": "SAWztTymW6kv"
      },
      "source": [
        "**Question.** Design a PDA that recognizes the language of matching left and right parentheses (like Example 2.3)."
      ]
    }
  ],
  "metadata": {
    "kernelspec": {
      "display_name": "Python 3",
      "language": "python",
      "name": "python3"
    },
    "language_info": {
      "codemirror_mode": {
        "name": "ipython",
        "version": 3
      },
      "file_extension": ".py",
      "mimetype": "text/x-python",
      "name": "python",
      "nbconvert_exporter": "python",
      "pygments_lexer": "ipython3",
      "version": "3.8.1"
    },
    "colab": {
      "provenance": [],
      "include_colab_link": true
    }
  },
  "nbformat": 4,
  "nbformat_minor": 0
}
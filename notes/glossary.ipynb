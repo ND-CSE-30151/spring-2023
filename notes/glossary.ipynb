{
  "cells": [
    {
      "cell_type": "markdown",
      "id": "32ca3f23",
      "metadata": {
        "id": "32ca3f23"
      },
      "source": [
        "# Glossary\n",
        "\n",
        "This notebook tries to collect all the mathematical symbols, terminology, and phraseology that you may encounter in this class."
      ]
    },
    {
      "cell_type": "markdown",
      "id": "59f64a50",
      "metadata": {
        "id": "59f64a50"
      },
      "source": [
        "## Symbols\n",
        "\n",
        "### Sets\n",
        "\n",
        "| Symbol  | Pronunciation | Meaning |\n",
        "|---------|---------|---------|\n",
        "| $\\emptyset$ | empty set | the empty set |\n",
        "| $\\in$ | in, is in | is an element of |\n",
        "| $\\subseteq$ | is a subset of | is a subset of or equal to |\n",
        "| $\\cup$ | union | set union |\n",
        "| $\\cap$ | intersect | set intersection |\n",
        "| $\\times$ | times, cross | Cartesian product |\n",
        "| $\\setminus$ | minus | set difference |\n",
        "| $\\overline S$ | S bar | set complement |\n",
        "| $|S|$ | | size of set $S$ |\n",
        "| $\\mathcal{P}(S)$, $2^S$ | | power set of $S$ |\n",
        "\n",
        "### Strings and languages\n",
        "\n",
        "| Symbol  | Pronunciation | Meaning |\n",
        "|---------|---------|---------|\n",
        "| $\\circ$ | | string concatenation |\n",
        "| ${}^R$ | reverse | string reversal |\n",
        "| ${}^n$ | to the $n$ | concatenate $n$ copies |\n",
        "| ${}^*$ | star | concatenate zero or more copies |\n",
        "| ${}^+$ | plus | concatenate one or more copies |\n",
        "| ${}_\\varepsilon$ | sub epsilon | zero or one copy |\n",
        "| $|w|$ | | length of $w$ |\n",
        "\n",
        "### Logic\n",
        "\n",
        "| Symbol  | Pronunciation | Meaning |\n",
        "|---------|---------|---------|\n",
        "| $\\forall$ | for all | for all |\n",
        "| $\\exists$ | there exists | there exists |\n",
        "| $\\land$ | and | conjunction |\n",
        "| $\\lor$ | or | disjunction |\n",
        "| $\\neg$ | not | negation |"
      ]
    },
    {
      "cell_type": "markdown",
      "id": "472b0338",
      "metadata": {
        "id": "472b0338"
      },
      "source": [
        "## Letters\n",
        "\n",
        "### Greek\n",
        "\n",
        "| Letter | Pronunciation | Typical usage |\n",
        "|--------|---------------|---------------|\n",
        "| $\\Gamma$ | gamma | alphabet |\n",
        "| $\\Delta$ | delta | alphabet |\n",
        "| $\\Sigma$ | sigma | alphabet |\n",
        "| $\\alpha$ | alpha | regular expression |\n",
        "| $\\beta$  | beta | regular expression |\n",
        "| $\\delta$ | delta | transition function |\n",
        "| $\\varepsilon$ | epsilon | empty string |\n",
        "| $\\phi, \\varphi$ | phi | function |\n",
        "\n",
        "### Latin\n",
        "\n",
        "| Letter | Typical usage |\n",
        "|--------|---------------|\n",
        "| $A$    | nonterminal symbol |\n",
        "| $F$    | (for \"final\") set of accept states |\n",
        "| $G$    | grammar |\n",
        "| $L$    | language |\n",
        "| $M$    | (for machine) a DFA or TM |\n",
        "| $N$    | NFA |\n",
        "| $P$    | PDA |\n",
        "| $Q$    | set of states |\n",
        "| $R$    | set of rules |\n",
        "| $S$    | start nonterminal symbol |\n",
        "| $V$    | (for \"variables\") set of nonterminal symbols |\n",
        "| $a$    | symbol |\n",
        "| $n$    | length of a string |\n",
        "| $p$    | \"pumping length\" |\n",
        "| $q$    | state         |\n",
        "| $r$    | state         |\n",
        "| $s$    | start state (my notes only) |\n",
        "| $u, v$ | string |\n",
        "| $w$    | (for \"word\") string |\n",
        "| $x, y, z$ | string |"
      ]
    },
    {
      "cell_type": "markdown",
      "id": "61b2267e",
      "metadata": {
        "id": "61b2267e"
      },
      "source": [
        "## Terminology\n",
        "\n",
        "*   alphabet: a finite, nonempty set of symbols\n",
        "*   string: a finite (possibly empty) sequence of symbols\n",
        "*   language: a (possibly empty, possibly infinite) set of strings\n",
        "*   language class: a set of languages\n",
        "*   prefix: $x$ is a prefix of $y$ iff $xv = y$ for some $v$\n",
        "*   substring: $x$ is a substring of $y$ iff $uxv = y$ for some $u, v$ \n",
        "*   suffix: $x$ is a suffix of $y$ iff $ux = y$ for some $u$\n",
        "*   string homomorphism: a function $\\phi$ from strings to strings such that $\\phi(uv) = \\phi(u)\\phi(v)$"
      ]
    },
    {
      "cell_type": "markdown",
      "id": "35100bba",
      "metadata": {
        "id": "35100bba"
      },
      "source": [
        "## Math-ese\n",
        "\n",
        "* a, an: This little word is tricky because sometimes it means \"for all\" and sometimes it means \"there exists.\" I believe in the subject it means \"for all\" and in the predicate it means \"there exists\". For example, \"The angles of a triangle add up to 180 degrees\" is a statement about _all_ triangles, not just _a_ triangle that I once saw somewhere. But \"Every triangle has an acute angle\" means that every triangle has at least one acute angle, not that all of its angles are acute.\n",
        "\n",
        "* not in general: negates an implicit \"for all\". \"Birds cannot fly\" is a false statement, but \"Birds cannot in general fly\" is true because some birds cannot fly.\n",
        "\n",
        "* if and only if, iff, $\\Leftrightarrow$, just in case: These all mean the same thing. \"x if and only if y\" means \"if y then x, and if x then y\".\n",
        "\n",
        "* exactly one, one and only one: As opposed to \"at least one.\"\n",
        "\n",
        "* show: has a milder sound than \"prove\" but means more or less the same thing.\n",
        "\n",
        "* such that, s.t.: In English we can say things like \"every class that I have been in\" and similarly in math we can say things like \"every set that $x$ belongs to.\" But sometimes this isn't convenient; for example, we can't write \"every set that $x \\in {}$.\" Enter \"such that\": we can write \"every class $C$ such that I have been in $C$,\" \"every set $S$ such that $x$ belongs to $S$,\" as well as \"every set $S$ such that $x \\in S$.\"\n",
        "\n",
        "* without loss of generality, wlog: Means that I'm supposed to prove something, and I'm going to prove a special case of it that the general case trivially (see \"trivial\") follows from. For example, if I have to prove that for any distinct real numbers $x$ and $y$, there is another real number between them, then I can start the proof with \"Without loss of generality, assume $x < y$.\"\n",
        "\n",
        "* clearly, obviously: Attached to claims that are actually _not_ obvious but that the writer doesn't want to justify in more detail. Don't feel bad if it's not obvious to you, but do try to spend some time to see why it's true.\n",
        "\n",
        "* trivial: Sometimes this term is used to mean \"really easy\" but sometimes it refers to the simplest case of something, which might not be that obvious."
      ]
    }
  ],
  "metadata": {
    "kernelspec": {
      "display_name": "Python 3 (ipykernel)",
      "language": "python",
      "name": "python3"
    },
    "language_info": {
      "codemirror_mode": {
        "name": "ipython",
        "version": 3
      },
      "file_extension": ".py",
      "mimetype": "text/x-python",
      "name": "python",
      "nbconvert_exporter": "python",
      "pygments_lexer": "ipython3",
      "version": "3.10.7"
    },
    "colab": {
      "provenance": []
    }
  },
  "nbformat": 4,
  "nbformat_minor": 5
}
{
  "cells": [
    {
      "cell_type": "markdown",
      "metadata": {
        "id": "view-in-github",
        "colab_type": "text"
      },
      "source": [
        "<a href=\"https://colab.research.google.com/github/ND-CSE-30151/spring-2023/blob/master/notes/30-cooklevin.ipynb\" target=\"_parent\"><img src=\"https://colab.research.google.com/assets/colab-badge.svg\" alt=\"Open In Colab\"/></a>"
      ]
    },
    {
      "cell_type": "markdown",
      "metadata": {
        "id": "-glI2nRQGPul"
      },
      "source": [
        "# Notebook 30: The Cook-Levin Theorem"
      ]
    },
    {
      "cell_type": "code",
      "execution_count": 1,
      "metadata": {
        "id": "CH1HZgneGPun",
        "colab": {
          "base_uri": "https://localhost:8080/"
        },
        "cellView": "form",
        "outputId": "8b59ac49-c512-4fca-b942-a640ac6a569f"
      },
      "outputs": [
        {
          "output_type": "stream",
          "name": "stdout",
          "text": [
            "\u001b[?25l     \u001b[90m━━━━━━━━━━━━━━━━━━━━━━━━━━━━━━━━━━━━━━━━\u001b[0m \u001b[32m0.0/535.3 kB\u001b[0m \u001b[31m?\u001b[0m eta \u001b[36m-:--:--\u001b[0m\r\u001b[2K     \u001b[91m━━━━━━━━━━━━━━━━━━━━━━━\u001b[0m\u001b[90m╺\u001b[0m\u001b[90m━━━━━━━━━━━━━━━\u001b[0m \u001b[32m317.4/535.3 kB\u001b[0m \u001b[31m9.5 MB/s\u001b[0m eta \u001b[36m0:00:01\u001b[0m\r\u001b[2K     \u001b[90m━━━━━━━━━━━━━━━━━━━━━━━━━━━━━━━━━━━━━━━\u001b[0m \u001b[32m535.3/535.3 kB\u001b[0m \u001b[31m9.0 MB/s\u001b[0m eta \u001b[36m0:00:00\u001b[0m\n",
            "\u001b[?25h  Preparing metadata (setup.py) ... \u001b[?25l\u001b[?25hdone\n",
            "  Building wheel for tock (setup.py) ... \u001b[?25l\u001b[?25hdone\n"
          ]
        }
      ],
      "source": [
        "#@title Setup\n",
        "!pip install -qqq tock\n",
        "!test -x /content/theory || git clone --quiet https://github.com/ND-CSE-30151/spring-2023 /content/theory\n",
        "%cd -q /content/theory/notes\n",
        "from tock import *\n",
        "from cooklevin import *"
      ]
    },
    {
      "cell_type": "markdown",
      "metadata": {
        "id": "gVw1GkshGPup"
      },
      "source": [
        "<div class=\"alert alert-info\">\n",
        "    <p><b>Read</b> Section 7.4, \"The Cook-Levin Theorem.\"</p>\n",
        "</div>    \n",
        "\n",
        "A Boolean formula is made out of variables, negation ($\\neg x$ or $\\bar x$), conjunction ($\\land$), and disjunction ($\\lor$). A formula $\\phi$ is *satisfiable* iff there is a way to assign true or false values to variables such that $\\phi$ is true.\n",
        "\n",
        "The Boolean satisfiability problem (SAT) is\n",
        "\n",
        "$$ \\{ \\phi \\mid \\text{$\\phi$ is satisfiable} \\}. $$\n",
        "\n",
        "Now we want to show that SAT is NP-complete.\n",
        "\n",
        "#### The big picture\n",
        "\n",
        "This is a really long proof. I think it's helpful to first look at how it lines up with our skeleton proof.\n",
        "\n",
        "First, we have to show that SAT is in NP, which is easy. Let's get that out of the way: it's enough to say that we can check a truth-assignment for $\\phi$ in time linear in the length of $\\phi$.\n",
        "\n",
        "To show that SAT is NP-hard, we need to show that if SAT was decidable in polynomial time by a TM $R$, then, for any language $A$ in NP, we would be able to decide $A$ in polynomial time, in three steps: On input $w$,\n",
        "\n",
        "1. Convert $w$ to a Boolean formula $\\phi$.\n",
        "2. Run $R$ on $\\phi$.\n",
        "3. If $R$ accepts, *accept*; else, *reject*.\n",
        "\n",
        "So all the work is in defining a function $f$ that converts $w$ to a formula $\\phi$, showing that that $\\phi$ is satisfiable iff $w \\in A$, and showing that $f$ runs in polynomial time."
      ]
    },
    {
      "cell_type": "markdown",
      "metadata": {
        "id": "5E1i_EJWGPuq"
      },
      "source": [
        "#### The medium picture\n",
        "\n",
        "Since we know that $A$ is in NP, there must be a NTM $N$ that decides it in polynomial time. That is, there is a function $t(n)$ such that for any input string $w$, $N$ accepts or rejects $w$ in at most $t(|w|)$ steps, and $t(n) \\in O(n^k)$ for some $k$. For brevity, we write $t$ instead of $t(|w|)$ below.\n",
        "\n",
        "Given $N$, $t$, and $w$, can can construct a *tableau*, which is a two-dimensional representation of a computation history for $N$ on $w$. The first row is the start configuration, and the following rows are the steps of the run. Each row is delimited by # on the left and right. Finally, if a row is an accepting configuration, the same configuration is repeated in the rows below it (this detail is missing from the book, but something like it seems necessary).\n",
        "\n",
        "![image.png](attachment:image.png)\n",
        "\n",
        "Because we only need to simulate $N$ up to $t$ steps, we can fix the size of the tableau in terms of $t$. There are $t+1$ rows: one row for the start configuration, plus one row for each step. And there are $t+4$ columns, because in $t$ steps, the head could move as far right as the $(t+1)st$ cell, plus one for the state, plus two for the #'s.\n",
        "\n",
        "Now we need to write a giant formula $\\phi$ that checks whether the tableau is an accepting computation history for $N$ on $w$. The variables of this formula are $x_{i,j,s}$, where $i$ is a row number, $j$ is a column number, and $s$ is either a tape symbol or a state. If $x_{i,j,s}$ is true, that means that cell $i,j$ contains symbol $s$. It's $\\phi$'s job to check that a truth-assignment encodes a well-formed, accepting tableau.\n",
        "\n",
        "The formula $\\phi$ has four parts: $\\phi = \\phi_{\\mathrm{cell}} \\land \\phi_{\\mathrm{start}} \\land \\phi_{\\mathrm{move}} \\land \\phi_{\\mathrm{accept}}$. The purpose of these four parts is:\n",
        "\n",
        "- $\\phi_{\\mathrm{cell}}$: Each cell contains exactly one symbol.\n",
        "- $\\phi_{\\mathrm{start}}$: The first row of the tableau is the initial configuration of $N$.\n",
        "- $\\phi_{\\mathrm{move}}$: Each row (except the first) is a configuration that legally follows the row above it according to $N$'s rules.\n",
        "- $\\phi_{\\mathrm{accept}}$: The last row is an accepting configuration."
      ]
    },
    {
      "cell_type": "markdown",
      "metadata": {
        "id": "L6svMaeyGPuq"
      },
      "source": [
        "#### Every cell has exactly one symbol\n",
        "\n",
        "Let $C = Q \\cup \\Gamma \\cup \\{\\#\\}$, the set of all possible symbols in a tableau cell. We ensure that every cell has exactly one symbol with the subformula:\n",
        "\n",
        "\\begin{align*}\n",
        "\\phi_{\\text{cell}} = \\bigwedge_{1 \\leq i \\leq t+1} \\bigwedge_{1 \\leq j \\leq t+4} &\\bigg[ && \\text{for each cell,} \\\\\n",
        "& \\bigvee_{s \\in C}  x_{i,j,s} \\land {} && \\text{each cell has at least one symbol} \\\\\n",
        "& \\bigwedge_{s,s' \\in C, s \\neq s'} \\neg (x_{i,j,s} \\land x_{i,j,s'}) && \\text{and no cell has two symbols} \\\\\n",
        "&\\bigg]\n",
        "\\end{align*}"
      ]
    },
    {
      "cell_type": "markdown",
      "metadata": {
        "id": "WDm5IEu3GPur"
      },
      "source": [
        "#### The first row is a start configuration\n",
        "\n",
        "\\begin{align*}\n",
        "\\phi_{\\text{start}} = & x_{1,1,\\#} \\land {} && \\text{left boundary} \\\\\n",
        "                      & x_{1,2,q_0} \\land{} && \\text{start state} \\\\\n",
        "                      & \\bigwedge_{1 \\leq i \\leq n} x_{1,i+2,w_i} \\land{} && \\text{input string} \\\\\n",
        "                      & \\bigwedge_{n+1 \\leq i \\leq t+1} x_{1,i+2,\\_} \\land{} && \\text{blank symbols} \\\\\n",
        "                      & x_{1,t+4,\\#} && \\text{right boundary}\n",
        "\\end{align*}"
      ]
    },
    {
      "cell_type": "markdown",
      "metadata": {
        "id": "aVWWZqw7GPur"
      },
      "source": [
        "#### Each row (except the first) follows from the previous row\n",
        "\n",
        "This is the most complicated part of the formula.\n",
        "\n",
        "\\begin{align*}\n",
        "\\phi_{\\text{move}} = \\bigwedge_{1 \\leq i \\leq t} \\bigwedge_{2 \\leq j \\leq t+1} &\\bigg[ && \\text{for each $2\\times3$ window} \\\\\n",
        "& \\bigvee_{\\text{$a_1, \\ldots, a_6$ is a legal window}} x_{i,j-1,a_1} \\land x_{i,j,a_2} \\land x_{i,j+1,a_3} \\land x_{i+1,j-1,a_4} \\land x_{i+1,j,a_5} \\land x_{i+1,j+1,a_6} && \\text{the window is legal} \\\\\n",
        "&\\bigg]\n",
        "\\end{align*}\n",
        "\n",
        "The book just gives a few examples of legal windows (Figure 7.39) but doesn't list them all out. If you like details to be completely worked out, here they are.\n",
        "\n",
        "This is a legal window:\n",
        "\n",
        "```\n",
        "abc\n",
        "abc\n",
        "```\n",
        "\n",
        "where a, b, and c are tape symbols, #, or $q_{\\text{accept}}$.\n",
        "\n",
        "Recall that if there is a transition $q \\xrightarrow{b \\rightarrow c, \\text{L}} r$, then the configuration $uaqbv$ yields configuration $uracv$, where $u$ and $v$ are strings of tape symbols. So the following are all legal windows:\n",
        "\n",
        "```\n",
        "xya  yaq  aqb  qbx  bxy\n",
        "xyr  yra  rac  acx  cxy\n",
        "```\n",
        "\n",
        "where $x$ and $y$ are any tape symbols or #.\n",
        "\n",
        "A special case is when the head is at the left end of the tape and tries to move left ($qbv$ becomes $rcv$).\n",
        "\n",
        "```\n",
        "#qb  qbx\n",
        "#rc  rcx \n",
        "```\n",
        "\n",
        "Similarly, if there is a transition $q \\xrightarrow{b \\rightarrow c, \\text{R}} r$, then the configuration $uaqbv$ yields configuration $uacrv$. So the following are all legal windows:\n",
        "\n",
        "```\n",
        "yaq  aqb  qbx  bxy\n",
        "yac  acr  crx  rxy\n",
        "```\n",
        "\n",
        "where $x$ and $y$ are any tape symbols or #.\n",
        "\n",
        "These 12 cases cover all possibilities -- nothing else is a legal window."
      ]
    },
    {
      "cell_type": "markdown",
      "metadata": {
        "id": "imeVvN8FGPus"
      },
      "source": [
        "#### The last row is an accepting configuration\n",
        "\n",
        "$$\\phi_{\\text{accept}} = \\bigvee_{2 \\leq j \\leq t+2} x_{t+1,j,q_{\\text{accept}}} $$"
      ]
    },
    {
      "cell_type": "markdown",
      "metadata": {
        "id": "yVYw4MpJGPut"
      },
      "source": [
        "#### Demo\n",
        "\n",
        "Here's an NTM for $\\{\\texttt{1}^n \\mid \\text{$n$ is composite}\\}$:"
      ]
    },
    {
      "cell_type": "code",
      "execution_count": 2,
      "metadata": {
        "id": "tlvfLz48GPut",
        "outputId": "3ef614a2-116e-4304-cf13-785508dd04dc",
        "colab": {
          "base_uri": "https://localhost:8080/",
          "height": 254
        }
      },
      "outputs": [
        {
          "output_type": "display_data",
          "data": {
            "text/plain": [
              "<IPython.core.display.SVG object>"
            ],
            "image/svg+xml": "<svg xmlns=\"http://www.w3.org/2000/svg\" xmlns:xlink=\"http://www.w3.org/1999/xlink\" width=\"846pt\" height=\"160pt\" viewBox=\"0.00 0.00 845.50 160.00\">\n<g id=\"graph0\" class=\"graph\" transform=\"scale(1 1) rotate(0) translate(4 156)\">\n\n<polygon fill=\"white\" stroke=\"transparent\" points=\"-4,4 -4,-156 841.5,-156 841.5,4 -4,4\"/>\n<!-- _START -->\n<g id=\"node1\" class=\"node\">\n\n</g>\n<!-- 0 -->\n<g id=\"node2\" class=\"node\">\n\n<path fill=\"none\" stroke=\"black\" d=\"M53.33,-104C53.33,-104 43.67,-104 43.67,-104 40.83,-104 38,-101.17 38,-98.33 38,-98.33 38,-92.67 38,-92.67 38,-89.83 40.83,-87 43.67,-87 43.67,-87 53.33,-87 53.33,-87 56.17,-87 59,-89.83 59,-92.67 59,-92.67 59,-98.33 59,-98.33 59,-101.17 56.17,-104 53.33,-104\"/>\n<text text-anchor=\"start\" x=\"42\" y=\"-93\" font-family=\"Monospace\" font-size=\"10.00\">q1</text>\n</g>\n<!-- _START&#45;&gt;0 -->\n<g id=\"edge1\" class=\"edge\">\n\n<path fill=\"none\" stroke=\"black\" d=\"M1.13,-95.5C2.79,-95.5 19.6,-95.5 32.5,-95.5\"/>\n<polygon fill=\"black\" stroke=\"black\" points=\"37.74,-95.5 32.74,-97.75 35.24,-95.5 32.74,-95.5 32.74,-95.5 32.74,-95.5 35.24,-95.5 32.74,-93.25 37.74,-95.5 37.74,-95.5\"/>\n</g>\n<!-- 6 -->\n<g id=\"node8\" class=\"node\">\n\n<path fill=\"none\" stroke=\"black\" d=\"M153.33,-104C153.33,-104 143.67,-104 143.67,-104 140.83,-104 138,-101.17 138,-98.33 138,-98.33 138,-92.67 138,-92.67 138,-89.83 140.83,-87 143.67,-87 143.67,-87 153.33,-87 153.33,-87 156.17,-87 159,-89.83 159,-92.67 159,-92.67 159,-98.33 159,-98.33 159,-101.17 156.17,-104 153.33,-104\"/>\n<text text-anchor=\"start\" x=\"142\" y=\"-93\" font-family=\"Monospace\" font-size=\"10.00\">q2</text>\n</g>\n<!-- 0&#45;&gt;6 -->\n<g id=\"edge2\" class=\"edge\">\n\n<path fill=\"none\" stroke=\"black\" d=\"M59.25,-95.5C76.5,-95.5 112.46,-95.5 132.75,-95.5\"/>\n<polygon fill=\"black\" stroke=\"black\" points=\"137.78,-95.5 132.78,-97.75 135.28,-95.5 132.78,-95.5 132.78,-95.5 132.78,-95.5 135.28,-95.5 132.78,-93.25 137.78,-95.5 137.78,-95.5\"/>\n<text text-anchor=\"start\" x=\"80.5\" y=\"-101.3\" font-family=\"Monospace\" font-size=\"9.00\">1 → $ ^</text>\n</g>\n<!-- 1 -->\n<g id=\"node3\" class=\"node\">\n\n<path fill=\"none\" stroke=\"black\" d=\"M705.33,-60C705.33,-60 695.67,-60 695.67,-60 692.83,-60 690,-57.17 690,-54.33 690,-54.33 690,-48.67 690,-48.67 690,-45.83 692.83,-43 695.67,-43 695.67,-43 705.33,-43 705.33,-43 708.17,-43 711,-45.83 711,-48.67 711,-48.67 711,-54.33 711,-54.33 711,-57.17 708.17,-60 705.33,-60\"/>\n<text text-anchor=\"start\" x=\"694\" y=\"-49\" font-family=\"Monospace\" font-size=\"10.00\">q7</text>\n</g>\n<!-- 3 -->\n<g id=\"node5\" class=\"node\">\n\n<path fill=\"none\" stroke=\"black\" d=\"M823.83,-33C823.83,-33 808.17,-33 808.17,-33 805.33,-33 802.5,-30.17 802.5,-27.33 802.5,-27.33 802.5,-21.67 802.5,-21.67 802.5,-18.83 805.33,-16 808.17,-16 808.17,-16 823.83,-16 823.83,-16 826.67,-16 829.5,-18.83 829.5,-21.67 829.5,-21.67 829.5,-27.33 829.5,-27.33 829.5,-30.17 826.67,-33 823.83,-33\"/>\n<text text-anchor=\"start\" x=\"806.5\" y=\"-22\" font-family=\"Monospace\" font-size=\"10.00\">q5x</text>\n</g>\n<!-- 1&#45;&gt;3 -->\n<g id=\"edge16\" class=\"edge\">\n\n<path fill=\"none\" stroke=\"black\" d=\"M711.18,-49.2C730.3,-44.65 773.15,-34.45 797.4,-28.69\"/>\n<polygon fill=\"black\" stroke=\"black\" points=\"802.28,-27.53 797.94,-30.87 799.85,-28.1 797.42,-28.68 797.42,-28.68 797.42,-28.68 799.85,-28.1 796.89,-26.49 802.28,-27.53 802.28,-27.53\"/>\n<text text-anchor=\"start\" x=\"743.5\" y=\"-48.3\" font-family=\"Monospace\" font-size=\"9.00\">x → ␣ ^</text>\n</g>\n<!-- 4 -->\n<g id=\"node6\" class=\"node\">\n\n<path fill=\"none\" stroke=\"black\" d=\"M460.83,-104C460.83,-104 445.17,-104 445.17,-104 442.33,-104 439.5,-101.17 439.5,-98.33 439.5,-98.33 439.5,-92.67 439.5,-92.67 439.5,-89.83 442.33,-87 445.17,-87 445.17,-87 460.83,-87 460.83,-87 463.67,-87 466.5,-89.83 466.5,-92.67 466.5,-92.67 466.5,-98.33 466.5,-98.33 466.5,-101.17 463.67,-104 460.83,-104\"/>\n<text text-anchor=\"start\" x=\"443.5\" y=\"-93\" font-family=\"Monospace\" font-size=\"10.00\">q5s</text>\n</g>\n<!-- 1&#45;&gt;4 -->\n<g id=\"edge15\" class=\"edge\">\n\n<path fill=\"none\" stroke=\"black\" d=\"M690.59,-60.13C674.25,-75.28 637.71,-106.13 600,-117.5 551.48,-132.13 534.48,-130.27 486,-115.5 479.93,-113.65 473.87,-110.34 468.68,-106.93\"/>\n<polygon fill=\"black\" stroke=\"black\" points=\"464.55,-104.08 469.94,-105.07 466.61,-105.5 468.67,-106.92 468.67,-106.92 468.67,-106.92 466.61,-105.5 467.39,-108.77 464.55,-104.08 464.55,-104.08\"/>\n<text text-anchor=\"start\" x=\"555.5\" y=\"-133.3\" font-family=\"Monospace\" font-size=\"9.00\">$ → ␣ ^</text>\n</g>\n<!-- 2 -->\n<g id=\"node4\" class=\"node\">\n\n<path fill=\"none\" stroke=\"black\" d=\"M590.33,-104C590.33,-104 556.67,-104 556.67,-104 553.83,-104 551,-101.17 551,-98.33 551,-98.33 551,-92.67 551,-92.67 551,-89.83 553.83,-87 556.67,-87 556.67,-87 590.33,-87 590.33,-87 593.17,-87 596,-89.83 596,-92.67 596,-92.67 596,-98.33 596,-98.33 596,-101.17 593.17,-104 590.33,-104\"/>\n<path fill=\"none\" stroke=\"black\" d=\"M591.67,-108C591.67,-108 555.33,-108 555.33,-108 551.17,-108 547,-103.83 547,-99.67 547,-99.67 547,-91.33 547,-91.33 547,-87.17 551.17,-83 555.33,-83 555.33,-83 591.67,-83 591.67,-83 595.83,-83 600,-87.17 600,-91.33 600,-91.33 600,-99.67 600,-99.67 600,-103.83 595.83,-108 591.67,-108\"/>\n<text text-anchor=\"start\" x=\"555\" y=\"-93\" font-family=\"Monospace\" font-size=\"10.00\">accept</text>\n</g>\n<!-- 3&#45;&gt;3 -->\n<g id=\"edge12\" class=\"edge\">\n\n<path fill=\"none\" stroke=\"black\" d=\"M807.95,-33.19C803.51,-41.67 806.19,-51 816,-51 823.97,-51 827.23,-44.84 825.79,-37.98\"/>\n<polygon fill=\"black\" stroke=\"black\" points=\"824.05,-33.19 827.87,-37.11 824.9,-35.53 825.76,-37.88 825.76,-37.88 825.76,-37.88 824.9,-35.53 823.64,-38.65 824.05,-33.19 824.05,-33.19\"/>\n<text text-anchor=\"start\" x=\"798\" y=\"-70.8\" font-family=\"Monospace\" font-size=\"9.00\">$ → $ ^</text>\n<text text-anchor=\"start\" x=\"798\" y=\"-56.8\" font-family=\"Monospace\" font-size=\"9.00\">x → x ^</text>\n</g>\n<!-- 7 -->\n<g id=\"node9\" class=\"node\">\n\n<path fill=\"none\" stroke=\"black\" d=\"M578.33,-17C578.33,-17 568.67,-17 568.67,-17 565.83,-17 563,-14.17 563,-11.33 563,-11.33 563,-5.67 563,-5.67 563,-2.83 565.83,0 568.67,0 568.67,0 578.33,0 578.33,0 581.17,0 584,-2.83 584,-5.67 584,-5.67 584,-11.33 584,-11.33 584,-14.17 581.17,-17 578.33,-17\"/>\n<text text-anchor=\"start\" x=\"567\" y=\"-6\" font-family=\"Monospace\" font-size=\"10.00\">q6</text>\n</g>\n<!-- 3&#45;&gt;7 -->\n<g id=\"edge11\" class=\"edge\">\n\n<path fill=\"none\" stroke=\"black\" d=\"M802.37,-23.49C784.48,-22.08 750.75,-19.46 722,-17.5 673.49,-14.19 615.97,-10.85 589.36,-9.34\"/>\n<polygon fill=\"black\" stroke=\"black\" points=\"584.17,-9.04 589.29,-7.08 586.66,-9.18 589.16,-9.33 589.16,-9.33 589.16,-9.33 586.66,-9.18 589.03,-11.57 584.17,-9.04 584.17,-9.04\"/>\n<text text-anchor=\"start\" x=\"682.5\" y=\"-23.3\" font-family=\"Monospace\" font-size=\"9.00\">1 → ^ x</text>\n</g>\n<!-- 4&#45;&gt;2 -->\n<g id=\"edge8\" class=\"edge\">\n\n<path fill=\"none\" stroke=\"black\" d=\"M466.68,-95.5C484.41,-95.5 517.16,-95.5 541.54,-95.5\"/>\n<polygon fill=\"black\" stroke=\"black\" points=\"546.61,-95.5 541.61,-97.75 544.11,-95.5 541.61,-95.5 541.61,-95.5 541.61,-95.5 544.11,-95.5 541.61,-93.25 546.61,-95.5 546.61,-95.5\"/>\n<text text-anchor=\"start\" x=\"489.5\" y=\"-101.3\" font-family=\"Monospace\" font-size=\"9.00\">␣ → ^ ␣</text>\n</g>\n<!-- 4&#45;&gt;4 -->\n<g id=\"edge10\" class=\"edge\">\n\n<path fill=\"none\" stroke=\"black\" d=\"M444.95,-104.19C440.51,-112.67 443.19,-122 453,-122 460.97,-122 464.23,-115.84 462.79,-108.98\"/>\n<polygon fill=\"black\" stroke=\"black\" points=\"461.05,-104.19 464.87,-108.11 461.9,-106.53 462.76,-108.88 462.76,-108.88 462.76,-108.88 461.9,-106.53 460.64,-109.65 461.05,-104.19 461.05,-104.19\"/>\n<text text-anchor=\"start\" x=\"435\" y=\"-141.8\" font-family=\"Monospace\" font-size=\"9.00\">$ → $ ^</text>\n<text text-anchor=\"start\" x=\"435\" y=\"-127.8\" font-family=\"Monospace\" font-size=\"9.00\">x → x ^</text>\n</g>\n<!-- 4&#45;&gt;7 -->\n<g id=\"edge9\" class=\"edge\">\n\n<path fill=\"none\" stroke=\"black\" d=\"M465.8,-86.84C487.84,-70.66 535.18,-35.9 558.68,-18.65\"/>\n<polygon fill=\"black\" stroke=\"black\" points=\"562.78,-15.64 560.08,-20.41 560.76,-17.12 558.75,-18.6 558.75,-18.6 558.75,-18.6 560.76,-17.12 557.42,-16.78 562.78,-15.64 562.78,-15.64\"/>\n<text text-anchor=\"start\" x=\"489.5\" y=\"-75.3\" font-family=\"Monospace\" font-size=\"9.00\">1 → ^ $</text>\n</g>\n<!-- 5 -->\n<g id=\"node7\" class=\"node\">\n\n<path fill=\"none\" stroke=\"black\" d=\"M253.33,-104C253.33,-104 243.67,-104 243.67,-104 240.83,-104 238,-101.17 238,-98.33 238,-98.33 238,-92.67 238,-92.67 238,-89.83 240.83,-87 243.67,-87 243.67,-87 253.33,-87 253.33,-87 256.17,-87 259,-89.83 259,-92.67 259,-92.67 259,-98.33 259,-98.33 259,-101.17 256.17,-104 253.33,-104\"/>\n<text text-anchor=\"start\" x=\"242\" y=\"-93\" font-family=\"Monospace\" font-size=\"10.00\">q3</text>\n</g>\n<!-- 5&#45;&gt;5 -->\n<g id=\"edge4\" class=\"edge\">\n\n<path fill=\"none\" stroke=\"black\" d=\"M241.05,-104.19C236.93,-112.67 239.42,-122 248.5,-122 255.88,-122 258.9,-115.84 257.57,-108.98\"/>\n<polygon fill=\"black\" stroke=\"black\" points=\"255.95,-104.19 259.68,-108.2 256.75,-106.55 257.55,-108.92 257.55,-108.92 257.55,-108.92 256.75,-106.55 255.42,-109.64 255.95,-104.19 255.95,-104.19\"/>\n<text text-anchor=\"start\" x=\"230.5\" y=\"-127.8\" font-family=\"Monospace\" font-size=\"9.00\">1 → x ^</text>\n</g>\n<!-- 8 -->\n<g id=\"node10\" class=\"node\">\n\n<path fill=\"none\" stroke=\"black\" d=\"M353.33,-104C353.33,-104 343.67,-104 343.67,-104 340.83,-104 338,-101.17 338,-98.33 338,-98.33 338,-92.67 338,-92.67 338,-89.83 340.83,-87 343.67,-87 343.67,-87 353.33,-87 353.33,-87 356.17,-87 359,-89.83 359,-92.67 359,-92.67 359,-98.33 359,-98.33 359,-101.17 356.17,-104 353.33,-104\"/>\n<text text-anchor=\"start\" x=\"342\" y=\"-93\" font-family=\"Monospace\" font-size=\"10.00\">q4</text>\n</g>\n<!-- 5&#45;&gt;8 -->\n<g id=\"edge5\" class=\"edge\">\n\n<path fill=\"none\" stroke=\"black\" d=\"M259.25,-95.5C276.5,-95.5 312.46,-95.5 332.75,-95.5\"/>\n<polygon fill=\"black\" stroke=\"black\" points=\"337.78,-95.5 332.78,-97.75 335.28,-95.5 332.78,-95.5 332.78,-95.5 332.78,-95.5 335.28,-95.5 332.78,-93.25 337.78,-95.5 337.78,-95.5\"/>\n<text text-anchor=\"start\" x=\"280.5\" y=\"-101.3\" font-family=\"Monospace\" font-size=\"9.00\">1 → ^ 1</text>\n</g>\n<!-- 6&#45;&gt;5 -->\n<g id=\"edge3\" class=\"edge\">\n\n<path fill=\"none\" stroke=\"black\" d=\"M159.25,-95.5C176.5,-95.5 212.46,-95.5 232.75,-95.5\"/>\n<polygon fill=\"black\" stroke=\"black\" points=\"237.78,-95.5 232.78,-97.75 235.28,-95.5 232.78,-95.5 232.78,-95.5 232.78,-95.5 235.28,-95.5 232.78,-93.25 237.78,-95.5 237.78,-95.5\"/>\n<text text-anchor=\"start\" x=\"180.5\" y=\"-101.3\" font-family=\"Monospace\" font-size=\"9.00\">1 → x ^</text>\n</g>\n<!-- 7&#45;&gt;1 -->\n<g id=\"edge13\" class=\"edge\">\n\n<path fill=\"none\" stroke=\"black\" d=\"M584.31,-11.87C606.21,-19.41 659.21,-37.64 684.97,-46.5\"/>\n<polygon fill=\"black\" stroke=\"black\" points=\"689.74,-48.14 684.28,-48.64 687.37,-47.33 685.01,-46.52 685.01,-46.52 685.01,-46.52 687.37,-47.33 685.74,-44.39 689.74,-48.14 689.74,-48.14\"/>\n<text text-anchor=\"start\" x=\"621.5\" y=\"-44.3\" font-family=\"Monospace\" font-size=\"9.00\">␣ → ␣ ^</text>\n</g>\n<!-- 7&#45;&gt;7 -->\n<g id=\"edge14\" class=\"edge\">\n\n<path fill=\"none\" stroke=\"black\" d=\"M563.67,-17.19C558.23,-25.67 561.51,-35 573.5,-35 583.24,-35 587.23,-28.84 585.47,-21.98\"/>\n<polygon fill=\"black\" stroke=\"black\" points=\"583.33,-17.19 587.42,-20.84 584.35,-19.47 585.37,-21.75 585.37,-21.75 585.37,-21.75 584.35,-19.47 583.31,-22.67 583.33,-17.19 583.33,-17.19\"/>\n<text text-anchor=\"start\" x=\"555.5\" y=\"-54.8\" font-family=\"Monospace\" font-size=\"9.00\">$ → ^ $</text>\n<text text-anchor=\"start\" x=\"555.5\" y=\"-40.8\" font-family=\"Monospace\" font-size=\"9.00\">x → ^ x</text>\n</g>\n<!-- 8&#45;&gt;4 -->\n<g id=\"edge6\" class=\"edge\">\n\n<path fill=\"none\" stroke=\"black\" d=\"M359.33,-95.5C376.51,-95.5 412.25,-95.5 433.98,-95.5\"/>\n<polygon fill=\"black\" stroke=\"black\" points=\"439.18,-95.5 434.18,-97.75 436.68,-95.5 434.18,-95.5 434.18,-95.5 434.18,-95.5 436.68,-95.5 434.18,-93.25 439.18,-95.5 439.18,-95.5\"/>\n<text text-anchor=\"start\" x=\"380.5\" y=\"-101.3\" font-family=\"Monospace\" font-size=\"9.00\">$ → ␣ ^</text>\n</g>\n<!-- 8&#45;&gt;8 -->\n<g id=\"edge7\" class=\"edge\">\n\n<path fill=\"none\" stroke=\"black\" d=\"M341.05,-104.19C336.93,-112.67 339.42,-122 348.5,-122 355.88,-122 358.9,-115.84 357.57,-108.98\"/>\n<polygon fill=\"black\" stroke=\"black\" points=\"355.95,-104.19 359.68,-108.2 356.75,-106.55 357.55,-108.92 357.55,-108.92 357.55,-108.92 356.75,-106.55 355.42,-109.64 355.95,-104.19 355.95,-104.19\"/>\n<text text-anchor=\"start\" x=\"330.5\" y=\"-127.8\" font-family=\"Monospace\" font-size=\"9.00\">x → ^ x</text>\n</g>\n</g>\n</svg>"
          },
          "metadata": {}
        }
      ],
      "source": [
        "m = read_csv(\"ntm-primes.csv\")\n",
        "m"
      ]
    },
    {
      "cell_type": "code",
      "execution_count": 3,
      "metadata": {
        "id": "-y2z2n_EGPuu",
        "outputId": "a2256a9e-c483-4356-fa8f-f20f66a47750",
        "colab": {
          "base_uri": "https://localhost:8080/",
          "height": 173
        }
      },
      "outputs": [
        {
          "output_type": "display_data",
          "data": {
            "text/plain": [
              "<IPython.core.display.SVG object>"
            ],
            "image/svg+xml": "<svg xmlns=\"http://www.w3.org/2000/svg\" xmlns:xlink=\"http://www.w3.org/1999/xlink\" width=\"2221pt\" height=\"99pt\" viewBox=\"0.00 0.00 2221.00 99.00\">\n<g id=\"graph0\" class=\"graph\" transform=\"scale(1 1) rotate(0) translate(4 95)\">\n\n<polygon fill=\"white\" stroke=\"transparent\" points=\"-4,4 -4,-95 2217,-95 2217,4 -4,4\"/>\n<!-- _START -->\n<g id=\"node1\" class=\"node\">\n\n</g>\n<!-- 22 -->\n<g id=\"node24\" class=\"node\">\n\n<path fill=\"none\" stroke=\"black\" d=\"M112.33,-38C112.33,-38 42.67,-38 42.67,-38 39.83,-38 37,-35.17 37,-32.33 37,-32.33 37,-26.67 37,-26.67 37,-23.83 39.83,-21 42.67,-21 42.67,-21 112.33,-21 112.33,-21 115.17,-21 118,-23.83 118,-26.67 118,-26.67 118,-32.33 118,-32.33 118,-35.17 115.17,-38 112.33,-38\"/>\n<text text-anchor=\"start\" x=\"41\" y=\"-27\" font-family=\"Monospace\" font-size=\"10.00\">q1,[1] 1 1 1</text>\n</g>\n<!-- _START&#45;&gt;22 -->\n<g id=\"edge1\" class=\"edge\">\n\n<path fill=\"none\" stroke=\"black\" d=\"M1.05,-29.5C2.03,-29.5 15.78,-29.5 31.28,-29.5\"/>\n<polygon fill=\"black\" stroke=\"black\" points=\"36.59,-29.5 31.59,-31.75 34.09,-29.5 31.59,-29.5 31.59,-29.5 31.59,-29.5 34.09,-29.5 31.59,-27.25 36.59,-29.5 36.59,-29.5\"/>\n</g>\n<!-- 0 -->\n<g id=\"node2\" class=\"node\">\n\n<path fill=\"none\" stroke=\"black\" d=\"M1796.33,-91C1796.33,-91 1722.67,-91 1722.67,-91 1719.83,-91 1717,-88.17 1717,-85.33 1717,-85.33 1717,-79.67 1717,-79.67 1717,-76.83 1719.83,-74 1722.67,-74 1722.67,-74 1796.33,-74 1796.33,-74 1799.17,-74 1802,-76.83 1802,-79.67 1802,-79.67 1802,-85.33 1802,-85.33 1802,-88.17 1799.17,-91 1796.33,-91\"/>\n<text text-anchor=\"start\" x=\"1721\" y=\"-80\" font-family=\"Monospace\" font-size=\"10.00\">q5x,␣ ␣ [x] $</text>\n</g>\n<!-- 2 -->\n<g id=\"node4\" class=\"node\">\n\n<path fill=\"none\" stroke=\"black\" d=\"M1917.33,-91C1917.33,-91 1843.67,-91 1843.67,-91 1840.83,-91 1838,-88.17 1838,-85.33 1838,-85.33 1838,-79.67 1838,-79.67 1838,-76.83 1840.83,-74 1843.67,-74 1843.67,-74 1917.33,-74 1917.33,-74 1920.17,-74 1923,-76.83 1923,-79.67 1923,-79.67 1923,-85.33 1923,-85.33 1923,-88.17 1920.17,-91 1917.33,-91\"/>\n<text text-anchor=\"start\" x=\"1842\" y=\"-80\" font-family=\"Monospace\" font-size=\"10.00\">q5x,␣ ␣ x [$]</text>\n</g>\n<!-- 0&#45;&gt;2 -->\n<g id=\"edge29\" class=\"edge\">\n\n<path fill=\"none\" stroke=\"black\" d=\"M1802.12,-82.5C1811.94,-82.5 1822.47,-82.5 1832.51,-82.5\"/>\n<polygon fill=\"black\" stroke=\"black\" points=\"1837.7,-82.5 1832.7,-84.75 1835.2,-82.5 1832.7,-82.5 1832.7,-82.5 1832.7,-82.5 1835.2,-82.5 1832.7,-80.25 1837.7,-82.5 1837.7,-82.5\"/>\n</g>\n<!-- 1 -->\n<g id=\"node3\" class=\"node\">\n\n<path fill=\"none\" stroke=\"black\" d=\"M1793.33,-21C1793.33,-21 1725.67,-21 1725.67,-21 1722.83,-21 1720,-18.17 1720,-15.33 1720,-15.33 1720,-9.67 1720,-9.67 1720,-6.83 1722.83,-4 1725.67,-4 1725.67,-4 1793.33,-4 1793.33,-4 1796.17,-4 1799,-6.83 1799,-9.67 1799,-9.67 1799,-15.33 1799,-15.33 1799,-18.17 1796.17,-21 1793.33,-21\"/>\n<text text-anchor=\"start\" x=\"1724\" y=\"-10\" font-family=\"Monospace\" font-size=\"10.00\">q7,␣ ␣ [$] x</text>\n</g>\n<!-- 3 -->\n<g id=\"node5\" class=\"node\">\n\n<path fill=\"none\" stroke=\"black\" d=\"M1916.83,-21C1916.83,-21 1844.17,-21 1844.17,-21 1841.33,-21 1838.5,-18.17 1838.5,-15.33 1838.5,-15.33 1838.5,-9.67 1838.5,-9.67 1838.5,-6.83 1841.33,-4 1844.17,-4 1844.17,-4 1916.83,-4 1916.83,-4 1919.67,-4 1922.5,-6.83 1922.5,-9.67 1922.5,-9.67 1922.5,-15.33 1922.5,-15.33 1922.5,-18.17 1919.67,-21 1916.83,-21\"/>\n<text text-anchor=\"start\" x=\"1842.5\" y=\"-10\" font-family=\"Monospace\" font-size=\"10.00\">q5s,␣ ␣ ␣ [x]</text>\n</g>\n<!-- 1&#45;&gt;3 -->\n<g id=\"edge30\" class=\"edge\">\n\n<path fill=\"none\" stroke=\"black\" d=\"M1799.14,-12.5C1809.96,-12.5 1821.85,-12.5 1833.08,-12.5\"/>\n<polygon fill=\"black\" stroke=\"black\" points=\"1838.19,-12.5 1833.19,-14.75 1835.69,-12.5 1833.19,-12.5 1833.19,-12.5 1833.19,-12.5 1835.69,-12.5 1833.19,-10.25 1838.19,-12.5 1838.19,-12.5\"/>\n</g>\n<!-- 4 -->\n<g id=\"node6\" class=\"node\">\n\n<path fill=\"none\" stroke=\"black\" d=\"M2049.33,-91C2049.33,-91 1964.67,-91 1964.67,-91 1961.83,-91 1959,-88.17 1959,-85.33 1959,-85.33 1959,-79.67 1959,-79.67 1959,-76.83 1961.83,-74 1964.67,-74 1964.67,-74 2049.33,-74 2049.33,-74 2052.17,-74 2055,-76.83 2055,-79.67 2055,-79.67 2055,-85.33 2055,-85.33 2055,-88.17 2052.17,-91 2049.33,-91\"/>\n<text text-anchor=\"start\" x=\"1963\" y=\"-80\" font-family=\"Monospace\" font-size=\"10.00\">q5x,␣ ␣ x $ [␣]</text>\n</g>\n<!-- 2&#45;&gt;4 -->\n<g id=\"edge31\" class=\"edge\">\n\n<path fill=\"none\" stroke=\"black\" d=\"M1923.3,-82.5C1933.05,-82.5 1943.55,-82.5 1953.68,-82.5\"/>\n<polygon fill=\"black\" stroke=\"black\" points=\"1958.94,-82.5 1953.94,-84.75 1956.44,-82.5 1953.94,-82.5 1953.94,-82.5 1953.94,-82.5 1956.44,-82.5 1953.94,-80.25 1958.94,-82.5 1958.94,-82.5\"/>\n</g>\n<!-- 5 -->\n<g id=\"node7\" class=\"node\">\n\n<path fill=\"none\" stroke=\"black\" d=\"M2049.33,-21C2049.33,-21 1964.67,-21 1964.67,-21 1961.83,-21 1959,-18.17 1959,-15.33 1959,-15.33 1959,-9.67 1959,-9.67 1959,-6.83 1961.83,-4 1964.67,-4 1964.67,-4 2049.33,-4 2049.33,-4 2052.17,-4 2055,-6.83 2055,-9.67 2055,-9.67 2055,-15.33 2055,-15.33 2055,-18.17 2052.17,-21 2049.33,-21\"/>\n<text text-anchor=\"start\" x=\"1963\" y=\"-10\" font-family=\"Monospace\" font-size=\"10.00\">q5s,␣ ␣ ␣ x [␣]</text>\n</g>\n<!-- 3&#45;&gt;5 -->\n<g id=\"edge32\" class=\"edge\">\n\n<path fill=\"none\" stroke=\"black\" d=\"M1922.61,-12.5C1932.59,-12.5 1943.4,-12.5 1953.82,-12.5\"/>\n<polygon fill=\"black\" stroke=\"black\" points=\"1958.9,-12.5 1953.9,-14.75 1956.4,-12.5 1953.9,-12.5 1953.9,-12.5 1953.9,-12.5 1956.4,-12.5 1953.9,-10.25 1958.9,-12.5 1958.9,-12.5\"/>\n</g>\n<!-- 6 -->\n<g id=\"node8\" class=\"node\">\n\n<path fill=\"none\" stroke=\"black\" d=\"M2203.33,-21C2203.33,-21 2100.67,-21 2100.67,-21 2097.83,-21 2095,-18.17 2095,-15.33 2095,-15.33 2095,-9.67 2095,-9.67 2095,-6.83 2097.83,-4 2100.67,-4 2100.67,-4 2203.33,-4 2203.33,-4 2206.17,-4 2209,-6.83 2209,-9.67 2209,-9.67 2209,-15.33 2209,-15.33 2209,-18.17 2206.17,-21 2203.33,-21\"/>\n<path fill=\"none\" stroke=\"black\" d=\"M2204.67,-25C2204.67,-25 2099.33,-25 2099.33,-25 2095.17,-25 2091,-20.83 2091,-16.67 2091,-16.67 2091,-8.33 2091,-8.33 2091,-4.17 2095.17,0 2099.33,0 2099.33,0 2204.67,0 2204.67,0 2208.83,0 2213,-4.17 2213,-8.33 2213,-8.33 2213,-16.67 2213,-16.67 2213,-20.83 2208.83,-25 2204.67,-25\"/>\n<text text-anchor=\"start\" x=\"2099\" y=\"-10\" font-family=\"Monospace\" font-size=\"10.00\">accept,␣ ␣ ␣ [x] ␣</text>\n</g>\n<!-- 5&#45;&gt;6 -->\n<g id=\"edge33\" class=\"edge\">\n\n<path fill=\"none\" stroke=\"black\" d=\"M2055.22,-12.5C2065.01,-12.5 2075.48,-12.5 2085.79,-12.5\"/>\n<polygon fill=\"black\" stroke=\"black\" points=\"2090.82,-12.5 2085.82,-14.75 2088.32,-12.5 2085.82,-12.5 2085.82,-12.5 2085.82,-12.5 2088.32,-12.5 2085.82,-10.25 2090.82,-12.5 2090.82,-12.5\"/>\n</g>\n<!-- 7 -->\n<g id=\"node9\" class=\"node\">\n\n<path fill=\"none\" stroke=\"black\" d=\"M1322.33,-21C1322.33,-21 1248.67,-21 1248.67,-21 1245.83,-21 1243,-18.17 1243,-15.33 1243,-15.33 1243,-9.67 1243,-9.67 1243,-6.83 1245.83,-4 1248.67,-4 1248.67,-4 1322.33,-4 1322.33,-4 1325.17,-4 1328,-6.83 1328,-9.67 1328,-9.67 1328,-15.33 1328,-15.33 1328,-18.17 1325.17,-21 1322.33,-21\"/>\n<text text-anchor=\"start\" x=\"1247\" y=\"-10\" font-family=\"Monospace\" font-size=\"10.00\">q5x,␣ ␣ [$] 1</text>\n</g>\n<!-- 29 -->\n<g id=\"node31\" class=\"node\">\n\n<path fill=\"none\" stroke=\"black\" d=\"M1443.33,-21C1443.33,-21 1369.67,-21 1369.67,-21 1366.83,-21 1364,-18.17 1364,-15.33 1364,-15.33 1364,-9.67 1364,-9.67 1364,-6.83 1366.83,-4 1369.67,-4 1369.67,-4 1443.33,-4 1443.33,-4 1446.17,-4 1449,-6.83 1449,-9.67 1449,-9.67 1449,-15.33 1449,-15.33 1449,-18.17 1446.17,-21 1443.33,-21\"/>\n<text text-anchor=\"start\" x=\"1368\" y=\"-10\" font-family=\"Monospace\" font-size=\"10.00\">q5x,␣ ␣ $ [1]</text>\n</g>\n<!-- 7&#45;&gt;29 -->\n<g id=\"edge22\" class=\"edge\">\n\n<path fill=\"none\" stroke=\"black\" d=\"M1328.12,-12.5C1337.94,-12.5 1348.47,-12.5 1358.51,-12.5\"/>\n<polygon fill=\"black\" stroke=\"black\" points=\"1363.7,-12.5 1358.7,-14.75 1361.2,-12.5 1358.7,-12.5 1358.7,-12.5 1358.7,-12.5 1361.2,-12.5 1358.7,-10.25 1363.7,-12.5 1363.7,-12.5\"/>\n</g>\n<!-- 8 -->\n<g id=\"node10\" class=\"node\">\n\n<path fill=\"none\" stroke=\"black\" d=\"M1319.83,-91C1319.83,-91 1251.17,-91 1251.17,-91 1248.33,-91 1245.5,-88.17 1245.5,-85.33 1245.5,-85.33 1245.5,-79.67 1245.5,-79.67 1245.5,-76.83 1248.33,-74 1251.17,-74 1251.17,-74 1319.83,-74 1319.83,-74 1322.67,-74 1325.5,-76.83 1325.5,-79.67 1325.5,-79.67 1325.5,-85.33 1325.5,-85.33 1325.5,-88.17 1322.67,-91 1319.83,-91\"/>\n<text text-anchor=\"start\" x=\"1249.5\" y=\"-80\" font-family=\"Monospace\" font-size=\"10.00\">q6,␣ x [x] $</text>\n</g>\n<!-- 10 -->\n<g id=\"node12\" class=\"node\">\n\n<path fill=\"none\" stroke=\"black\" d=\"M1440.83,-91C1440.83,-91 1372.17,-91 1372.17,-91 1369.33,-91 1366.5,-88.17 1366.5,-85.33 1366.5,-85.33 1366.5,-79.67 1366.5,-79.67 1366.5,-76.83 1369.33,-74 1372.17,-74 1372.17,-74 1440.83,-74 1440.83,-74 1443.67,-74 1446.5,-76.83 1446.5,-79.67 1446.5,-79.67 1446.5,-85.33 1446.5,-85.33 1446.5,-88.17 1443.67,-91 1440.83,-91\"/>\n<text text-anchor=\"start\" x=\"1370.5\" y=\"-80\" font-family=\"Monospace\" font-size=\"10.00\">q6,␣ [x] x $</text>\n</g>\n<!-- 8&#45;&gt;10 -->\n<g id=\"edge21\" class=\"edge\">\n\n<path fill=\"none\" stroke=\"black\" d=\"M1325.79,-82.5C1337.07,-82.5 1349.44,-82.5 1361,-82.5\"/>\n<polygon fill=\"black\" stroke=\"black\" points=\"1366.25,-82.5 1361.25,-84.75 1363.75,-82.5 1361.25,-82.5 1361.25,-82.5 1361.25,-82.5 1363.75,-82.5 1361.25,-80.25 1366.25,-82.5 1366.25,-82.5\"/>\n</g>\n<!-- 9 -->\n<g id=\"node11\" class=\"node\">\n\n<path fill=\"none\" stroke=\"black\" d=\"M1198.33,-21C1198.33,-21 1129.67,-21 1129.67,-21 1126.83,-21 1124,-18.17 1124,-15.33 1124,-15.33 1124,-9.67 1124,-9.67 1124,-6.83 1126.83,-4 1129.67,-4 1129.67,-4 1198.33,-4 1198.33,-4 1201.17,-4 1204,-6.83 1204,-9.67 1204,-9.67 1204,-15.33 1204,-15.33 1204,-18.17 1201.17,-21 1198.33,-21\"/>\n<text text-anchor=\"start\" x=\"1128\" y=\"-10\" font-family=\"Monospace\" font-size=\"10.00\">q7,␣ [x] $ 1</text>\n</g>\n<!-- 9&#45;&gt;7 -->\n<g id=\"edge20\" class=\"edge\">\n\n<path fill=\"none\" stroke=\"black\" d=\"M1204.13,-12.5C1214.87,-12.5 1226.63,-12.5 1237.75,-12.5\"/>\n<polygon fill=\"black\" stroke=\"black\" points=\"1242.81,-12.5 1237.81,-14.75 1240.31,-12.5 1237.81,-12.5 1237.81,-12.5 1237.81,-12.5 1240.31,-12.5 1237.81,-10.25 1242.81,-12.5 1242.81,-12.5\"/>\n</g>\n<!-- 30 -->\n<g id=\"node32\" class=\"node\">\n\n<path fill=\"none\" stroke=\"black\" d=\"M1559.33,-91C1559.33,-91 1490.67,-91 1490.67,-91 1487.83,-91 1485,-88.17 1485,-85.33 1485,-85.33 1485,-79.67 1485,-79.67 1485,-76.83 1487.83,-74 1490.67,-74 1490.67,-74 1559.33,-74 1559.33,-74 1562.17,-74 1565,-76.83 1565,-79.67 1565,-79.67 1565,-85.33 1565,-85.33 1565,-88.17 1562.17,-91 1559.33,-91\"/>\n<text text-anchor=\"start\" x=\"1489\" y=\"-80\" font-family=\"Monospace\" font-size=\"10.00\">q6,[␣] x x $</text>\n</g>\n<!-- 10&#45;&gt;30 -->\n<g id=\"edge23\" class=\"edge\">\n\n<path fill=\"none\" stroke=\"black\" d=\"M1446.62,-82.5C1457.18,-82.5 1468.69,-82.5 1479.53,-82.5\"/>\n<polygon fill=\"black\" stroke=\"black\" points=\"1484.79,-82.5 1479.79,-84.75 1482.29,-82.5 1479.79,-82.5 1479.79,-82.5 1479.79,-82.5 1482.29,-82.5 1479.79,-80.25 1484.79,-82.5 1484.79,-82.5\"/>\n</g>\n<!-- 11 -->\n<g id=\"node13\" class=\"node\">\n\n<path fill=\"none\" stroke=\"black\" d=\"M1201.33,-91C1201.33,-91 1126.67,-91 1126.67,-91 1123.83,-91 1121,-88.17 1121,-85.33 1121,-85.33 1121,-79.67 1121,-79.67 1121,-76.83 1123.83,-74 1126.67,-74 1126.67,-74 1201.33,-74 1201.33,-74 1204.17,-74 1207,-76.83 1207,-79.67 1207,-79.67 1207,-85.33 1207,-85.33 1207,-88.17 1204.17,-91 1201.33,-91\"/>\n<text text-anchor=\"start\" x=\"1125\" y=\"-80\" font-family=\"Monospace\" font-size=\"10.00\">q5s,␣ x x [1]</text>\n</g>\n<!-- 11&#45;&gt;8 -->\n<g id=\"edge19\" class=\"edge\">\n\n<path fill=\"none\" stroke=\"black\" d=\"M1207.13,-82.5C1217.76,-82.5 1229.2,-82.5 1239.94,-82.5\"/>\n<polygon fill=\"black\" stroke=\"black\" points=\"1245.15,-82.5 1240.15,-84.75 1242.65,-82.5 1240.15,-82.5 1240.15,-82.5 1240.15,-82.5 1242.65,-82.5 1240.15,-80.25 1245.15,-82.5 1245.15,-82.5\"/>\n</g>\n<!-- 12 -->\n<g id=\"node14\" class=\"node\">\n\n<path fill=\"none\" stroke=\"black\" d=\"M1076.33,-21C1076.33,-21 1007.67,-21 1007.67,-21 1004.83,-21 1002,-18.17 1002,-15.33 1002,-15.33 1002,-9.67 1002,-9.67 1002,-6.83 1004.83,-4 1007.67,-4 1007.67,-4 1076.33,-4 1076.33,-4 1079.17,-4 1082,-6.83 1082,-9.67 1082,-9.67 1082,-15.33 1082,-15.33 1082,-18.17 1079.17,-21 1076.33,-21\"/>\n<text text-anchor=\"start\" x=\"1006\" y=\"-10\" font-family=\"Monospace\" font-size=\"10.00\">q6,[␣] x $ 1</text>\n</g>\n<!-- 12&#45;&gt;9 -->\n<g id=\"edge18\" class=\"edge\">\n\n<path fill=\"none\" stroke=\"black\" d=\"M1082.29,-12.5C1093.9,-12.5 1106.68,-12.5 1118.58,-12.5\"/>\n<polygon fill=\"black\" stroke=\"black\" points=\"1123.62,-12.5 1118.62,-14.75 1121.12,-12.5 1118.62,-12.5 1118.62,-12.5 1118.62,-12.5 1121.12,-12.5 1118.62,-10.25 1123.62,-12.5 1123.62,-12.5\"/>\n</g>\n<!-- 13 -->\n<g id=\"node15\" class=\"node\">\n\n<path fill=\"none\" stroke=\"black\" d=\"M835.33,-21C835.33,-21 760.67,-21 760.67,-21 757.83,-21 755,-18.17 755,-15.33 755,-15.33 755,-9.67 755,-9.67 755,-6.83 757.83,-4 760.67,-4 760.67,-4 835.33,-4 835.33,-4 838.17,-4 841,-6.83 841,-9.67 841,-9.67 841,-15.33 841,-15.33 841,-18.17 838.17,-21 835.33,-21\"/>\n<text text-anchor=\"start\" x=\"759\" y=\"-10\" font-family=\"Monospace\" font-size=\"10.00\">q5s,␣ x [1] 1</text>\n</g>\n<!-- 14 -->\n<g id=\"node16\" class=\"node\">\n\n<path fill=\"none\" stroke=\"black\" d=\"M954.33,-21C954.33,-21 885.67,-21 885.67,-21 882.83,-21 880,-18.17 880,-15.33 880,-15.33 880,-9.67 880,-9.67 880,-6.83 882.83,-4 885.67,-4 885.67,-4 954.33,-4 954.33,-4 957.17,-4 960,-6.83 960,-9.67 960,-9.67 960,-15.33 960,-15.33 960,-18.17 957.17,-21 954.33,-21\"/>\n<text text-anchor=\"start\" x=\"884\" y=\"-10\" font-family=\"Monospace\" font-size=\"10.00\">q6,␣ [x] $ 1</text>\n</g>\n<!-- 13&#45;&gt;14 -->\n<g id=\"edge14\" class=\"edge\">\n\n<path fill=\"none\" stroke=\"black\" d=\"M841.31,-12.5C852.09,-12.5 863.72,-12.5 874.6,-12.5\"/>\n<polygon fill=\"black\" stroke=\"black\" points=\"879.88,-12.5 874.88,-14.75 877.38,-12.5 874.88,-12.5 874.88,-12.5 874.88,-12.5 877.38,-12.5 874.88,-10.25 879.88,-12.5 879.88,-12.5\"/>\n</g>\n<!-- 14&#45;&gt;12 -->\n<g id=\"edge16\" class=\"edge\">\n\n<path fill=\"none\" stroke=\"black\" d=\"M960.29,-12.5C971.9,-12.5 984.68,-12.5 996.58,-12.5\"/>\n<polygon fill=\"black\" stroke=\"black\" points=\"1001.62,-12.5 996.62,-14.75 999.12,-12.5 996.62,-12.5 996.62,-12.5 996.62,-12.5 999.12,-12.5 996.62,-10.25 1001.62,-12.5 1001.62,-12.5\"/>\n</g>\n<!-- 15 -->\n<g id=\"node17\" class=\"node\">\n\n<path fill=\"none\" stroke=\"black\" d=\"M1079.33,-91C1079.33,-91 1004.67,-91 1004.67,-91 1001.83,-91 999,-88.17 999,-85.33 999,-85.33 999,-79.67 999,-79.67 999,-76.83 1001.83,-74 1004.67,-74 1004.67,-74 1079.33,-74 1079.33,-74 1082.17,-74 1085,-76.83 1085,-79.67 1085,-79.67 1085,-85.33 1085,-85.33 1085,-88.17 1082.17,-91 1079.33,-91\"/>\n<text text-anchor=\"start\" x=\"1003\" y=\"-80\" font-family=\"Monospace\" font-size=\"10.00\">q5s,␣ x [x] 1</text>\n</g>\n<!-- 15&#45;&gt;11 -->\n<g id=\"edge17\" class=\"edge\">\n\n<path fill=\"none\" stroke=\"black\" d=\"M1085.31,-82.5C1095.08,-82.5 1105.53,-82.5 1115.5,-82.5\"/>\n<polygon fill=\"black\" stroke=\"black\" points=\"1120.67,-82.5 1115.67,-84.75 1118.17,-82.5 1115.67,-82.5 1115.67,-82.5 1115.67,-82.5 1118.17,-82.5 1115.67,-80.25 1120.67,-82.5 1120.67,-82.5\"/>\n</g>\n<!-- 16 -->\n<g id=\"node18\" class=\"node\">\n\n<path fill=\"none\" stroke=\"black\" d=\"M957.33,-91C957.33,-91 882.67,-91 882.67,-91 879.83,-91 877,-88.17 877,-85.33 877,-85.33 877,-79.67 877,-79.67 877,-76.83 879.83,-74 882.67,-74 882.67,-74 957.33,-74 957.33,-74 960.17,-74 963,-76.83 963,-79.67 963,-79.67 963,-85.33 963,-85.33 963,-88.17 960.17,-91 957.33,-91\"/>\n<text text-anchor=\"start\" x=\"881\" y=\"-80\" font-family=\"Monospace\" font-size=\"10.00\">q5s,␣ [x] x 1</text>\n</g>\n<!-- 16&#45;&gt;15 -->\n<g id=\"edge15\" class=\"edge\">\n\n<path fill=\"none\" stroke=\"black\" d=\"M963.31,-82.5C973.08,-82.5 983.53,-82.5 993.5,-82.5\"/>\n<polygon fill=\"black\" stroke=\"black\" points=\"998.67,-82.5 993.67,-84.75 996.17,-82.5 993.67,-82.5 993.67,-82.5 993.67,-82.5 996.17,-82.5 993.67,-80.25 998.67,-82.5 998.67,-82.5\"/>\n</g>\n<!-- 17 -->\n<g id=\"node19\" class=\"node\">\n\n<path fill=\"none\" stroke=\"black\" d=\"M832.83,-91C832.83,-91 763.17,-91 763.17,-91 760.33,-91 757.5,-88.17 757.5,-85.33 757.5,-85.33 757.5,-79.67 757.5,-79.67 757.5,-76.83 760.33,-74 763.17,-74 763.17,-74 832.83,-74 832.83,-74 835.67,-74 838.5,-76.83 838.5,-79.67 838.5,-79.67 838.5,-85.33 838.5,-85.33 838.5,-88.17 835.67,-91 832.83,-91\"/>\n<text text-anchor=\"start\" x=\"761.5\" y=\"-80\" font-family=\"Monospace\" font-size=\"10.00\">q4,[$] x x 1</text>\n</g>\n<!-- 17&#45;&gt;16 -->\n<g id=\"edge13\" class=\"edge\">\n\n<path fill=\"none\" stroke=\"black\" d=\"M838.63,-82.5C849.28,-82.5 860.91,-82.5 871.93,-82.5\"/>\n<polygon fill=\"black\" stroke=\"black\" points=\"876.94,-82.5 871.94,-84.75 874.44,-82.5 871.94,-82.5 871.94,-82.5 871.94,-82.5 874.44,-82.5 871.94,-80.25 876.94,-82.5 876.94,-82.5\"/>\n</g>\n<!-- 18 -->\n<g id=\"node20\" class=\"node\">\n\n<path fill=\"none\" stroke=\"black\" d=\"M585.83,-91C585.83,-91 516.17,-91 516.17,-91 513.33,-91 510.5,-88.17 510.5,-85.33 510.5,-85.33 510.5,-79.67 510.5,-79.67 510.5,-76.83 513.33,-74 516.17,-74 516.17,-74 585.83,-74 585.83,-74 588.67,-74 591.5,-76.83 591.5,-79.67 591.5,-79.67 591.5,-85.33 591.5,-85.33 591.5,-88.17 588.67,-91 585.83,-91\"/>\n<text text-anchor=\"start\" x=\"514.5\" y=\"-80\" font-family=\"Monospace\" font-size=\"10.00\">q4,$ x [x] 1</text>\n</g>\n<!-- 27 -->\n<g id=\"node29\" class=\"node\">\n\n<path fill=\"none\" stroke=\"black\" d=\"M710.83,-91C710.83,-91 641.17,-91 641.17,-91 638.33,-91 635.5,-88.17 635.5,-85.33 635.5,-85.33 635.5,-79.67 635.5,-79.67 635.5,-76.83 638.33,-74 641.17,-74 641.17,-74 710.83,-74 710.83,-74 713.67,-74 716.5,-76.83 716.5,-79.67 716.5,-79.67 716.5,-85.33 716.5,-85.33 716.5,-88.17 713.67,-91 710.83,-91\"/>\n<text text-anchor=\"start\" x=\"639.5\" y=\"-80\" font-family=\"Monospace\" font-size=\"10.00\">q4,$ [x] x 1</text>\n</g>\n<!-- 18&#45;&gt;27 -->\n<g id=\"edge9\" class=\"edge\">\n\n<path fill=\"none\" stroke=\"black\" d=\"M591.6,-82.5C603.99,-82.5 617.76,-82.5 630.48,-82.5\"/>\n<polygon fill=\"black\" stroke=\"black\" points=\"635.48,-82.5 630.48,-84.75 632.98,-82.5 630.48,-82.5 630.48,-82.5 630.48,-82.5 632.98,-82.5 630.48,-80.25 635.48,-82.5 635.48,-82.5\"/>\n</g>\n<!-- 19 -->\n<g id=\"node21\" class=\"node\">\n\n<path fill=\"none\" stroke=\"black\" d=\"M591.33,-56C591.33,-56 510.67,-56 510.67,-56 507.83,-56 505,-53.17 505,-50.33 505,-50.33 505,-44.67 505,-44.67 505,-41.83 507.83,-39 510.67,-39 510.67,-39 591.33,-39 591.33,-39 594.17,-39 597,-41.83 597,-44.67 597,-44.67 597,-50.33 597,-50.33 597,-53.17 594.17,-56 591.33,-56\"/>\n<text text-anchor=\"start\" x=\"509\" y=\"-45\" font-family=\"Monospace\" font-size=\"10.00\">q3,$ x x x [␣]</text>\n</g>\n<!-- 20 -->\n<g id=\"node22\" class=\"node\">\n\n<path fill=\"none\" stroke=\"black\" d=\"M585.83,-21C585.83,-21 516.17,-21 516.17,-21 513.33,-21 510.5,-18.17 510.5,-15.33 510.5,-15.33 510.5,-9.67 510.5,-9.67 510.5,-6.83 513.33,-4 516.17,-4 516.17,-4 585.83,-4 585.83,-4 588.67,-4 591.5,-6.83 591.5,-9.67 591.5,-9.67 591.5,-15.33 591.5,-15.33 591.5,-18.17 588.67,-21 585.83,-21\"/>\n<text text-anchor=\"start\" x=\"514.5\" y=\"-10\" font-family=\"Monospace\" font-size=\"10.00\">q4,[$] x 1 1</text>\n</g>\n<!-- 26 -->\n<g id=\"node28\" class=\"node\">\n\n<path fill=\"none\" stroke=\"black\" d=\"M713.33,-21C713.33,-21 638.67,-21 638.67,-21 635.83,-21 633,-18.17 633,-15.33 633,-15.33 633,-9.67 633,-9.67 633,-6.83 635.83,-4 638.67,-4 638.67,-4 713.33,-4 713.33,-4 716.17,-4 719,-6.83 719,-9.67 719,-9.67 719,-15.33 719,-15.33 719,-18.17 716.17,-21 713.33,-21\"/>\n<text text-anchor=\"start\" x=\"637\" y=\"-10\" font-family=\"Monospace\" font-size=\"10.00\">q5s,␣ [x] 1 1</text>\n</g>\n<!-- 20&#45;&gt;26 -->\n<g id=\"edge10\" class=\"edge\">\n\n<path fill=\"none\" stroke=\"black\" d=\"M591.6,-12.5C603.15,-12.5 615.89,-12.5 627.86,-12.5\"/>\n<polygon fill=\"black\" stroke=\"black\" points=\"632.93,-12.5 627.93,-14.75 630.43,-12.5 627.93,-12.5 627.93,-12.5 627.93,-12.5 630.43,-12.5 627.93,-10.25 632.93,-12.5 632.93,-12.5\"/>\n</g>\n<!-- 21 -->\n<g id=\"node23\" class=\"node\">\n\n<path fill=\"none\" stroke=\"black\" d=\"M229.33,-38C229.33,-38 159.67,-38 159.67,-38 156.83,-38 154,-35.17 154,-32.33 154,-32.33 154,-26.67 154,-26.67 154,-23.83 156.83,-21 159.67,-21 159.67,-21 229.33,-21 229.33,-21 232.17,-21 235,-23.83 235,-26.67 235,-26.67 235,-32.33 235,-32.33 235,-35.17 232.17,-38 229.33,-38\"/>\n<text text-anchor=\"start\" x=\"158\" y=\"-27\" font-family=\"Monospace\" font-size=\"10.00\">q2,$ [1] 1 1</text>\n</g>\n<!-- 23 -->\n<g id=\"node25\" class=\"node\">\n\n<path fill=\"none\" stroke=\"black\" d=\"M346.33,-38C346.33,-38 276.67,-38 276.67,-38 273.83,-38 271,-35.17 271,-32.33 271,-32.33 271,-26.67 271,-26.67 271,-23.83 273.83,-21 276.67,-21 276.67,-21 346.33,-21 346.33,-21 349.17,-21 352,-23.83 352,-26.67 352,-26.67 352,-32.33 352,-32.33 352,-35.17 349.17,-38 346.33,-38\"/>\n<text text-anchor=\"start\" x=\"275\" y=\"-27\" font-family=\"Monospace\" font-size=\"10.00\">q3,$ x [1] 1</text>\n</g>\n<!-- 21&#45;&gt;23 -->\n<g id=\"edge3\" class=\"edge\">\n\n<path fill=\"none\" stroke=\"black\" d=\"M235.08,-29.5C244.92,-29.5 255.55,-29.5 265.63,-29.5\"/>\n<polygon fill=\"black\" stroke=\"black\" points=\"270.85,-29.5 265.85,-31.75 268.35,-29.5 265.85,-29.5 265.85,-29.5 265.85,-29.5 268.35,-29.5 265.85,-27.25 270.85,-29.5 270.85,-29.5\"/>\n</g>\n<!-- 22&#45;&gt;21 -->\n<g id=\"edge2\" class=\"edge\">\n\n<path fill=\"none\" stroke=\"black\" d=\"M118.08,-29.5C127.92,-29.5 138.55,-29.5 148.63,-29.5\"/>\n<polygon fill=\"black\" stroke=\"black\" points=\"153.85,-29.5 148.85,-31.75 151.35,-29.5 148.85,-29.5 148.85,-29.5 148.85,-29.5 151.35,-29.5 148.85,-27.25 153.85,-29.5 153.85,-29.5\"/>\n</g>\n<!-- 24 -->\n<g id=\"node26\" class=\"node\">\n\n<path fill=\"none\" stroke=\"black\" d=\"M463.33,-56C463.33,-56 393.67,-56 393.67,-56 390.83,-56 388,-53.17 388,-50.33 388,-50.33 388,-44.67 388,-44.67 388,-41.83 390.83,-39 393.67,-39 393.67,-39 463.33,-39 463.33,-39 466.17,-39 469,-41.83 469,-44.67 469,-44.67 469,-50.33 469,-50.33 469,-53.17 466.17,-56 463.33,-56\"/>\n<text text-anchor=\"start\" x=\"392\" y=\"-45\" font-family=\"Monospace\" font-size=\"10.00\">q3,$ x x [1]</text>\n</g>\n<!-- 23&#45;&gt;24 -->\n<g id=\"edge4\" class=\"edge\">\n\n<path fill=\"none\" stroke=\"black\" d=\"M352.08,-35.69C361.92,-37.24 372.55,-38.9 382.63,-40.48\"/>\n<polygon fill=\"black\" stroke=\"black\" points=\"387.85,-41.29 382.56,-42.74 385.38,-40.91 382.91,-40.52 382.91,-40.52 382.91,-40.52 385.38,-40.91 383.26,-38.3 387.85,-41.29 387.85,-41.29\"/>\n</g>\n<!-- 25 -->\n<g id=\"node27\" class=\"node\">\n\n<path fill=\"none\" stroke=\"black\" d=\"M463.33,-21C463.33,-21 393.67,-21 393.67,-21 390.83,-21 388,-18.17 388,-15.33 388,-15.33 388,-9.67 388,-9.67 388,-6.83 390.83,-4 393.67,-4 393.67,-4 463.33,-4 463.33,-4 466.17,-4 469,-6.83 469,-9.67 469,-9.67 469,-15.33 469,-15.33 469,-18.17 466.17,-21 463.33,-21\"/>\n<text text-anchor=\"start\" x=\"392\" y=\"-10\" font-family=\"Monospace\" font-size=\"10.00\">q4,$ [x] 1 1</text>\n</g>\n<!-- 23&#45;&gt;25 -->\n<g id=\"edge5\" class=\"edge\">\n\n<path fill=\"none\" stroke=\"black\" d=\"M352.08,-23.65C361.92,-22.19 372.55,-20.62 382.63,-19.13\"/>\n<polygon fill=\"black\" stroke=\"black\" points=\"387.85,-18.36 383.23,-21.32 385.38,-18.73 382.9,-19.09 382.9,-19.09 382.9,-19.09 385.38,-18.73 382.58,-16.87 387.85,-18.36 387.85,-18.36\"/>\n</g>\n<!-- 24&#45;&gt;18 -->\n<g id=\"edge7\" class=\"edge\">\n\n<path fill=\"none\" stroke=\"black\" d=\"M458.98,-56.06C476.05,-61.02 497.62,-67.29 515.48,-72.47\"/>\n<polygon fill=\"black\" stroke=\"black\" points=\"520.41,-73.91 514.98,-74.67 518.01,-73.21 515.61,-72.51 515.61,-72.51 515.61,-72.51 518.01,-73.21 516.24,-70.35 520.41,-73.91 520.41,-73.91\"/>\n</g>\n<!-- 24&#45;&gt;19 -->\n<g id=\"edge6\" class=\"edge\">\n\n<path fill=\"none\" stroke=\"black\" d=\"M469.29,-47.5C478.98,-47.5 489.47,-47.5 499.58,-47.5\"/>\n<polygon fill=\"black\" stroke=\"black\" points=\"504.83,-47.5 499.83,-49.75 502.33,-47.5 499.83,-47.5 499.83,-47.5 499.83,-47.5 502.33,-47.5 499.83,-45.25 504.83,-47.5 504.83,-47.5\"/>\n</g>\n<!-- 25&#45;&gt;20 -->\n<g id=\"edge8\" class=\"edge\">\n\n<path fill=\"none\" stroke=\"black\" d=\"M469.29,-12.5C480.7,-12.5 493.23,-12.5 504.94,-12.5\"/>\n<polygon fill=\"black\" stroke=\"black\" points=\"510.25,-12.5 505.25,-14.75 507.75,-12.5 505.25,-12.5 505.25,-12.5 505.25,-12.5 507.75,-12.5 505.25,-10.25 510.25,-12.5 510.25,-12.5\"/>\n</g>\n<!-- 26&#45;&gt;13 -->\n<g id=\"edge12\" class=\"edge\">\n\n<path fill=\"none\" stroke=\"black\" d=\"M719.31,-12.5C729.08,-12.5 739.53,-12.5 749.5,-12.5\"/>\n<polygon fill=\"black\" stroke=\"black\" points=\"754.67,-12.5 749.67,-14.75 752.17,-12.5 749.67,-12.5 749.67,-12.5 749.67,-12.5 752.17,-12.5 749.67,-10.25 754.67,-12.5 754.67,-12.5\"/>\n</g>\n<!-- 27&#45;&gt;17 -->\n<g id=\"edge11\" class=\"edge\">\n\n<path fill=\"none\" stroke=\"black\" d=\"M716.63,-82.5C727.99,-82.5 740.47,-82.5 752.12,-82.5\"/>\n<polygon fill=\"black\" stroke=\"black\" points=\"757.42,-82.5 752.42,-84.75 754.92,-82.5 752.42,-82.5 752.42,-82.5 752.42,-82.5 754.92,-82.5 752.42,-80.25 757.42,-82.5 757.42,-82.5\"/>\n</g>\n<!-- 28 -->\n<g id=\"node30\" class=\"node\">\n\n<path fill=\"none\" stroke=\"black\" d=\"M1674.83,-21C1674.83,-21 1607.17,-21 1607.17,-21 1604.33,-21 1601.5,-18.17 1601.5,-15.33 1601.5,-15.33 1601.5,-9.67 1601.5,-9.67 1601.5,-6.83 1604.33,-4 1607.17,-4 1607.17,-4 1674.83,-4 1674.83,-4 1677.67,-4 1680.5,-6.83 1680.5,-9.67 1680.5,-9.67 1680.5,-15.33 1680.5,-15.33 1680.5,-18.17 1677.67,-21 1674.83,-21\"/>\n<text text-anchor=\"start\" x=\"1605.5\" y=\"-10\" font-family=\"Monospace\" font-size=\"10.00\">q6,␣ [␣] $ x</text>\n</g>\n<!-- 28&#45;&gt;1 -->\n<g id=\"edge28\" class=\"edge\">\n\n<path fill=\"none\" stroke=\"black\" d=\"M1680.79,-12.5C1691.7,-12.5 1703.63,-12.5 1714.8,-12.5\"/>\n<polygon fill=\"black\" stroke=\"black\" points=\"1719.88,-12.5 1714.88,-14.75 1717.38,-12.5 1714.88,-12.5 1714.88,-12.5 1714.88,-12.5 1717.38,-12.5 1714.88,-10.25 1719.88,-12.5 1719.88,-12.5\"/>\n</g>\n<!-- 32 -->\n<g id=\"node34\" class=\"node\">\n\n<path fill=\"none\" stroke=\"black\" d=\"M1558.83,-21C1558.83,-21 1491.17,-21 1491.17,-21 1488.33,-21 1485.5,-18.17 1485.5,-15.33 1485.5,-15.33 1485.5,-9.67 1485.5,-9.67 1485.5,-6.83 1488.33,-4 1491.17,-4 1491.17,-4 1558.83,-4 1558.83,-4 1561.67,-4 1564.5,-6.83 1564.5,-9.67 1564.5,-9.67 1564.5,-15.33 1564.5,-15.33 1564.5,-18.17 1561.67,-21 1558.83,-21\"/>\n<text text-anchor=\"start\" x=\"1489.5\" y=\"-10\" font-family=\"Monospace\" font-size=\"10.00\">q6,␣ ␣ [$] x</text>\n</g>\n<!-- 29&#45;&gt;32 -->\n<g id=\"edge24\" class=\"edge\">\n\n<path fill=\"none\" stroke=\"black\" d=\"M1449.23,-12.5C1459.24,-12.5 1469.95,-12.5 1480.06,-12.5\"/>\n<polygon fill=\"black\" stroke=\"black\" points=\"1485.28,-12.5 1480.28,-14.75 1482.78,-12.5 1480.28,-12.5 1480.28,-12.5 1480.28,-12.5 1482.78,-12.5 1480.28,-10.25 1485.28,-12.5 1485.28,-12.5\"/>\n</g>\n<!-- 31 -->\n<g id=\"node33\" class=\"node\">\n\n<path fill=\"none\" stroke=\"black\" d=\"M1675.33,-91C1675.33,-91 1606.67,-91 1606.67,-91 1603.83,-91 1601,-88.17 1601,-85.33 1601,-85.33 1601,-79.67 1601,-79.67 1601,-76.83 1603.83,-74 1606.67,-74 1606.67,-74 1675.33,-74 1675.33,-74 1678.17,-74 1681,-76.83 1681,-79.67 1681,-79.67 1681,-85.33 1681,-85.33 1681,-88.17 1678.17,-91 1675.33,-91\"/>\n<text text-anchor=\"start\" x=\"1605\" y=\"-80\" font-family=\"Monospace\" font-size=\"10.00\">q7,␣ [x] x $</text>\n</g>\n<!-- 30&#45;&gt;31 -->\n<g id=\"edge25\" class=\"edge\">\n\n<path fill=\"none\" stroke=\"black\" d=\"M1565.23,-82.5C1574.99,-82.5 1585.53,-82.5 1595.52,-82.5\"/>\n<polygon fill=\"black\" stroke=\"black\" points=\"1600.7,-82.5 1595.7,-84.75 1598.2,-82.5 1595.7,-82.5 1595.7,-82.5 1595.7,-82.5 1598.2,-82.5 1595.7,-80.25 1600.7,-82.5 1600.7,-82.5\"/>\n</g>\n<!-- 31&#45;&gt;0 -->\n<g id=\"edge27\" class=\"edge\">\n\n<path fill=\"none\" stroke=\"black\" d=\"M1681.12,-82.5C1690.91,-82.5 1701.52,-82.5 1711.65,-82.5\"/>\n<polygon fill=\"black\" stroke=\"black\" points=\"1716.89,-82.5 1711.89,-84.75 1714.39,-82.5 1711.89,-82.5 1711.89,-82.5 1711.89,-82.5 1714.39,-82.5 1711.89,-80.25 1716.89,-82.5 1716.89,-82.5\"/>\n</g>\n<!-- 32&#45;&gt;28 -->\n<g id=\"edge26\" class=\"edge\">\n\n<path fill=\"none\" stroke=\"black\" d=\"M1564.6,-12.5C1574.81,-12.5 1585.91,-12.5 1596.37,-12.5\"/>\n<polygon fill=\"black\" stroke=\"black\" points=\"1601.44,-12.5 1596.44,-14.75 1598.94,-12.5 1596.44,-12.5 1596.44,-12.5 1596.44,-12.5 1598.94,-12.5 1596.44,-10.25 1601.44,-12.5 1601.44,-12.5\"/>\n</g>\n</g>\n</svg>"
          },
          "metadata": {}
        }
      ],
      "source": [
        "run(m, [\"1\"]*4)"
      ]
    },
    {
      "cell_type": "code",
      "execution_count": 4,
      "metadata": {
        "id": "lzu0Unv4GPuv",
        "outputId": "6b130185-b5de-4723-9b7f-c62da86c6e64",
        "colab": {
          "base_uri": "https://localhost:8080/",
          "height": 426
        }
      },
      "outputs": [
        {
          "output_type": "execute_result",
          "data": {
            "text/plain": [
              "<tock.graphs.Path at 0x7f000fffd790>"
            ],
            "text/html": [
              "<table style=\"font-family: Monospace, monospace;\">\n",
              "  <tr><td style=\"text-align: left\">q1</td><td style=\"text-align: left\">[1] 1 1 1</td></tr>\n",
              "  <tr><td style=\"text-align: left\">q2</td><td style=\"text-align: left\">$ [1] 1 1</td></tr>\n",
              "  <tr><td style=\"text-align: left\">q3</td><td style=\"text-align: left\">$ x [1] 1</td></tr>\n",
              "  <tr><td style=\"text-align: left\">q4</td><td style=\"text-align: left\">$ [x] 1 1</td></tr>\n",
              "  <tr><td style=\"text-align: left\">q4</td><td style=\"text-align: left\">[$] x 1 1</td></tr>\n",
              "  <tr><td style=\"text-align: left\">q5s</td><td style=\"text-align: left\">␣ [x] 1 1</td></tr>\n",
              "  <tr><td style=\"text-align: left\">q5s</td><td style=\"text-align: left\">␣ x [1] 1</td></tr>\n",
              "  <tr><td style=\"text-align: left\">q6</td><td style=\"text-align: left\">␣ [x] $ 1</td></tr>\n",
              "  <tr><td style=\"text-align: left\">q6</td><td style=\"text-align: left\">[␣] x $ 1</td></tr>\n",
              "  <tr><td style=\"text-align: left\">q7</td><td style=\"text-align: left\">␣ [x] $ 1</td></tr>\n",
              "  <tr><td style=\"text-align: left\">q5x</td><td style=\"text-align: left\">␣ ␣ [$] 1</td></tr>\n",
              "  <tr><td style=\"text-align: left\">q5x</td><td style=\"text-align: left\">␣ ␣ $ [1]</td></tr>\n",
              "  <tr><td style=\"text-align: left\">q6</td><td style=\"text-align: left\">␣ ␣ [$] x</td></tr>\n",
              "  <tr><td style=\"text-align: left\">q6</td><td style=\"text-align: left\">␣ [␣] $ x</td></tr>\n",
              "  <tr><td style=\"text-align: left\">q7</td><td style=\"text-align: left\">␣ ␣ [$] x</td></tr>\n",
              "  <tr><td style=\"text-align: left\">q5s</td><td style=\"text-align: left\">␣ ␣ ␣ [x]</td></tr>\n",
              "  <tr><td style=\"text-align: left\">q5s</td><td style=\"text-align: left\">␣ ␣ ␣ x [␣]</td></tr>\n",
              "  <tr><td style=\"text-align: left\">accept</td><td style=\"text-align: left\">␣ ␣ ␣ [x] ␣</td></tr>\n",
              "</table>\n",
              "<p>accept</p>"
            ]
          },
          "metadata": {},
          "execution_count": 4
        }
      ],
      "source": [
        "run(m, [\"1\"]*4).shortest_path()"
      ]
    },
    {
      "cell_type": "markdown",
      "metadata": {
        "id": "Oacfz_1qGPuw"
      },
      "source": [
        "The running time of this NTM actually isn't bad -- bounded above by $3n^{3/2}$:"
      ]
    },
    {
      "cell_type": "code",
      "execution_count": 5,
      "metadata": {
        "id": "rGZR0RDGGPuw",
        "outputId": "1d61a5cc-ec8f-4f8c-c9bd-bb3e043ce5b3",
        "colab": {
          "base_uri": "https://localhost:8080/"
        }
      },
      "outputs": [
        {
          "output_type": "stream",
          "name": "stdout",
          "text": [
            "4 18 24.0\n",
            "6 28 44.090815370097204\n",
            "8 38 67.88225099390857\n",
            "9 53 81.0\n",
            "10 48 94.86832980505137\n",
            "12 58 124.70765814495917\n",
            "14 68 157.14961024450554\n",
            "15 95 174.28425057933376\n",
            "16 78 192.0\n",
            "18 88 229.10259710444143\n"
          ]
        }
      ],
      "source": [
        "# Print n, actual running time, upper bound on running time\n",
        "for n in range(20):\n",
        "    r = run(m, [\"1\"] * n)\n",
        "    if r.has_path():\n",
        "        print(n, len(r.shortest_path()), 3*n**1.5)"
      ]
    },
    {
      "cell_type": "markdown",
      "metadata": {
        "id": "joaKfbSMGPux"
      },
      "source": [
        "Now we construct the formula corresponding to the run of this machine on `0000`:"
      ]
    },
    {
      "cell_type": "code",
      "execution_count": 6,
      "metadata": {
        "id": "oN6t4qSaGPuy",
        "outputId": "f476b3a3-f7d8-497f-ab05-0beb52b3d452",
        "colab": {
          "base_uri": "https://localhost:8080/"
        }
      },
      "outputs": [
        {
          "output_type": "stream",
          "name": "stdout",
          "text": [
            "9116869\n"
          ]
        }
      ],
      "source": [
        "phi = make_phi(m, [\"1\"]*4, 24)\n",
        "print(phi.size()) # number of variables and operators in phi"
      ]
    },
    {
      "cell_type": "markdown",
      "metadata": {
        "id": "zrOMIjOVGPuy"
      },
      "source": [
        "It's too big to print, but we can look at the beginning:"
      ]
    },
    {
      "cell_type": "code",
      "execution_count": 7,
      "metadata": {
        "id": "SjcJ8EgXGPuz",
        "outputId": "9b514ce2-ed84-4c3e-8082-44d5a723d79e",
        "colab": {
          "base_uri": "https://localhost:8080/"
        }
      },
      "outputs": [
        {
          "output_type": "stream",
          "name": "stdout",
          "text": [
            "(x[1,1,#] | x[1,1,1] | x[1,1,␣] | x[1,1,q5s] | x[1,1,q2] | x[1,1,x] | x[1,1,q3] | x[1,1,q6] | x[1,1,q4] | x[1,1,q1] | x[1,1,q7] | x[1,1,$] | x[1,1,q5x] | x[1,1,accept]) & (~x[1,1,#] | ~x[1,1,1]) & (~x[1,1,#] | ~x[1,1,␣]) & (~x[1,1,#] | ~x[1,1,q5s]) & (~x[1,1,#] | ~x[1,1,q2]) & (~x[1,1,#] | ~x[1,1,x]) & (~x[1,1,#] | ~x[1,1,q3]) & (~x[1,1,#] | ~x[1,1,q6]) & (~x[1,1,#] | ~x[1,1,q4]) & (~x[1,1,#] | ~x[1,1,q1]) & (~x[1,1,#] | ~x[1,1,q7]) & (~x[1,1,#] | ~x[1,1,$]) & (~x[1,1,#] | ~x[1,1,q5x]) & (~x[1,1,#] | ~x[1,1,accept]) & (~x[1,1,1] | ~x[1,1,#]) & (~x[1,1,1] | ~x[1,1,␣]) & (~x[1,1,1] | ~x[1,1,q5s]) & (~x[1,1,1] | ~x[1,1,q2]) & (~x[1,1,1] | ~x[1,1,x]) & (~x[1,1,1] | ~x[1,1,q3]) & (~x[1,1,1] | ~x[1,1,q6]) & (~x[1,1,1] | ~x[1,1,q4]) & (~x[1,1,1] | ~x[1,1,q1]) & (~x[1,1,1] | ~x[1,1,q7]) & (~x[1,1,1] | ~x[1,1,$]) & (~x[1,1,1] | ~x[1,1,q5x]) & (~x[1,1,1] | ~x[1,1,accept]) & (~x[1,1,␣] | ~x[1,1,#]) & (~x[1,1,␣] | ~x[1,1,1]) & (~x[1,1,␣] | ~x[1,1,q5s]) & (~x[1,1,␣] | ~x[1,1,q2]) & (~x[1,1,␣] | ~x[ ...\n"
          ]
        }
      ],
      "source": [
        "print(str(phi)[:1000], '...')"
      ]
    },
    {
      "cell_type": "markdown",
      "metadata": {
        "id": "FFgfal0eGPu0"
      },
      "source": [
        "The last step is to modify the above proof so that $\\phi$ is in 3CNF, that is, of the form\n",
        "\n",
        "\\begin{align*}\n",
        "\\phi &= (a_1 \\lor b_1 \\lor c_1) \\land \\ldots \\land (a_m \\lor b_m \\lor c_m). \\\\\n",
        "\\end{align*}\n",
        "\n",
        "There are $l$ variables, named $x_1, \\ldots, x_l$. Each of the conjuncts $(a_j \\lor b_j \\lor c_j)$ is called a *clause* and there are $m$ of them. (Sipser sometimes uses $k$ for the number of clauses, except when he needs $k$ for something else. I'll try to stick to $m$.) Each clause has exactly three disjuncts, called *literals*. Each literal is either a variable $x_i$ or a negated variable $\\neg x_i$. We'll be using 3CNF a lot, so remember this terminology and notation well.\n",
        "\n",
        "For example, this formula gets used a lot as an example:\n",
        "\n",
        "$$ \\phi = (x_1 \\lor x_1 \\lor x_2) \\land (\\neg x_1 \\lor \\neg x_2 \\lor \\neg x_2) \\land (\\neg x_1 \\lor x_2 \\lor x_2). $$\n",
        "\n",
        "It has $l = 2$ variables and $m = 3$ clauses. It has one satisfying assignment: $x_1 = 0, x_2 = 1$.\n",
        "\n",
        "After modifying the proof (which I omit here), we have shown not only that SAT is NP-complete, but 3SAT. This will make future reductions easier."
      ]
    }
  ],
  "metadata": {
    "kernelspec": {
      "display_name": "Python 3",
      "language": "python",
      "name": "python3"
    },
    "language_info": {
      "codemirror_mode": {
        "name": "ipython",
        "version": 3
      },
      "file_extension": ".py",
      "mimetype": "text/x-python",
      "name": "python",
      "nbconvert_exporter": "python",
      "pygments_lexer": "ipython3",
      "version": "3.8.1"
    },
    "colab": {
      "provenance": [],
      "include_colab_link": true
    }
  },
  "nbformat": 4,
  "nbformat_minor": 0
}
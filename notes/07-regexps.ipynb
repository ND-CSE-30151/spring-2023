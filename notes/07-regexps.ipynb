{
  "cells": [
    {
      "cell_type": "markdown",
      "metadata": {
        "id": "view-in-github",
        "colab_type": "text"
      },
      "source": [
        "<a href=\"https://colab.research.google.com/github/ND-CSE-30151/spring-2023/blob/master/notes/07-regexps.ipynb\" target=\"_parent\"><img src=\"https://colab.research.google.com/assets/colab-badge.svg\" alt=\"Open In Colab\"/></a>"
      ]
    },
    {
      "cell_type": "markdown",
      "metadata": {
        "id": "8OYYKo1GDqLl"
      },
      "source": [
        "# Notebook 7: Regular expressions"
      ]
    },
    {
      "cell_type": "code",
      "execution_count": null,
      "metadata": {
        "id": "jga-NZkjDqLn",
        "cellView": "form"
      },
      "outputs": [],
      "source": [
        "#@title Setup\n",
        "!pip install -qqq tock\n",
        "from tock import *"
      ]
    },
    {
      "cell_type": "markdown",
      "metadata": {
        "id": "4oEYD8Y3DqLo"
      },
      "source": [
        "<div class=\"alert alert-info\">\n",
        "    <p><b>Read</b> Section 1.3, but you can save Lemma 1.60 and its proof for next time.</p>\n",
        "</div>\n",
        "\n",
        "## Regular expressions\n",
        "\n",
        "Regular expressions were invented by Stephen Kleene (pronounced clay-knee) back in the 1950s as a characterization of the languages recognized by the earliest neural networks. But they became widely used through various Unix tools, like `grep`, which is where you have likely encountered them.\n",
        "\n",
        "Our regular expressions are defined inductively. Let $\\Sigma$ be an alphabet. The set of *regular expressions* over $\\Sigma$ is the smallest set such that:\n",
        "\n",
        "- If $a \\in \\Sigma$, then $a$ is a regular expression.\n",
        "- $\\varepsilon$ is a regular expression.\n",
        "- $\\emptyset$ is a regular expression.\n",
        "- If $\\alpha$ and $\\beta$ are regular expressions, then $\\alpha \\cup \\beta$ is a regular expression.\n",
        "- If $\\alpha$ and $\\beta$ are regular expressions, then $\\alpha \\beta$ (or $\\alpha \\circ \\beta$) is a regular expression.\n",
        "- If $\\alpha$ is a regular expression, then $\\alpha^\\ast$ is a regular expression.\n",
        "\n",
        "The order of operations is star, then concatenation, then union (so, for example, $a\\cup bc^\\ast = a \\cup (b(c^\\ast))$). Use parentheses to change the order of operations, just as in arithmetic expressions.\n",
        "\n",
        "The $\\cup$ operator is the same as the Unix `|` operator. Unix regular expressions use a dot (`.`) to match any symbol; we use $\\Sigma$ for this purpose.\n",
        "\n",
        "Another difference is that Unix regular expressions usually match anywhere in a string, whereas our regular expressions usually must match the entire string. When using `grep`, use the `-Ex` flags to approximate our regular expressions (`-E` to get the union operator, `-x` to match the whole line)."
      ]
    },
    {
      "cell_type": "code",
      "execution_count": null,
      "metadata": {
        "id": "CZOeO8BMDqLp",
        "outputId": "ee225753-9fc8-48a0-fc9a-46dafddb5b77"
      },
      "outputs": [
        {
          "name": "stdout",
          "output_type": "stream",
          "text": [
            "Overwriting movies.txt\n"
          ]
        }
      ],
      "source": [
        "%%file movies.txt\n",
        "the phantom menace\n",
        "attack of the clones\n",
        "revenge of the sith\n",
        "a new hope\n",
        "the empire strikes back\n",
        "return of the jedi\n",
        "the force awakens\n",
        "rogue one\n",
        "the last jedi\n",
        "solo\n",
        "the rise of skywalker\n",
        "the motion picture\n",
        "the wrath of khan\n",
        "the search for spock\n",
        "the voyage home\n",
        "the final frontier\n",
        "the undiscovered country\n",
        "generations\n",
        "first contact\n",
        "insurrection\n",
        "nemesis\n",
        "into darkness\n",
        "beyond"
      ]
    },
    {
      "cell_type": "code",
      "execution_count": null,
      "metadata": {
        "id": "A4EeEXnlDqLq",
        "outputId": "f4449ed9-57fa-44ed-b476-47f7d141acb1"
      },
      "outputs": [
        {
          "name": "stdout",
          "output_type": "stream",
          "text": [
            "the phantom menace\r\n",
            "attack of the clones\r\n",
            "revenge of the sith\r\n",
            "a new hope\r\n",
            "the empire strikes back\r\n",
            "return of the jedi\r\n",
            "beyond\r\n"
          ]
        }
      ],
      "source": [
        "!grep -Ex '.*(m | (t|n)|b).*' movies.txt"
      ]
    },
    {
      "cell_type": "markdown",
      "metadata": {
        "id": "9kNyIJh2DqLr"
      },
      "source": [
        "Almost right.\n",
        "\n",
        "**Exercise.** Can you fix the regular expression so that it also accepts `the force awakens`, `rogue one`, `the last jedi`, `solo`, and `the rise of skywalker`, but not `beyond`?"
      ]
    },
    {
      "cell_type": "markdown",
      "metadata": {
        "id": "-LAOyLM6DqLs"
      },
      "source": [
        "## Converting regular expressions to NFAs\n",
        "\n",
        "Regular expressions are the third \"model of computation\" of this course, and they, too, are equivalent to both DFAs and NFAs. The proof involves algorithms to convert between regular expressions and NFAs. Today we're converting regular expressions to NFAs, which is not as difficult as the subset construction from last time.\n",
        "\n",
        "The algorithm in the book is a slight variation on the algorithm from a paper by Ken Thompson, one of the co-developers of Unix, [for the QED editor](https://swtch.com/~rsc/regexp/regexp1.html), from which are descended `sed`, `grep`, and `vi`. (But many modern regular expression engines actually do not use this algorithm; they use one that is asymptotically much slower!)\n",
        "\n",
        "The conversion is a recursive procedure that walks through the structure of the regular expression. We'll write it as a proof that uses structural induction.\n",
        "\n",
        "Theorem: Any regular expression $\\alpha$ can be converted into an equivalent NFA.\n",
        "\n",
        "Proof: By induction on the structure of $\\alpha$."
      ]
    },
    {
      "cell_type": "markdown",
      "metadata": {
        "id": "At2CivKYDqLs"
      },
      "source": [
        "If $\\alpha = a$, we can convert it to the NFA:\n",
        "\n",
        "<img src=\"data:image/png;base64,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\" alt=\"image.png\">"
      ]
    },
    {
      "cell_type": "markdown",
      "metadata": {
        "id": "S-Y09lgODqLt"
      },
      "source": [
        "If $\\alpha = \\varepsilon$, we can convert it to the NFA:\n",
        "\n",
        "<img src=\"data:image/png;base64,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\" alt=\"image.png\">"
      ]
    },
    {
      "cell_type": "markdown",
      "metadata": {
        "id": "vji4AN--DqLu"
      },
      "source": [
        "If $\\alpha = \\emptyset$, we can convert it to the NFA:\n",
        "\n",
        "<img src=\"data:image/png;base64,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\" alt=\"image.png\">\n",
        "\n",
        "Now we need three inductive steps, which go like this:\n",
        "\n",
        "If $\\alpha = \\beta \\cup \\gamma$, then by the inductive hypothesis, we can convert $\\beta$ to an equivalent NFA $B$ and $\\gamma$ to an equivalent NFA $C$. Then we can construct an NFA that recognizes $\\mathcal{L}(B) \\cup \\mathcal{L}(C)$. (See below for how to do this.)\n",
        "\n",
        "Similarly if $\\alpha = \\beta \\gamma$ or $\\alpha = \\beta^\\ast$.\n",
        "\n",
        "So to complete this proof, we need to show how to perform the union, concatenation, and Kleene star operations on NFAs. These are much easier than the intersection construction was. "
      ]
    },
    {
      "cell_type": "markdown",
      "metadata": {
        "id": "Nu2SVityDqLv"
      },
      "source": [
        "### Union\n",
        "\n",
        "First we prove that regular languages are closed under union. Given two NFAs $B$ and $C$, we can picture each of them using this cartoon:\n",
        "\n",
        "<img src=\"data:image/png;base64,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\" alt=\"image.png\">\n",
        "\n",
        "The cartoon only shows the start state and accept states and omits all other states. Also, in reality there might be fewer than two or more than two accept states."
      ]
    },
    {
      "cell_type": "markdown",
      "metadata": {
        "id": "ogxdElCtDqLw"
      },
      "source": [
        "Then this is an NFA that recognizes $\\mathcal{L}(B) \\cup \\mathcal{L}(C)$:\n",
        "\n",
        "<img src=\"data:image/png;base64,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\" alt=\"image.png\">\n",
        "\n",
        "**Exercise**. Write the construction of this NFA more formally."
      ]
    },
    {
      "cell_type": "markdown",
      "metadata": {
        "id": "848XioB-DqLx"
      },
      "source": [
        "**Question**. What would be wrong with simply merging the two start states like this? Can you come up with an example where this would go wrong?\n",
        "\n",
        "<img src=\"data:image/png;base64,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\" alt=\"image.png\">"
      ]
    },
    {
      "cell_type": "markdown",
      "metadata": {
        "id": "vBpjSxEnDqLy"
      },
      "source": [
        "### Concatenation\n",
        "\n",
        "<img src=\"data:image/png;base64,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\" alt=\"image.png\">"
      ]
    },
    {
      "cell_type": "markdown",
      "metadata": {
        "id": "2GvuU_LdDqLz"
      },
      "source": [
        "### Kleene star\n",
        "\n",
        "<img src=\"data:image/png;base64,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\" alt=\"image.png\">\n",
        "\n",
        "**Question.** Why do we need to create a new start state?"
      ]
    },
    {
      "cell_type": "markdown",
      "metadata": {
        "id": "zuJKuE_PDqL0"
      },
      "source": [
        "### Putting it together\n",
        "\n",
        "Here's a step by step visualization of the example from the book. You can try different regular expressions to see how they get converted. (Note that in Tock, unlike in Unix tools, symbols in regular expressions are separated by spaces.)"
      ]
    },
    {
      "cell_type": "code",
      "execution_count": null,
      "metadata": {
        "id": "weo8vBztDqL1",
        "outputId": "98dfdebb-f4df-4387-b306-5255070b6299"
      },
      "outputs": [
        {
          "data": {
            "text/html": [
              "subexpression: a"
            ],
            "text/plain": [
              "<IPython.core.display.HTML object>"
            ]
          },
          "metadata": {},
          "output_type": "display_data"
        },
        {
          "data": {
            "image/svg+xml": [
              "<svg xmlns=\"http://www.w3.org/2000/svg\" xmlns:xlink=\"http://www.w3.org/1999/xlink\" width=\"144pt\" height=\"37pt\" viewBox=\"0.00 0.00 144.00 36.50\">\n",
              "<g id=\"graph0\" class=\"graph\" transform=\"scale(1 1) rotate(0) translate(4 32.5)\">\n",
              "\n",
              "<polygon fill=\"white\" stroke=\"transparent\" points=\"-4,4 -4,-32.5 140,-32.5 140,4 -4,4\"/>\n",
              "<!-- _START -->\n",
              "<g id=\"node1\" class=\"node\">\n",
              "\n",
              "</g>\n",
              "<!-- 1 -->\n",
              "<g id=\"node3\" class=\"node\">\n",
              "\n",
              "<path fill=\"none\" stroke=\"black\" d=\"M53.33,-21C53.33,-21 43.67,-21 43.67,-21 40.83,-21 38,-18.17 38,-15.33 38,-15.33 38,-9.67 38,-9.67 38,-6.83 40.83,-4 43.67,-4 43.67,-4 53.33,-4 53.33,-4 56.17,-4 59,-6.83 59,-9.67 59,-9.67 59,-15.33 59,-15.33 59,-18.17 56.17,-21 53.33,-21\"/>\n",
              "<text text-anchor=\"start\" x=\"42\" y=\"-10\" font-family=\"Courier,monospace\" font-size=\"10.00\">q1</text>\n",
              "</g>\n",
              "<!-- _START&#45;&gt;1 -->\n",
              "<g id=\"edge1\" class=\"edge\">\n",
              "\n",
              "<path fill=\"none\" stroke=\"black\" d=\"M1.13,-12.5C2.79,-12.5 19.6,-12.5 32.5,-12.5\"/>\n",
              "<polygon fill=\"black\" stroke=\"black\" points=\"37.74,-12.5 32.74,-14.75 35.24,-12.5 32.74,-12.5 32.74,-12.5 32.74,-12.5 35.24,-12.5 32.74,-10.25 37.74,-12.5 37.74,-12.5\"/>\n",
              "</g>\n",
              "<!-- 0 -->\n",
              "<g id=\"node2\" class=\"node\">\n",
              "\n",
              "<path fill=\"none\" stroke=\"black\" d=\"M126.33,-21C126.33,-21 116.67,-21 116.67,-21 113.83,-21 111,-18.17 111,-15.33 111,-15.33 111,-9.67 111,-9.67 111,-6.83 113.83,-4 116.67,-4 116.67,-4 126.33,-4 126.33,-4 129.17,-4 132,-6.83 132,-9.67 132,-9.67 132,-15.33 132,-15.33 132,-18.17 129.17,-21 126.33,-21\"/>\n",
              "<path fill=\"none\" stroke=\"black\" d=\"M127.67,-25C127.67,-25 115.33,-25 115.33,-25 111.17,-25 107,-20.83 107,-16.67 107,-16.67 107,-8.33 107,-8.33 107,-4.17 111.17,0 115.33,0 115.33,0 127.67,0 127.67,0 131.83,0 136,-4.17 136,-8.33 136,-8.33 136,-16.67 136,-16.67 136,-20.83 131.83,-25 127.67,-25\"/>\n",
              "<text text-anchor=\"start\" x=\"115\" y=\"-10\" font-family=\"Courier,monospace\" font-size=\"10.00\">q2</text>\n",
              "</g>\n",
              "<!-- 1&#45;&gt;0 -->\n",
              "<g id=\"edge2\" class=\"edge\">\n",
              "\n",
              "<path fill=\"none\" stroke=\"black\" d=\"M59.08,-12.5C69.97,-12.5 88.02,-12.5 101.75,-12.5\"/>\n",
              "<polygon fill=\"black\" stroke=\"black\" points=\"106.96,-12.5 101.96,-14.75 104.46,-12.5 101.96,-12.5 101.96,-12.5 101.96,-12.5 104.46,-12.5 101.96,-10.25 106.96,-12.5 106.96,-12.5\"/>\n",
              "<text text-anchor=\"start\" x=\"80\" y=\"-18.3\" font-family=\"Courier,monospace\" font-size=\"9.00\">a</text>\n",
              "</g>\n",
              "</g>\n",
              "</svg>"
            ],
            "text/plain": [
              "<IPython.core.display.SVG object>"
            ]
          },
          "metadata": {},
          "output_type": "display_data"
        },
        {
          "data": {
            "text/html": [
              "subexpression: b"
            ],
            "text/plain": [
              "<IPython.core.display.HTML object>"
            ]
          },
          "metadata": {},
          "output_type": "display_data"
        },
        {
          "data": {
            "image/svg+xml": [
              "<svg xmlns=\"http://www.w3.org/2000/svg\" xmlns:xlink=\"http://www.w3.org/1999/xlink\" width=\"144pt\" height=\"37pt\" viewBox=\"0.00 0.00 144.00 36.50\">\n",
              "<g id=\"graph0\" class=\"graph\" transform=\"scale(1 1) rotate(0) translate(4 32.5)\">\n",
              "\n",
              "<polygon fill=\"white\" stroke=\"transparent\" points=\"-4,4 -4,-32.5 140,-32.5 140,4 -4,4\"/>\n",
              "<!-- _START -->\n",
              "<g id=\"node1\" class=\"node\">\n",
              "\n",
              "</g>\n",
              "<!-- 1 -->\n",
              "<g id=\"node3\" class=\"node\">\n",
              "\n",
              "<path fill=\"none\" stroke=\"black\" d=\"M53.33,-21C53.33,-21 43.67,-21 43.67,-21 40.83,-21 38,-18.17 38,-15.33 38,-15.33 38,-9.67 38,-9.67 38,-6.83 40.83,-4 43.67,-4 43.67,-4 53.33,-4 53.33,-4 56.17,-4 59,-6.83 59,-9.67 59,-9.67 59,-15.33 59,-15.33 59,-18.17 56.17,-21 53.33,-21\"/>\n",
              "<text text-anchor=\"start\" x=\"42\" y=\"-10\" font-family=\"Courier,monospace\" font-size=\"10.00\">q3</text>\n",
              "</g>\n",
              "<!-- _START&#45;&gt;1 -->\n",
              "<g id=\"edge1\" class=\"edge\">\n",
              "\n",
              "<path fill=\"none\" stroke=\"black\" d=\"M1.13,-12.5C2.79,-12.5 19.6,-12.5 32.5,-12.5\"/>\n",
              "<polygon fill=\"black\" stroke=\"black\" points=\"37.74,-12.5 32.74,-14.75 35.24,-12.5 32.74,-12.5 32.74,-12.5 32.74,-12.5 35.24,-12.5 32.74,-10.25 37.74,-12.5 37.74,-12.5\"/>\n",
              "</g>\n",
              "<!-- 0 -->\n",
              "<g id=\"node2\" class=\"node\">\n",
              "\n",
              "<path fill=\"none\" stroke=\"black\" d=\"M126.33,-21C126.33,-21 116.67,-21 116.67,-21 113.83,-21 111,-18.17 111,-15.33 111,-15.33 111,-9.67 111,-9.67 111,-6.83 113.83,-4 116.67,-4 116.67,-4 126.33,-4 126.33,-4 129.17,-4 132,-6.83 132,-9.67 132,-9.67 132,-15.33 132,-15.33 132,-18.17 129.17,-21 126.33,-21\"/>\n",
              "<path fill=\"none\" stroke=\"black\" d=\"M127.67,-25C127.67,-25 115.33,-25 115.33,-25 111.17,-25 107,-20.83 107,-16.67 107,-16.67 107,-8.33 107,-8.33 107,-4.17 111.17,0 115.33,0 115.33,0 127.67,0 127.67,0 131.83,0 136,-4.17 136,-8.33 136,-8.33 136,-16.67 136,-16.67 136,-20.83 131.83,-25 127.67,-25\"/>\n",
              "<text text-anchor=\"start\" x=\"115\" y=\"-10\" font-family=\"Courier,monospace\" font-size=\"10.00\">q4</text>\n",
              "</g>\n",
              "<!-- 1&#45;&gt;0 -->\n",
              "<g id=\"edge2\" class=\"edge\">\n",
              "\n",
              "<path fill=\"none\" stroke=\"black\" d=\"M59.08,-12.5C69.97,-12.5 88.02,-12.5 101.75,-12.5\"/>\n",
              "<polygon fill=\"black\" stroke=\"black\" points=\"106.96,-12.5 101.96,-14.75 104.46,-12.5 101.96,-12.5 101.96,-12.5 101.96,-12.5 104.46,-12.5 101.96,-10.25 106.96,-12.5 106.96,-12.5\"/>\n",
              "<text text-anchor=\"start\" x=\"80\" y=\"-18.3\" font-family=\"Courier,monospace\" font-size=\"9.00\">b</text>\n",
              "</g>\n",
              "</g>\n",
              "</svg>"
            ],
            "text/plain": [
              "<IPython.core.display.SVG object>"
            ]
          },
          "metadata": {},
          "output_type": "display_data"
        },
        {
          "data": {
            "text/html": [
              "subexpression: a b"
            ],
            "text/plain": [
              "<IPython.core.display.HTML object>"
            ]
          },
          "metadata": {},
          "output_type": "display_data"
        },
        {
          "data": {
            "image/svg+xml": [
              "<svg xmlns=\"http://www.w3.org/2000/svg\" xmlns:xlink=\"http://www.w3.org/1999/xlink\" width=\"282pt\" height=\"37pt\" viewBox=\"0.00 0.00 282.00 36.50\">\n",
              "<g id=\"graph0\" class=\"graph\" transform=\"scale(1 1) rotate(0) translate(4 32.5)\">\n",
              "\n",
              "<polygon fill=\"white\" stroke=\"transparent\" points=\"-4,4 -4,-32.5 278,-32.5 278,4 -4,4\"/>\n",
              "<!-- _START -->\n",
              "<g id=\"node1\" class=\"node\">\n",
              "\n",
              "</g>\n",
              "<!-- 0 -->\n",
              "<g id=\"node2\" class=\"node\">\n",
              "\n",
              "<path fill=\"none\" stroke=\"black\" d=\"M53.33,-21C53.33,-21 43.67,-21 43.67,-21 40.83,-21 38,-18.17 38,-15.33 38,-15.33 38,-9.67 38,-9.67 38,-6.83 40.83,-4 43.67,-4 43.67,-4 53.33,-4 53.33,-4 56.17,-4 59,-6.83 59,-9.67 59,-9.67 59,-15.33 59,-15.33 59,-18.17 56.17,-21 53.33,-21\"/>\n",
              "<text text-anchor=\"start\" x=\"42\" y=\"-10\" font-family=\"Courier,monospace\" font-size=\"10.00\">q1</text>\n",
              "</g>\n",
              "<!-- _START&#45;&gt;0 -->\n",
              "<g id=\"edge1\" class=\"edge\">\n",
              "\n",
              "<path fill=\"none\" stroke=\"black\" d=\"M1.13,-12.5C2.79,-12.5 19.6,-12.5 32.5,-12.5\"/>\n",
              "<polygon fill=\"black\" stroke=\"black\" points=\"37.74,-12.5 32.74,-14.75 35.24,-12.5 32.74,-12.5 32.74,-12.5 32.74,-12.5 35.24,-12.5 32.74,-10.25 37.74,-12.5 37.74,-12.5\"/>\n",
              "</g>\n",
              "<!-- 1 -->\n",
              "<g id=\"node3\" class=\"node\">\n",
              "\n",
              "<path fill=\"none\" stroke=\"black\" d=\"M122.33,-21C122.33,-21 112.67,-21 112.67,-21 109.83,-21 107,-18.17 107,-15.33 107,-15.33 107,-9.67 107,-9.67 107,-6.83 109.83,-4 112.67,-4 112.67,-4 122.33,-4 122.33,-4 125.17,-4 128,-6.83 128,-9.67 128,-9.67 128,-15.33 128,-15.33 128,-18.17 125.17,-21 122.33,-21\"/>\n",
              "<text text-anchor=\"start\" x=\"111\" y=\"-10\" font-family=\"Courier,monospace\" font-size=\"10.00\">q2</text>\n",
              "</g>\n",
              "<!-- 0&#45;&gt;1 -->\n",
              "<g id=\"edge2\" class=\"edge\">\n",
              "\n",
              "<path fill=\"none\" stroke=\"black\" d=\"M59.1,-12.5C70.24,-12.5 88.75,-12.5 101.73,-12.5\"/>\n",
              "<polygon fill=\"black\" stroke=\"black\" points=\"106.92,-12.5 101.92,-14.75 104.42,-12.5 101.92,-12.5 101.92,-12.5 101.92,-12.5 104.42,-12.5 101.92,-10.25 106.92,-12.5 106.92,-12.5\"/>\n",
              "<text text-anchor=\"start\" x=\"80\" y=\"-18.3\" font-family=\"Courier,monospace\" font-size=\"9.00\">a</text>\n",
              "</g>\n",
              "<!-- 2 -->\n",
              "<g id=\"node4\" class=\"node\">\n",
              "\n",
              "<path fill=\"none\" stroke=\"black\" d=\"M191.33,-21C191.33,-21 181.67,-21 181.67,-21 178.83,-21 176,-18.17 176,-15.33 176,-15.33 176,-9.67 176,-9.67 176,-6.83 178.83,-4 181.67,-4 181.67,-4 191.33,-4 191.33,-4 194.17,-4 197,-6.83 197,-9.67 197,-9.67 197,-15.33 197,-15.33 197,-18.17 194.17,-21 191.33,-21\"/>\n",
              "<text text-anchor=\"start\" x=\"180\" y=\"-10\" font-family=\"Courier,monospace\" font-size=\"10.00\">q3</text>\n",
              "</g>\n",
              "<!-- 1&#45;&gt;2 -->\n",
              "<g id=\"edge4\" class=\"edge\">\n",
              "\n",
              "<path fill=\"none\" stroke=\"black\" d=\"M128.1,-12.5C139.24,-12.5 157.75,-12.5 170.73,-12.5\"/>\n",
              "<polygon fill=\"black\" stroke=\"black\" points=\"175.92,-12.5 170.92,-14.75 173.42,-12.5 170.92,-12.5 170.92,-12.5 170.92,-12.5 173.42,-12.5 170.92,-10.25 175.92,-12.5 175.92,-12.5\"/>\n",
              "<text text-anchor=\"start\" x=\"149\" y=\"-18.3\" font-family=\"Courier,monospace\" font-size=\"9.00\">ε</text>\n",
              "</g>\n",
              "<!-- 3 -->\n",
              "<g id=\"node5\" class=\"node\">\n",
              "\n",
              "<path fill=\"none\" stroke=\"black\" d=\"M264.33,-21C264.33,-21 254.67,-21 254.67,-21 251.83,-21 249,-18.17 249,-15.33 249,-15.33 249,-9.67 249,-9.67 249,-6.83 251.83,-4 254.67,-4 254.67,-4 264.33,-4 264.33,-4 267.17,-4 270,-6.83 270,-9.67 270,-9.67 270,-15.33 270,-15.33 270,-18.17 267.17,-21 264.33,-21\"/>\n",
              "<path fill=\"none\" stroke=\"black\" d=\"M265.67,-25C265.67,-25 253.33,-25 253.33,-25 249.17,-25 245,-20.83 245,-16.67 245,-16.67 245,-8.33 245,-8.33 245,-4.17 249.17,0 253.33,0 253.33,0 265.67,0 265.67,0 269.83,0 274,-4.17 274,-8.33 274,-8.33 274,-16.67 274,-16.67 274,-20.83 269.83,-25 265.67,-25\"/>\n",
              "<text text-anchor=\"start\" x=\"253\" y=\"-10\" font-family=\"Courier,monospace\" font-size=\"10.00\">q4</text>\n",
              "</g>\n",
              "<!-- 2&#45;&gt;3 -->\n",
              "<g id=\"edge3\" class=\"edge\">\n",
              "\n",
              "<path fill=\"none\" stroke=\"black\" d=\"M197.08,-12.5C207.97,-12.5 226.02,-12.5 239.75,-12.5\"/>\n",
              "<polygon fill=\"black\" stroke=\"black\" points=\"244.96,-12.5 239.96,-14.75 242.46,-12.5 239.96,-12.5 239.96,-12.5 239.96,-12.5 242.46,-12.5 239.96,-10.25 244.96,-12.5 244.96,-12.5\"/>\n",
              "<text text-anchor=\"start\" x=\"218\" y=\"-18.3\" font-family=\"Courier,monospace\" font-size=\"9.00\">b</text>\n",
              "</g>\n",
              "</g>\n",
              "</svg>"
            ],
            "text/plain": [
              "<IPython.core.display.SVG object>"
            ]
          },
          "metadata": {},
          "output_type": "display_data"
        },
        {
          "data": {
            "text/html": [
              "subexpression: a"
            ],
            "text/plain": [
              "<IPython.core.display.HTML object>"
            ]
          },
          "metadata": {},
          "output_type": "display_data"
        },
        {
          "data": {
            "image/svg+xml": [
              "<svg xmlns=\"http://www.w3.org/2000/svg\" xmlns:xlink=\"http://www.w3.org/1999/xlink\" width=\"144pt\" height=\"37pt\" viewBox=\"0.00 0.00 144.00 36.50\">\n",
              "<g id=\"graph0\" class=\"graph\" transform=\"scale(1 1) rotate(0) translate(4 32.5)\">\n",
              "\n",
              "<polygon fill=\"white\" stroke=\"transparent\" points=\"-4,4 -4,-32.5 140,-32.5 140,4 -4,4\"/>\n",
              "<!-- _START -->\n",
              "<g id=\"node1\" class=\"node\">\n",
              "\n",
              "</g>\n",
              "<!-- 0 -->\n",
              "<g id=\"node2\" class=\"node\">\n",
              "\n",
              "<path fill=\"none\" stroke=\"black\" d=\"M53.33,-21C53.33,-21 43.67,-21 43.67,-21 40.83,-21 38,-18.17 38,-15.33 38,-15.33 38,-9.67 38,-9.67 38,-6.83 40.83,-4 43.67,-4 43.67,-4 53.33,-4 53.33,-4 56.17,-4 59,-6.83 59,-9.67 59,-9.67 59,-15.33 59,-15.33 59,-18.17 56.17,-21 53.33,-21\"/>\n",
              "<text text-anchor=\"start\" x=\"42\" y=\"-10\" font-family=\"Courier,monospace\" font-size=\"10.00\">q5</text>\n",
              "</g>\n",
              "<!-- _START&#45;&gt;0 -->\n",
              "<g id=\"edge1\" class=\"edge\">\n",
              "\n",
              "<path fill=\"none\" stroke=\"black\" d=\"M1.13,-12.5C2.79,-12.5 19.6,-12.5 32.5,-12.5\"/>\n",
              "<polygon fill=\"black\" stroke=\"black\" points=\"37.74,-12.5 32.74,-14.75 35.24,-12.5 32.74,-12.5 32.74,-12.5 32.74,-12.5 35.24,-12.5 32.74,-10.25 37.74,-12.5 37.74,-12.5\"/>\n",
              "</g>\n",
              "<!-- 1 -->\n",
              "<g id=\"node3\" class=\"node\">\n",
              "\n",
              "<path fill=\"none\" stroke=\"black\" d=\"M126.33,-21C126.33,-21 116.67,-21 116.67,-21 113.83,-21 111,-18.17 111,-15.33 111,-15.33 111,-9.67 111,-9.67 111,-6.83 113.83,-4 116.67,-4 116.67,-4 126.33,-4 126.33,-4 129.17,-4 132,-6.83 132,-9.67 132,-9.67 132,-15.33 132,-15.33 132,-18.17 129.17,-21 126.33,-21\"/>\n",
              "<path fill=\"none\" stroke=\"black\" d=\"M127.67,-25C127.67,-25 115.33,-25 115.33,-25 111.17,-25 107,-20.83 107,-16.67 107,-16.67 107,-8.33 107,-8.33 107,-4.17 111.17,0 115.33,0 115.33,0 127.67,0 127.67,0 131.83,0 136,-4.17 136,-8.33 136,-8.33 136,-16.67 136,-16.67 136,-20.83 131.83,-25 127.67,-25\"/>\n",
              "<text text-anchor=\"start\" x=\"115\" y=\"-10\" font-family=\"Courier,monospace\" font-size=\"10.00\">q6</text>\n",
              "</g>\n",
              "<!-- 0&#45;&gt;1 -->\n",
              "<g id=\"edge2\" class=\"edge\">\n",
              "\n",
              "<path fill=\"none\" stroke=\"black\" d=\"M59.08,-12.5C69.97,-12.5 88.02,-12.5 101.75,-12.5\"/>\n",
              "<polygon fill=\"black\" stroke=\"black\" points=\"106.96,-12.5 101.96,-14.75 104.46,-12.5 101.96,-12.5 101.96,-12.5 101.96,-12.5 104.46,-12.5 101.96,-10.25 106.96,-12.5 106.96,-12.5\"/>\n",
              "<text text-anchor=\"start\" x=\"80\" y=\"-18.3\" font-family=\"Courier,monospace\" font-size=\"9.00\">a</text>\n",
              "</g>\n",
              "</g>\n",
              "</svg>"
            ],
            "text/plain": [
              "<IPython.core.display.SVG object>"
            ]
          },
          "metadata": {},
          "output_type": "display_data"
        },
        {
          "data": {
            "text/html": [
              "subexpression: a b ∪ a"
            ],
            "text/plain": [
              "<IPython.core.display.HTML object>"
            ]
          },
          "metadata": {},
          "output_type": "display_data"
        },
        {
          "data": {
            "image/svg+xml": [
              "<svg xmlns=\"http://www.w3.org/2000/svg\" xmlns:xlink=\"http://www.w3.org/1999/xlink\" width=\"359pt\" height=\"76pt\" viewBox=\"0.00 0.00 359.00 75.50\">\n",
              "<g id=\"graph0\" class=\"graph\" transform=\"scale(1 1) rotate(0) translate(4 71.5)\">\n",
              "\n",
              "<polygon fill=\"white\" stroke=\"transparent\" points=\"-4,4 -4,-71.5 355,-71.5 355,4 -4,4\"/>\n",
              "<!-- _START -->\n",
              "<g id=\"node1\" class=\"node\">\n",
              "\n",
              "</g>\n",
              "<!-- 0 -->\n",
              "<g id=\"node2\" class=\"node\">\n",
              "\n",
              "<path fill=\"none\" stroke=\"black\" d=\"M53.33,-40C53.33,-40 43.67,-40 43.67,-40 40.83,-40 38,-37.17 38,-34.33 38,-34.33 38,-28.67 38,-28.67 38,-25.83 40.83,-23 43.67,-23 43.67,-23 53.33,-23 53.33,-23 56.17,-23 59,-25.83 59,-28.67 59,-28.67 59,-34.33 59,-34.33 59,-37.17 56.17,-40 53.33,-40\"/>\n",
              "<text text-anchor=\"start\" x=\"42\" y=\"-29\" font-family=\"Courier,monospace\" font-size=\"10.00\">q7</text>\n",
              "</g>\n",
              "<!-- _START&#45;&gt;0 -->\n",
              "<g id=\"edge1\" class=\"edge\">\n",
              "\n",
              "<path fill=\"none\" stroke=\"black\" d=\"M1.13,-31.5C2.79,-31.5 19.6,-31.5 32.5,-31.5\"/>\n",
              "<polygon fill=\"black\" stroke=\"black\" points=\"37.74,-31.5 32.74,-33.75 35.24,-31.5 32.74,-31.5 32.74,-31.5 32.74,-31.5 35.24,-31.5 32.74,-29.25 37.74,-31.5 37.74,-31.5\"/>\n",
              "</g>\n",
              "<!-- 1 -->\n",
              "<g id=\"node3\" class=\"node\">\n",
              "\n",
              "<path fill=\"none\" stroke=\"black\" d=\"M122.33,-60C122.33,-60 112.67,-60 112.67,-60 109.83,-60 107,-57.17 107,-54.33 107,-54.33 107,-48.67 107,-48.67 107,-45.83 109.83,-43 112.67,-43 112.67,-43 122.33,-43 122.33,-43 125.17,-43 128,-45.83 128,-48.67 128,-48.67 128,-54.33 128,-54.33 128,-57.17 125.17,-60 122.33,-60\"/>\n",
              "<text text-anchor=\"start\" x=\"111\" y=\"-49\" font-family=\"Courier,monospace\" font-size=\"10.00\">q1</text>\n",
              "</g>\n",
              "<!-- 0&#45;&gt;1 -->\n",
              "<g id=\"edge6\" class=\"edge\">\n",
              "\n",
              "<path fill=\"none\" stroke=\"black\" d=\"M59.1,-34.37C70.34,-37.72 89.08,-43.32 102.08,-47.19\"/>\n",
              "<polygon fill=\"black\" stroke=\"black\" points=\"106.92,-48.64 101.48,-49.37 104.52,-47.92 102.13,-47.21 102.13,-47.21 102.13,-47.21 104.52,-47.92 102.77,-45.05 106.92,-48.64 106.92,-48.64\"/>\n",
              "<text text-anchor=\"start\" x=\"80\" y=\"-49.3\" font-family=\"Courier,monospace\" font-size=\"9.00\">ε</text>\n",
              "</g>\n",
              "<!-- 5 -->\n",
              "<g id=\"node7\" class=\"node\">\n",
              "\n",
              "<path fill=\"none\" stroke=\"black\" d=\"M122.33,-21C122.33,-21 112.67,-21 112.67,-21 109.83,-21 107,-18.17 107,-15.33 107,-15.33 107,-9.67 107,-9.67 107,-6.83 109.83,-4 112.67,-4 112.67,-4 122.33,-4 122.33,-4 125.17,-4 128,-6.83 128,-9.67 128,-9.67 128,-15.33 128,-15.33 128,-18.17 125.17,-21 122.33,-21\"/>\n",
              "<text text-anchor=\"start\" x=\"111\" y=\"-10\" font-family=\"Courier,monospace\" font-size=\"10.00\">q5</text>\n",
              "</g>\n",
              "<!-- 0&#45;&gt;5 -->\n",
              "<g id=\"edge7\" class=\"edge\">\n",
              "\n",
              "<path fill=\"none\" stroke=\"black\" d=\"M59,-23.38C64.01,-19.62 70.46,-15.54 77,-13.5 84.83,-11.06 93.96,-10.68 101.47,-10.97\"/>\n",
              "<polygon fill=\"black\" stroke=\"black\" points=\"106.84,-11.3 101.72,-13.24 104.35,-11.14 101.85,-10.99 101.85,-10.99 101.85,-10.99 104.35,-11.14 101.99,-8.75 106.84,-11.3 106.84,-11.3\"/>\n",
              "<text text-anchor=\"start\" x=\"80\" y=\"-19.3\" font-family=\"Courier,monospace\" font-size=\"9.00\">ε</text>\n",
              "</g>\n",
              "<!-- 2 -->\n",
              "<g id=\"node4\" class=\"node\">\n",
              "\n",
              "<path fill=\"none\" stroke=\"black\" d=\"M195.33,-60C195.33,-60 185.67,-60 185.67,-60 182.83,-60 180,-57.17 180,-54.33 180,-54.33 180,-48.67 180,-48.67 180,-45.83 182.83,-43 185.67,-43 185.67,-43 195.33,-43 195.33,-43 198.17,-43 201,-45.83 201,-48.67 201,-48.67 201,-54.33 201,-54.33 201,-57.17 198.17,-60 195.33,-60\"/>\n",
              "<text text-anchor=\"start\" x=\"184\" y=\"-49\" font-family=\"Courier,monospace\" font-size=\"10.00\">q2</text>\n",
              "</g>\n",
              "<!-- 1&#45;&gt;2 -->\n",
              "<g id=\"edge2\" class=\"edge\">\n",
              "\n",
              "<path fill=\"none\" stroke=\"black\" d=\"M128.08,-51.5C139.97,-51.5 160.41,-51.5 174.42,-51.5\"/>\n",
              "<polygon fill=\"black\" stroke=\"black\" points=\"179.62,-51.5 174.62,-53.75 177.12,-51.5 174.62,-51.5 174.62,-51.5 174.62,-51.5 177.12,-51.5 174.62,-49.25 179.62,-51.5 179.62,-51.5\"/>\n",
              "<text text-anchor=\"start\" x=\"149\" y=\"-57.3\" font-family=\"Courier,monospace\" font-size=\"9.00\">a</text>\n",
              "</g>\n",
              "<!-- 3 -->\n",
              "<g id=\"node5\" class=\"node\">\n",
              "\n",
              "<path fill=\"none\" stroke=\"black\" d=\"M268.33,-60C268.33,-60 258.67,-60 258.67,-60 255.83,-60 253,-57.17 253,-54.33 253,-54.33 253,-48.67 253,-48.67 253,-45.83 255.83,-43 258.67,-43 258.67,-43 268.33,-43 268.33,-43 271.17,-43 274,-45.83 274,-48.67 274,-48.67 274,-54.33 274,-54.33 274,-57.17 271.17,-60 268.33,-60\"/>\n",
              "<text text-anchor=\"start\" x=\"257\" y=\"-49\" font-family=\"Courier,monospace\" font-size=\"10.00\">q3</text>\n",
              "</g>\n",
              "<!-- 2&#45;&gt;3 -->\n",
              "<g id=\"edge4\" class=\"edge\">\n",
              "\n",
              "<path fill=\"none\" stroke=\"black\" d=\"M201.08,-51.5C212.97,-51.5 233.41,-51.5 247.42,-51.5\"/>\n",
              "<polygon fill=\"black\" stroke=\"black\" points=\"252.62,-51.5 247.62,-53.75 250.12,-51.5 247.62,-51.5 247.62,-51.5 247.62,-51.5 250.12,-51.5 247.62,-49.25 252.62,-51.5 252.62,-51.5\"/>\n",
              "<text text-anchor=\"start\" x=\"226\" y=\"-57.3\" font-family=\"Courier,monospace\" font-size=\"9.00\">ε</text>\n",
              "</g>\n",
              "<!-- 4 -->\n",
              "<g id=\"node6\" class=\"node\">\n",
              "\n",
              "<path fill=\"none\" stroke=\"black\" d=\"M341.33,-60C341.33,-60 331.67,-60 331.67,-60 328.83,-60 326,-57.17 326,-54.33 326,-54.33 326,-48.67 326,-48.67 326,-45.83 328.83,-43 331.67,-43 331.67,-43 341.33,-43 341.33,-43 344.17,-43 347,-45.83 347,-48.67 347,-48.67 347,-54.33 347,-54.33 347,-57.17 344.17,-60 341.33,-60\"/>\n",
              "<path fill=\"none\" stroke=\"black\" d=\"M342.67,-64C342.67,-64 330.33,-64 330.33,-64 326.17,-64 322,-59.83 322,-55.67 322,-55.67 322,-47.33 322,-47.33 322,-43.17 326.17,-39 330.33,-39 330.33,-39 342.67,-39 342.67,-39 346.83,-39 351,-43.17 351,-47.33 351,-47.33 351,-55.67 351,-55.67 351,-59.83 346.83,-64 342.67,-64\"/>\n",
              "<text text-anchor=\"start\" x=\"330\" y=\"-49\" font-family=\"Courier,monospace\" font-size=\"10.00\">q4</text>\n",
              "</g>\n",
              "<!-- 3&#45;&gt;4 -->\n",
              "<g id=\"edge3\" class=\"edge\">\n",
              "\n",
              "<path fill=\"none\" stroke=\"black\" d=\"M274.08,-51.5C284.97,-51.5 303.02,-51.5 316.75,-51.5\"/>\n",
              "<polygon fill=\"black\" stroke=\"black\" points=\"321.96,-51.5 316.96,-53.75 319.46,-51.5 316.96,-51.5 316.96,-51.5 316.96,-51.5 319.46,-51.5 316.96,-49.25 321.96,-51.5 321.96,-51.5\"/>\n",
              "<text text-anchor=\"start\" x=\"295\" y=\"-57.3\" font-family=\"Courier,monospace\" font-size=\"9.00\">b</text>\n",
              "</g>\n",
              "<!-- 6 -->\n",
              "<g id=\"node8\" class=\"node\">\n",
              "\n",
              "<path fill=\"none\" stroke=\"black\" d=\"M195.33,-21C195.33,-21 185.67,-21 185.67,-21 182.83,-21 180,-18.17 180,-15.33 180,-15.33 180,-9.67 180,-9.67 180,-6.83 182.83,-4 185.67,-4 185.67,-4 195.33,-4 195.33,-4 198.17,-4 201,-6.83 201,-9.67 201,-9.67 201,-15.33 201,-15.33 201,-18.17 198.17,-21 195.33,-21\"/>\n",
              "<path fill=\"none\" stroke=\"black\" d=\"M196.67,-25C196.67,-25 184.33,-25 184.33,-25 180.17,-25 176,-20.83 176,-16.67 176,-16.67 176,-8.33 176,-8.33 176,-4.17 180.17,0 184.33,0 184.33,0 196.67,0 196.67,0 200.83,0 205,-4.17 205,-8.33 205,-8.33 205,-16.67 205,-16.67 205,-20.83 200.83,-25 196.67,-25\"/>\n",
              "<text text-anchor=\"start\" x=\"184\" y=\"-10\" font-family=\"Courier,monospace\" font-size=\"10.00\">q6</text>\n",
              "</g>\n",
              "<!-- 5&#45;&gt;6 -->\n",
              "<g id=\"edge5\" class=\"edge\">\n",
              "\n",
              "<path fill=\"none\" stroke=\"black\" d=\"M128.08,-12.5C138.97,-12.5 157.02,-12.5 170.75,-12.5\"/>\n",
              "<polygon fill=\"black\" stroke=\"black\" points=\"175.96,-12.5 170.96,-14.75 173.46,-12.5 170.96,-12.5 170.96,-12.5 170.96,-12.5 173.46,-12.5 170.96,-10.25 175.96,-12.5 175.96,-12.5\"/>\n",
              "<text text-anchor=\"start\" x=\"149\" y=\"-18.3\" font-family=\"Courier,monospace\" font-size=\"9.00\">a</text>\n",
              "</g>\n",
              "</g>\n",
              "</svg>"
            ],
            "text/plain": [
              "<IPython.core.display.SVG object>"
            ]
          },
          "metadata": {},
          "output_type": "display_data"
        },
        {
          "data": {
            "text/html": [
              "subexpression: (a b ∪ a)*"
            ],
            "text/plain": [
              "<IPython.core.display.HTML object>"
            ]
          },
          "metadata": {},
          "output_type": "display_data"
        },
        {
          "data": {
            "image/svg+xml": [
              "<svg xmlns=\"http://www.w3.org/2000/svg\" xmlns:xlink=\"http://www.w3.org/1999/xlink\" width=\"436pt\" height=\"163pt\" viewBox=\"0.00 0.00 436.00 162.50\">\n",
              "<g id=\"graph0\" class=\"graph\" transform=\"scale(1 1) rotate(0) translate(4 158.5)\">\n",
              "\n",
              "<polygon fill=\"white\" stroke=\"transparent\" points=\"-4,4 -4,-158.5 432,-158.5 432,4 -4,4\"/>\n",
              "<!-- _START -->\n",
              "<g id=\"node1\" class=\"node\">\n",
              "\n",
              "</g>\n",
              "<!-- 0 -->\n",
              "<g id=\"node2\" class=\"node\">\n",
              "\n",
              "<path fill=\"none\" stroke=\"black\" d=\"M57.33,-84C57.33,-84 47.67,-84 47.67,-84 44.83,-84 42,-81.17 42,-78.33 42,-78.33 42,-72.67 42,-72.67 42,-69.83 44.83,-67 47.67,-67 47.67,-67 57.33,-67 57.33,-67 60.17,-67 63,-69.83 63,-72.67 63,-72.67 63,-78.33 63,-78.33 63,-81.17 60.17,-84 57.33,-84\"/>\n",
              "<path fill=\"none\" stroke=\"black\" d=\"M58.67,-88C58.67,-88 46.33,-88 46.33,-88 42.17,-88 38,-83.83 38,-79.67 38,-79.67 38,-71.33 38,-71.33 38,-67.17 42.17,-63 46.33,-63 46.33,-63 58.67,-63 58.67,-63 62.83,-63 67,-67.17 67,-71.33 67,-71.33 67,-79.67 67,-79.67 67,-83.83 62.83,-88 58.67,-88\"/>\n",
              "<text text-anchor=\"start\" x=\"46\" y=\"-73\" font-family=\"Courier,monospace\" font-size=\"10.00\">q8</text>\n",
              "</g>\n",
              "<!-- _START&#45;&gt;0 -->\n",
              "<g id=\"edge1\" class=\"edge\">\n",
              "\n",
              "<path fill=\"none\" stroke=\"black\" d=\"M1.14,-75.5C2.84,-75.5 19.1,-75.5 32.69,-75.5\"/>\n",
              "<polygon fill=\"black\" stroke=\"black\" points=\"37.92,-75.5 32.92,-77.75 35.42,-75.5 32.92,-75.5 32.92,-75.5 32.92,-75.5 35.42,-75.5 32.92,-73.25 37.92,-75.5 37.92,-75.5\"/>\n",
              "</g>\n",
              "<!-- 3 -->\n",
              "<g id=\"node5\" class=\"node\">\n",
              "\n",
              "<path fill=\"none\" stroke=\"black\" d=\"M130.33,-84C130.33,-84 120.67,-84 120.67,-84 117.83,-84 115,-81.17 115,-78.33 115,-78.33 115,-72.67 115,-72.67 115,-69.83 117.83,-67 120.67,-67 120.67,-67 130.33,-67 130.33,-67 133.17,-67 136,-69.83 136,-72.67 136,-72.67 136,-78.33 136,-78.33 136,-81.17 133.17,-84 130.33,-84\"/>\n",
              "<text text-anchor=\"start\" x=\"119\" y=\"-73\" font-family=\"Courier,monospace\" font-size=\"10.00\">q7</text>\n",
              "</g>\n",
              "<!-- 0&#45;&gt;3 -->\n",
              "<g id=\"edge8\" class=\"edge\">\n",
              "\n",
              "<path fill=\"none\" stroke=\"black\" d=\"M67.19,-75.5C79.46,-75.5 97.41,-75.5 109.94,-75.5\"/>\n",
              "<polygon fill=\"black\" stroke=\"black\" points=\"114.94,-75.5 109.94,-77.75 112.44,-75.5 109.94,-75.5 109.94,-75.5 109.94,-75.5 112.44,-75.5 109.94,-73.25 114.94,-75.5 114.94,-75.5\"/>\n",
              "<text text-anchor=\"start\" x=\"88\" y=\"-81.3\" font-family=\"Courier,monospace\" font-size=\"9.00\">ε</text>\n",
              "</g>\n",
              "<!-- 1 -->\n",
              "<g id=\"node3\" class=\"node\">\n",
              "\n",
              "<path fill=\"none\" stroke=\"black\" d=\"M199.33,-146C199.33,-146 189.67,-146 189.67,-146 186.83,-146 184,-143.17 184,-140.33 184,-140.33 184,-134.67 184,-134.67 184,-131.83 186.83,-129 189.67,-129 189.67,-129 199.33,-129 199.33,-129 202.17,-129 205,-131.83 205,-134.67 205,-134.67 205,-140.33 205,-140.33 205,-143.17 202.17,-146 199.33,-146\"/>\n",
              "<text text-anchor=\"start\" x=\"188\" y=\"-135\" font-family=\"Courier,monospace\" font-size=\"10.00\">q1</text>\n",
              "</g>\n",
              "<!-- 2 -->\n",
              "<g id=\"node4\" class=\"node\">\n",
              "\n",
              "<path fill=\"none\" stroke=\"black\" d=\"M272.33,-149C272.33,-149 262.67,-149 262.67,-149 259.83,-149 257,-146.17 257,-143.33 257,-143.33 257,-137.67 257,-137.67 257,-134.83 259.83,-132 262.67,-132 262.67,-132 272.33,-132 272.33,-132 275.17,-132 278,-134.83 278,-137.67 278,-137.67 278,-143.33 278,-143.33 278,-146.17 275.17,-149 272.33,-149\"/>\n",
              "<text text-anchor=\"start\" x=\"261\" y=\"-138\" font-family=\"Courier,monospace\" font-size=\"10.00\">q2</text>\n",
              "</g>\n",
              "<!-- 1&#45;&gt;2 -->\n",
              "<g id=\"edge2\" class=\"edge\">\n",
              "\n",
              "<path fill=\"none\" stroke=\"black\" d=\"M205.08,-137.9C216.97,-138.41 237.41,-139.27 251.42,-139.86\"/>\n",
              "<polygon fill=\"black\" stroke=\"black\" points=\"256.62,-140.08 251.53,-142.12 254.12,-139.98 251.63,-139.87 251.63,-139.87 251.63,-139.87 254.12,-139.98 251.72,-137.62 256.62,-140.08 256.62,-140.08\"/>\n",
              "<text text-anchor=\"start\" x=\"226\" y=\"-144.3\" font-family=\"Courier,monospace\" font-size=\"9.00\">a</text>\n",
              "</g>\n",
              "<!-- 4 -->\n",
              "<g id=\"node6\" class=\"node\">\n",
              "\n",
              "<path fill=\"none\" stroke=\"black\" d=\"M345.33,-146C345.33,-146 335.67,-146 335.67,-146 332.83,-146 330,-143.17 330,-140.33 330,-140.33 330,-134.67 330,-134.67 330,-131.83 332.83,-129 335.67,-129 335.67,-129 345.33,-129 345.33,-129 348.17,-129 351,-131.83 351,-134.67 351,-134.67 351,-140.33 351,-140.33 351,-143.17 348.17,-146 345.33,-146\"/>\n",
              "<text text-anchor=\"start\" x=\"334\" y=\"-135\" font-family=\"Courier,monospace\" font-size=\"10.00\">q3</text>\n",
              "</g>\n",
              "<!-- 2&#45;&gt;4 -->\n",
              "<g id=\"edge4\" class=\"edge\">\n",
              "\n",
              "<path fill=\"none\" stroke=\"black\" d=\"M278.08,-140.1C289.97,-139.59 310.41,-138.73 324.42,-138.14\"/>\n",
              "<polygon fill=\"black\" stroke=\"black\" points=\"329.62,-137.92 324.72,-140.38 327.12,-138.02 324.63,-138.13 324.63,-138.13 324.63,-138.13 327.12,-138.02 324.53,-135.88 329.62,-137.92 329.62,-137.92\"/>\n",
              "<text text-anchor=\"start\" x=\"303\" y=\"-144.3\" font-family=\"Courier,monospace\" font-size=\"9.00\">ε</text>\n",
              "</g>\n",
              "<!-- 3&#45;&gt;1 -->\n",
              "<g id=\"edge6\" class=\"edge\">\n",
              "\n",
              "<path fill=\"none\" stroke=\"black\" d=\"M132.18,-84.16C137.34,-91.64 145.42,-102.47 154,-110.5 161.63,-117.64 171.31,-124.29 179.18,-129.2\"/>\n",
              "<polygon fill=\"black\" stroke=\"black\" points=\"183.8,-132.02 178.36,-131.34 181.67,-130.72 179.54,-129.42 179.54,-129.42 179.54,-129.42 181.67,-130.72 180.71,-127.5 183.8,-132.02 183.8,-132.02\"/>\n",
              "<text text-anchor=\"start\" x=\"157\" y=\"-125.3\" font-family=\"Courier,monospace\" font-size=\"9.00\">ε</text>\n",
              "</g>\n",
              "<!-- 6 -->\n",
              "<g id=\"node8\" class=\"node\">\n",
              "\n",
              "<path fill=\"none\" stroke=\"black\" d=\"M199.33,-17C199.33,-17 189.67,-17 189.67,-17 186.83,-17 184,-14.17 184,-11.33 184,-11.33 184,-5.67 184,-5.67 184,-2.83 186.83,0 189.67,0 189.67,0 199.33,0 199.33,0 202.17,0 205,-2.83 205,-5.67 205,-5.67 205,-11.33 205,-11.33 205,-14.17 202.17,-17 199.33,-17\"/>\n",
              "<text text-anchor=\"start\" x=\"188\" y=\"-6\" font-family=\"Courier,monospace\" font-size=\"10.00\">q5</text>\n",
              "</g>\n",
              "<!-- 3&#45;&gt;6 -->\n",
              "<g id=\"edge7\" class=\"edge\">\n",
              "\n",
              "<path fill=\"none\" stroke=\"black\" d=\"M128.93,-66.93C132.58,-55.52 140.53,-35.4 154,-23.5 160.88,-17.42 170.47,-13.7 178.48,-11.49\"/>\n",
              "<polygon fill=\"black\" stroke=\"black\" points=\"183.72,-10.18 179.41,-13.57 181.29,-10.79 178.86,-11.39 178.86,-11.39 178.86,-11.39 181.29,-10.79 178.32,-9.21 183.72,-10.18 183.72,-10.18\"/>\n",
              "<text text-anchor=\"start\" x=\"157\" y=\"-29.3\" font-family=\"Courier,monospace\" font-size=\"9.00\">ε</text>\n",
              "</g>\n",
              "<!-- 5 -->\n",
              "<g id=\"node7\" class=\"node\">\n",
              "\n",
              "<path fill=\"none\" stroke=\"black\" d=\"M418.33,-122C418.33,-122 408.67,-122 408.67,-122 405.83,-122 403,-119.17 403,-116.33 403,-116.33 403,-110.67 403,-110.67 403,-107.83 405.83,-105 408.67,-105 408.67,-105 418.33,-105 418.33,-105 421.17,-105 424,-107.83 424,-110.67 424,-110.67 424,-116.33 424,-116.33 424,-119.17 421.17,-122 418.33,-122\"/>\n",
              "<path fill=\"none\" stroke=\"black\" d=\"M419.67,-126C419.67,-126 407.33,-126 407.33,-126 403.17,-126 399,-121.83 399,-117.67 399,-117.67 399,-109.33 399,-109.33 399,-105.17 403.17,-101 407.33,-101 407.33,-101 419.67,-101 419.67,-101 423.83,-101 428,-105.17 428,-109.33 428,-109.33 428,-117.67 428,-117.67 428,-121.83 423.83,-126 419.67,-126\"/>\n",
              "<text text-anchor=\"start\" x=\"407\" y=\"-111\" font-family=\"Courier,monospace\" font-size=\"10.00\">q4</text>\n",
              "</g>\n",
              "<!-- 4&#45;&gt;5 -->\n",
              "<g id=\"edge3\" class=\"edge\">\n",
              "\n",
              "<path fill=\"none\" stroke=\"black\" d=\"M351.08,-134.26C362.07,-130.55 380.34,-124.37 394.11,-119.72\"/>\n",
              "<polygon fill=\"black\" stroke=\"black\" points=\"398.96,-118.08 394.94,-121.81 396.59,-118.88 394.22,-119.68 394.22,-119.68 394.22,-119.68 396.59,-118.88 393.5,-117.55 398.96,-118.08 398.96,-118.08\"/>\n",
              "<text text-anchor=\"start\" x=\"372\" y=\"-133.3\" font-family=\"Courier,monospace\" font-size=\"9.00\">b</text>\n",
              "</g>\n",
              "<!-- 5&#45;&gt;3 -->\n",
              "<g id=\"edge9\" class=\"edge\">\n",
              "\n",
              "<path fill=\"none\" stroke=\"black\" d=\"M398.83,-108.53C384.68,-103.83 361.84,-97.5 341.5,-97.5 193.5,-97.5 193.5,-97.5 193.5,-97.5 174.53,-97.5 153.97,-89.44 140.7,-83.08\"/>\n",
              "<polygon fill=\"black\" stroke=\"black\" points=\"136.16,-80.83 141.64,-81.03 138.4,-81.94 140.64,-83.04 140.64,-83.04 140.64,-83.04 138.4,-81.94 139.64,-85.06 136.16,-80.83 136.16,-80.83\"/>\n",
              "<text text-anchor=\"start\" x=\"264.5\" y=\"-103.3\" font-family=\"Courier,monospace\" font-size=\"9.00\">ε</text>\n",
              "</g>\n",
              "<!-- 7 -->\n",
              "<g id=\"node9\" class=\"node\">\n",
              "\n",
              "<path fill=\"none\" stroke=\"black\" d=\"M272.33,-41C272.33,-41 262.67,-41 262.67,-41 259.83,-41 257,-38.17 257,-35.33 257,-35.33 257,-29.67 257,-29.67 257,-26.83 259.83,-24 262.67,-24 262.67,-24 272.33,-24 272.33,-24 275.17,-24 278,-26.83 278,-29.67 278,-29.67 278,-35.33 278,-35.33 278,-38.17 275.17,-41 272.33,-41\"/>\n",
              "<path fill=\"none\" stroke=\"black\" d=\"M273.67,-45C273.67,-45 261.33,-45 261.33,-45 257.17,-45 253,-40.83 253,-36.67 253,-36.67 253,-28.33 253,-28.33 253,-24.17 257.17,-20 261.33,-20 261.33,-20 273.67,-20 273.67,-20 277.83,-20 282,-24.17 282,-28.33 282,-28.33 282,-36.67 282,-36.67 282,-40.83 277.83,-45 273.67,-45\"/>\n",
              "<text text-anchor=\"start\" x=\"261\" y=\"-30\" font-family=\"Courier,monospace\" font-size=\"10.00\">q6</text>\n",
              "</g>\n",
              "<!-- 6&#45;&gt;7 -->\n",
              "<g id=\"edge5\" class=\"edge\">\n",
              "\n",
              "<path fill=\"none\" stroke=\"black\" d=\"M205.08,-11.74C216.07,-15.45 234.34,-21.63 248.11,-26.28\"/>\n",
              "<polygon fill=\"black\" stroke=\"black\" points=\"252.96,-27.92 247.5,-28.45 250.59,-27.12 248.22,-26.32 248.22,-26.32 248.22,-26.32 250.59,-27.12 248.94,-24.19 252.96,-27.92 252.96,-27.92\"/>\n",
              "<text text-anchor=\"start\" x=\"226\" y=\"-27.3\" font-family=\"Courier,monospace\" font-size=\"9.00\">a</text>\n",
              "</g>\n",
              "<!-- 7&#45;&gt;3 -->\n",
              "<g id=\"edge10\" class=\"edge\">\n",
              "\n",
              "<path fill=\"none\" stroke=\"black\" d=\"M252.8,-36.71C226.31,-44.84 168.33,-62.65 141.13,-71.01\"/>\n",
              "<polygon fill=\"black\" stroke=\"black\" points=\"136.12,-72.54 140.24,-68.93 138.51,-71.81 140.9,-71.08 140.9,-71.08 140.9,-71.08 138.51,-71.81 141.56,-73.23 136.12,-72.54 136.12,-72.54\"/>\n",
              "<text text-anchor=\"start\" x=\"191.5\" y=\"-63.3\" font-family=\"Courier,monospace\" font-size=\"9.00\">ε</text>\n",
              "</g>\n",
              "</g>\n",
              "</svg>"
            ],
            "text/plain": [
              "<IPython.core.display.SVG object>"
            ]
          },
          "metadata": {},
          "output_type": "display_data"
        }
      ],
      "source": [
        "m = from_regexp('(a b|a)*', display_steps=True)"
      ]
    },
    {
      "cell_type": "code",
      "execution_count": null,
      "metadata": {
        "id": "9X1TLwtpDqL2",
        "outputId": "94e3bdbf-9f7f-41d5-e833-b2d4f0c94163"
      },
      "outputs": [
        {
          "data": {
            "text/html": [
              "subexpression: a"
            ],
            "text/plain": [
              "<IPython.core.display.HTML object>"
            ]
          },
          "metadata": {},
          "output_type": "display_data"
        },
        {
          "data": {
            "image/svg+xml": [
              "<svg xmlns=\"http://www.w3.org/2000/svg\" xmlns:xlink=\"http://www.w3.org/1999/xlink\" width=\"156pt\" height=\"37pt\" viewBox=\"0.00 0.00 156.00 36.50\">\n",
              "<g id=\"graph0\" class=\"graph\" transform=\"scale(1 1) rotate(0) translate(4 32.5)\">\n",
              "\n",
              "<polygon fill=\"white\" stroke=\"transparent\" points=\"-4,4 -4,-32.5 152,-32.5 152,4 -4,4\"/>\n",
              "<!-- _START -->\n",
              "<g id=\"node1\" class=\"node\">\n",
              "\n",
              "</g>\n",
              "<!-- 0 -->\n",
              "<g id=\"node2\" class=\"node\">\n",
              "\n",
              "<path fill=\"none\" stroke=\"black\" d=\"M59.33,-21C59.33,-21 43.67,-21 43.67,-21 40.83,-21 38,-18.17 38,-15.33 38,-15.33 38,-9.67 38,-9.67 38,-6.83 40.83,-4 43.67,-4 43.67,-4 59.33,-4 59.33,-4 62.17,-4 65,-6.83 65,-9.67 65,-9.67 65,-15.33 65,-15.33 65,-18.17 62.17,-21 59.33,-21\"/>\n",
              "<text text-anchor=\"start\" x=\"42\" y=\"-10\" font-family=\"Courier,monospace\" font-size=\"10.00\">q01</text>\n",
              "</g>\n",
              "<!-- _START&#45;&gt;0 -->\n",
              "<g id=\"edge1\" class=\"edge\">\n",
              "\n",
              "<path fill=\"none\" stroke=\"black\" d=\"M1.14,-12.5C2.82,-12.5 19.12,-12.5 32.54,-12.5\"/>\n",
              "<polygon fill=\"black\" stroke=\"black\" points=\"37.69,-12.5 32.69,-14.75 35.19,-12.5 32.69,-12.5 32.69,-12.5 32.69,-12.5 35.19,-12.5 32.69,-10.25 37.69,-12.5 37.69,-12.5\"/>\n",
              "</g>\n",
              "<!-- 1 -->\n",
              "<g id=\"node3\" class=\"node\">\n",
              "\n",
              "<path fill=\"none\" stroke=\"black\" d=\"M138.33,-21C138.33,-21 122.67,-21 122.67,-21 119.83,-21 117,-18.17 117,-15.33 117,-15.33 117,-9.67 117,-9.67 117,-6.83 119.83,-4 122.67,-4 122.67,-4 138.33,-4 138.33,-4 141.17,-4 144,-6.83 144,-9.67 144,-9.67 144,-15.33 144,-15.33 144,-18.17 141.17,-21 138.33,-21\"/>\n",
              "<path fill=\"none\" stroke=\"black\" d=\"M139.67,-25C139.67,-25 121.33,-25 121.33,-25 117.17,-25 113,-20.83 113,-16.67 113,-16.67 113,-8.33 113,-8.33 113,-4.17 117.17,0 121.33,0 121.33,0 139.67,0 139.67,0 143.83,0 148,-4.17 148,-8.33 148,-8.33 148,-16.67 148,-16.67 148,-20.83 143.83,-25 139.67,-25\"/>\n",
              "<text text-anchor=\"start\" x=\"121\" y=\"-10\" font-family=\"Courier,monospace\" font-size=\"10.00\">q02</text>\n",
              "</g>\n",
              "<!-- 0&#45;&gt;1 -->\n",
              "<g id=\"edge2\" class=\"edge\">\n",
              "\n",
              "<path fill=\"none\" stroke=\"black\" d=\"M65.21,-12.5C76.68,-12.5 93.79,-12.5 107.47,-12.5\"/>\n",
              "<polygon fill=\"black\" stroke=\"black\" points=\"112.72,-12.5 107.72,-14.75 110.22,-12.5 107.72,-12.5 107.72,-12.5 107.72,-12.5 110.22,-12.5 107.72,-10.25 112.72,-12.5 112.72,-12.5\"/>\n",
              "<text text-anchor=\"start\" x=\"86\" y=\"-18.3\" font-family=\"Courier,monospace\" font-size=\"9.00\">a</text>\n",
              "</g>\n",
              "</g>\n",
              "</svg>"
            ],
            "text/plain": [
              "<IPython.core.display.SVG object>"
            ]
          },
          "metadata": {},
          "output_type": "display_data"
        },
        {
          "data": {
            "text/html": [
              "subexpression: b"
            ],
            "text/plain": [
              "<IPython.core.display.HTML object>"
            ]
          },
          "metadata": {},
          "output_type": "display_data"
        },
        {
          "data": {
            "image/svg+xml": [
              "<svg xmlns=\"http://www.w3.org/2000/svg\" xmlns:xlink=\"http://www.w3.org/1999/xlink\" width=\"156pt\" height=\"37pt\" viewBox=\"0.00 0.00 156.00 36.50\">\n",
              "<g id=\"graph0\" class=\"graph\" transform=\"scale(1 1) rotate(0) translate(4 32.5)\">\n",
              "\n",
              "<polygon fill=\"white\" stroke=\"transparent\" points=\"-4,4 -4,-32.5 152,-32.5 152,4 -4,4\"/>\n",
              "<!-- _START -->\n",
              "<g id=\"node1\" class=\"node\">\n",
              "\n",
              "</g>\n",
              "<!-- 1 -->\n",
              "<g id=\"node3\" class=\"node\">\n",
              "\n",
              "<path fill=\"none\" stroke=\"black\" d=\"M59.33,-21C59.33,-21 43.67,-21 43.67,-21 40.83,-21 38,-18.17 38,-15.33 38,-15.33 38,-9.67 38,-9.67 38,-6.83 40.83,-4 43.67,-4 43.67,-4 59.33,-4 59.33,-4 62.17,-4 65,-6.83 65,-9.67 65,-9.67 65,-15.33 65,-15.33 65,-18.17 62.17,-21 59.33,-21\"/>\n",
              "<text text-anchor=\"start\" x=\"42\" y=\"-10\" font-family=\"Courier,monospace\" font-size=\"10.00\">q03</text>\n",
              "</g>\n",
              "<!-- _START&#45;&gt;1 -->\n",
              "<g id=\"edge1\" class=\"edge\">\n",
              "\n",
              "<path fill=\"none\" stroke=\"black\" d=\"M1.14,-12.5C2.82,-12.5 19.12,-12.5 32.54,-12.5\"/>\n",
              "<polygon fill=\"black\" stroke=\"black\" points=\"37.69,-12.5 32.69,-14.75 35.19,-12.5 32.69,-12.5 32.69,-12.5 32.69,-12.5 35.19,-12.5 32.69,-10.25 37.69,-12.5 37.69,-12.5\"/>\n",
              "</g>\n",
              "<!-- 0 -->\n",
              "<g id=\"node2\" class=\"node\">\n",
              "\n",
              "<path fill=\"none\" stroke=\"black\" d=\"M138.33,-21C138.33,-21 122.67,-21 122.67,-21 119.83,-21 117,-18.17 117,-15.33 117,-15.33 117,-9.67 117,-9.67 117,-6.83 119.83,-4 122.67,-4 122.67,-4 138.33,-4 138.33,-4 141.17,-4 144,-6.83 144,-9.67 144,-9.67 144,-15.33 144,-15.33 144,-18.17 141.17,-21 138.33,-21\"/>\n",
              "<path fill=\"none\" stroke=\"black\" d=\"M139.67,-25C139.67,-25 121.33,-25 121.33,-25 117.17,-25 113,-20.83 113,-16.67 113,-16.67 113,-8.33 113,-8.33 113,-4.17 117.17,0 121.33,0 121.33,0 139.67,0 139.67,0 143.83,0 148,-4.17 148,-8.33 148,-8.33 148,-16.67 148,-16.67 148,-20.83 143.83,-25 139.67,-25\"/>\n",
              "<text text-anchor=\"start\" x=\"121\" y=\"-10\" font-family=\"Courier,monospace\" font-size=\"10.00\">q04</text>\n",
              "</g>\n",
              "<!-- 1&#45;&gt;0 -->\n",
              "<g id=\"edge2\" class=\"edge\">\n",
              "\n",
              "<path fill=\"none\" stroke=\"black\" d=\"M65.21,-12.5C76.68,-12.5 93.79,-12.5 107.47,-12.5\"/>\n",
              "<polygon fill=\"black\" stroke=\"black\" points=\"112.72,-12.5 107.72,-14.75 110.22,-12.5 107.72,-12.5 107.72,-12.5 107.72,-12.5 110.22,-12.5 107.72,-10.25 112.72,-12.5 112.72,-12.5\"/>\n",
              "<text text-anchor=\"start\" x=\"86\" y=\"-18.3\" font-family=\"Courier,monospace\" font-size=\"9.00\">b</text>\n",
              "</g>\n",
              "</g>\n",
              "</svg>"
            ],
            "text/plain": [
              "<IPython.core.display.SVG object>"
            ]
          },
          "metadata": {},
          "output_type": "display_data"
        },
        {
          "data": {
            "text/html": [
              "subexpression: a ∪ b"
            ],
            "text/plain": [
              "<IPython.core.display.HTML object>"
            ]
          },
          "metadata": {},
          "output_type": "display_data"
        },
        {
          "data": {
            "image/svg+xml": [
              "<svg xmlns=\"http://www.w3.org/2000/svg\" xmlns:xlink=\"http://www.w3.org/1999/xlink\" width=\"231pt\" height=\"79pt\" viewBox=\"0.00 0.00 231.00 78.50\">\n",
              "<g id=\"graph0\" class=\"graph\" transform=\"scale(1 1) rotate(0) translate(4 74.5)\">\n",
              "\n",
              "<polygon fill=\"white\" stroke=\"transparent\" points=\"-4,4 -4,-74.5 227,-74.5 227,4 -4,4\"/>\n",
              "<!-- _START -->\n",
              "<g id=\"node1\" class=\"node\">\n",
              "\n",
              "</g>\n",
              "<!-- 4 -->\n",
              "<g id=\"node6\" class=\"node\">\n",
              "\n",
              "<path fill=\"none\" stroke=\"black\" d=\"M59.33,-43C59.33,-43 43.67,-43 43.67,-43 40.83,-43 38,-40.17 38,-37.33 38,-37.33 38,-31.67 38,-31.67 38,-28.83 40.83,-26 43.67,-26 43.67,-26 59.33,-26 59.33,-26 62.17,-26 65,-28.83 65,-31.67 65,-31.67 65,-37.33 65,-37.33 65,-40.17 62.17,-43 59.33,-43\"/>\n",
              "<text text-anchor=\"start\" x=\"42\" y=\"-32\" font-family=\"Courier,monospace\" font-size=\"10.00\">q05</text>\n",
              "</g>\n",
              "<!-- _START&#45;&gt;4 -->\n",
              "<g id=\"edge1\" class=\"edge\">\n",
              "\n",
              "<path fill=\"none\" stroke=\"black\" d=\"M1.14,-34.5C2.82,-34.5 19.12,-34.5 32.54,-34.5\"/>\n",
              "<polygon fill=\"black\" stroke=\"black\" points=\"37.69,-34.5 32.69,-36.75 35.19,-34.5 32.69,-34.5 32.69,-34.5 32.69,-34.5 35.19,-34.5 32.69,-32.25 37.69,-34.5 37.69,-34.5\"/>\n",
              "</g>\n",
              "<!-- 0 -->\n",
              "<g id=\"node2\" class=\"node\">\n",
              "\n",
              "<path fill=\"none\" stroke=\"black\" d=\"M213.33,-64C213.33,-64 197.67,-64 197.67,-64 194.83,-64 192,-61.17 192,-58.33 192,-58.33 192,-52.67 192,-52.67 192,-49.83 194.83,-47 197.67,-47 197.67,-47 213.33,-47 213.33,-47 216.17,-47 219,-49.83 219,-52.67 219,-52.67 219,-58.33 219,-58.33 219,-61.17 216.17,-64 213.33,-64\"/>\n",
              "<path fill=\"none\" stroke=\"black\" d=\"M214.67,-68C214.67,-68 196.33,-68 196.33,-68 192.17,-68 188,-63.83 188,-59.67 188,-59.67 188,-51.33 188,-51.33 188,-47.17 192.17,-43 196.33,-43 196.33,-43 214.67,-43 214.67,-43 218.83,-43 223,-47.17 223,-51.33 223,-51.33 223,-59.67 223,-59.67 223,-63.83 218.83,-68 214.67,-68\"/>\n",
              "<text text-anchor=\"start\" x=\"196\" y=\"-53\" font-family=\"Courier,monospace\" font-size=\"10.00\">q02</text>\n",
              "</g>\n",
              "<!-- 1 -->\n",
              "<g id=\"node3\" class=\"node\">\n",
              "\n",
              "<path fill=\"none\" stroke=\"black\" d=\"M134.33,-63C134.33,-63 118.67,-63 118.67,-63 115.83,-63 113,-60.17 113,-57.33 113,-57.33 113,-51.67 113,-51.67 113,-48.83 115.83,-46 118.67,-46 118.67,-46 134.33,-46 134.33,-46 137.17,-46 140,-48.83 140,-51.67 140,-51.67 140,-57.33 140,-57.33 140,-60.17 137.17,-63 134.33,-63\"/>\n",
              "<text text-anchor=\"start\" x=\"117\" y=\"-52\" font-family=\"Courier,monospace\" font-size=\"10.00\">q01</text>\n",
              "</g>\n",
              "<!-- 1&#45;&gt;0 -->\n",
              "<g id=\"edge2\" class=\"edge\">\n",
              "\n",
              "<path fill=\"none\" stroke=\"black\" d=\"M140.21,-54.67C151.68,-54.81 168.79,-55.04 182.47,-55.21\"/>\n",
              "<polygon fill=\"black\" stroke=\"black\" points=\"187.72,-55.28 182.69,-57.47 185.22,-55.25 182.72,-55.22 182.72,-55.22 182.72,-55.22 185.22,-55.25 182.75,-52.97 187.72,-55.28 187.72,-55.28\"/>\n",
              "<text text-anchor=\"start\" x=\"161\" y=\"-60.3\" font-family=\"Courier,monospace\" font-size=\"9.00\">a</text>\n",
              "</g>\n",
              "<!-- 2 -->\n",
              "<g id=\"node4\" class=\"node\">\n",
              "\n",
              "<path fill=\"none\" stroke=\"black\" d=\"M213.33,-21C213.33,-21 197.67,-21 197.67,-21 194.83,-21 192,-18.17 192,-15.33 192,-15.33 192,-9.67 192,-9.67 192,-6.83 194.83,-4 197.67,-4 197.67,-4 213.33,-4 213.33,-4 216.17,-4 219,-6.83 219,-9.67 219,-9.67 219,-15.33 219,-15.33 219,-18.17 216.17,-21 213.33,-21\"/>\n",
              "<path fill=\"none\" stroke=\"black\" d=\"M214.67,-25C214.67,-25 196.33,-25 196.33,-25 192.17,-25 188,-20.83 188,-16.67 188,-16.67 188,-8.33 188,-8.33 188,-4.17 192.17,0 196.33,0 196.33,0 214.67,0 214.67,0 218.83,0 223,-4.17 223,-8.33 223,-8.33 223,-16.67 223,-16.67 223,-20.83 218.83,-25 214.67,-25\"/>\n",
              "<text text-anchor=\"start\" x=\"196\" y=\"-10\" font-family=\"Courier,monospace\" font-size=\"10.00\">q04</text>\n",
              "</g>\n",
              "<!-- 3 -->\n",
              "<g id=\"node5\" class=\"node\">\n",
              "\n",
              "<path fill=\"none\" stroke=\"black\" d=\"M134.33,-23C134.33,-23 118.67,-23 118.67,-23 115.83,-23 113,-20.17 113,-17.33 113,-17.33 113,-11.67 113,-11.67 113,-8.83 115.83,-6 118.67,-6 118.67,-6 134.33,-6 134.33,-6 137.17,-6 140,-8.83 140,-11.67 140,-11.67 140,-17.33 140,-17.33 140,-20.17 137.17,-23 134.33,-23\"/>\n",
              "<text text-anchor=\"start\" x=\"117\" y=\"-12\" font-family=\"Courier,monospace\" font-size=\"10.00\">q03</text>\n",
              "</g>\n",
              "<!-- 3&#45;&gt;2 -->\n",
              "<g id=\"edge3\" class=\"edge\">\n",
              "\n",
              "<path fill=\"none\" stroke=\"black\" d=\"M140.21,-14.17C151.68,-13.87 168.79,-13.43 182.47,-13.07\"/>\n",
              "<polygon fill=\"black\" stroke=\"black\" points=\"187.72,-12.94 182.78,-15.31 185.22,-13 182.72,-13.07 182.72,-13.07 182.72,-13.07 185.22,-13 182.66,-10.82 187.72,-12.94 187.72,-12.94\"/>\n",
              "<text text-anchor=\"start\" x=\"161\" y=\"-19.3\" font-family=\"Courier,monospace\" font-size=\"9.00\">b</text>\n",
              "</g>\n",
              "<!-- 4&#45;&gt;1 -->\n",
              "<g id=\"edge4\" class=\"edge\">\n",
              "\n",
              "<path fill=\"none\" stroke=\"black\" d=\"M65.22,-37.98C77.04,-41.22 94.78,-46.08 107.95,-49.69\"/>\n",
              "<polygon fill=\"black\" stroke=\"black\" points=\"112.93,-51.06 107.51,-51.9 110.52,-50.4 108.11,-49.73 108.11,-49.73 108.11,-49.73 110.52,-50.4 108.7,-47.56 112.93,-51.06 112.93,-51.06\"/>\n",
              "<text text-anchor=\"start\" x=\"86\" y=\"-51.3\" font-family=\"Courier,monospace\" font-size=\"9.00\">ε</text>\n",
              "</g>\n",
              "<!-- 4&#45;&gt;3 -->\n",
              "<g id=\"edge5\" class=\"edge\">\n",
              "\n",
              "<path fill=\"none\" stroke=\"black\" d=\"M65.08,-28.93C70.51,-26.69 76.99,-24.23 83,-22.5 90.97,-20.2 99.98,-18.4 107.65,-17.09\"/>\n",
              "<polygon fill=\"black\" stroke=\"black\" points=\"112.71,-16.26 108.14,-19.29 110.24,-16.67 107.77,-17.07 107.77,-17.07 107.77,-17.07 110.24,-16.67 107.41,-14.85 112.71,-16.26 112.71,-16.26\"/>\n",
              "<text text-anchor=\"start\" x=\"86\" y=\"-28.3\" font-family=\"Courier,monospace\" font-size=\"9.00\">ε</text>\n",
              "</g>\n",
              "</g>\n",
              "</svg>"
            ],
            "text/plain": [
              "<IPython.core.display.SVG object>"
            ]
          },
          "metadata": {},
          "output_type": "display_data"
        },
        {
          "data": {
            "text/html": [
              "subexpression: (a ∪ b)*"
            ],
            "text/plain": [
              "<IPython.core.display.HTML object>"
            ]
          },
          "metadata": {},
          "output_type": "display_data"
        },
        {
          "data": {
            "image/svg+xml": [
              "<svg xmlns=\"http://www.w3.org/2000/svg\" xmlns:xlink=\"http://www.w3.org/1999/xlink\" width=\"314pt\" height=\"127pt\" viewBox=\"0.00 0.00 314.00 127.46\">\n",
              "<g id=\"graph0\" class=\"graph\" transform=\"scale(1 1) rotate(0) translate(4 123.46)\">\n",
              "\n",
              "<polygon fill=\"white\" stroke=\"transparent\" points=\"-4,4 -4,-123.46 310,-123.46 310,4 -4,4\"/>\n",
              "<!-- _START -->\n",
              "<g id=\"node1\" class=\"node\">\n",
              "\n",
              "</g>\n",
              "<!-- 0 -->\n",
              "<g id=\"node2\" class=\"node\">\n",
              "\n",
              "<path fill=\"none\" stroke=\"black\" d=\"M63.33,-63.96C63.33,-63.96 47.67,-63.96 47.67,-63.96 44.83,-63.96 42,-61.13 42,-58.3 42,-58.3 42,-52.63 42,-52.63 42,-49.8 44.83,-46.96 47.67,-46.96 47.67,-46.96 63.33,-46.96 63.33,-46.96 66.17,-46.96 69,-49.8 69,-52.63 69,-52.63 69,-58.3 69,-58.3 69,-61.13 66.17,-63.96 63.33,-63.96\"/>\n",
              "<path fill=\"none\" stroke=\"black\" d=\"M64.67,-67.96C64.67,-67.96 46.33,-67.96 46.33,-67.96 42.17,-67.96 38,-63.8 38,-59.63 38,-59.63 38,-51.3 38,-51.3 38,-47.13 42.17,-42.96 46.33,-42.96 46.33,-42.96 64.67,-42.96 64.67,-42.96 68.83,-42.96 73,-47.13 73,-51.3 73,-51.3 73,-59.63 73,-59.63 73,-63.8 68.83,-67.96 64.67,-67.96\"/>\n",
              "<text text-anchor=\"start\" x=\"46\" y=\"-52.96\" font-family=\"Courier,monospace\" font-size=\"10.00\">q06</text>\n",
              "</g>\n",
              "<!-- _START&#45;&gt;0 -->\n",
              "<g id=\"edge1\" class=\"edge\">\n",
              "\n",
              "<path fill=\"none\" stroke=\"black\" d=\"M1.15,-55.46C2.88,-55.46 18.83,-55.46 32.84,-55.46\"/>\n",
              "<polygon fill=\"black\" stroke=\"black\" points=\"37.88,-55.46 32.88,-57.71 35.38,-55.46 32.88,-55.46 32.88,-55.46 32.88,-55.46 35.38,-55.46 32.88,-53.21 37.88,-55.46 37.88,-55.46\"/>\n",
              "</g>\n",
              "<!-- 5 -->\n",
              "<g id=\"node7\" class=\"node\">\n",
              "\n",
              "<path fill=\"none\" stroke=\"black\" d=\"M142.33,-63.96C142.33,-63.96 126.67,-63.96 126.67,-63.96 123.83,-63.96 121,-61.13 121,-58.3 121,-58.3 121,-52.63 121,-52.63 121,-49.8 123.83,-46.96 126.67,-46.96 126.67,-46.96 142.33,-46.96 142.33,-46.96 145.17,-46.96 148,-49.8 148,-52.63 148,-52.63 148,-58.3 148,-58.3 148,-61.13 145.17,-63.96 142.33,-63.96\"/>\n",
              "<text text-anchor=\"start\" x=\"125\" y=\"-52.96\" font-family=\"Courier,monospace\" font-size=\"10.00\">q05</text>\n",
              "</g>\n",
              "<!-- 0&#45;&gt;5 -->\n",
              "<g id=\"edge6\" class=\"edge\">\n",
              "\n",
              "<path fill=\"none\" stroke=\"black\" d=\"M73.21,-55.46C85.75,-55.46 102.89,-55.46 115.69,-55.46\"/>\n",
              "<polygon fill=\"black\" stroke=\"black\" points=\"120.88,-55.46 115.88,-57.71 118.38,-55.46 115.88,-55.46 115.88,-55.46 115.88,-55.46 118.38,-55.46 115.88,-53.21 120.88,-55.46 120.88,-55.46\"/>\n",
              "<text text-anchor=\"start\" x=\"94\" y=\"-61.26\" font-family=\"Courier,monospace\" font-size=\"9.00\">ε</text>\n",
              "</g>\n",
              "<!-- 1 -->\n",
              "<g id=\"node3\" class=\"node\">\n",
              "\n",
              "<path fill=\"none\" stroke=\"black\" d=\"M296.33,-94.96C296.33,-94.96 280.67,-94.96 280.67,-94.96 277.83,-94.96 275,-92.13 275,-89.3 275,-89.3 275,-83.63 275,-83.63 275,-80.8 277.83,-77.96 280.67,-77.96 280.67,-77.96 296.33,-77.96 296.33,-77.96 299.17,-77.96 302,-80.8 302,-83.63 302,-83.63 302,-89.3 302,-89.3 302,-92.13 299.17,-94.96 296.33,-94.96\"/>\n",
              "<path fill=\"none\" stroke=\"black\" d=\"M297.67,-98.96C297.67,-98.96 279.33,-98.96 279.33,-98.96 275.17,-98.96 271,-94.8 271,-90.63 271,-90.63 271,-82.3 271,-82.3 271,-78.13 275.17,-73.96 279.33,-73.96 279.33,-73.96 297.67,-73.96 297.67,-73.96 301.83,-73.96 306,-78.13 306,-82.3 306,-82.3 306,-90.63 306,-90.63 306,-94.8 301.83,-98.96 297.67,-98.96\"/>\n",
              "<text text-anchor=\"start\" x=\"279\" y=\"-83.96\" font-family=\"Courier,monospace\" font-size=\"10.00\">q02</text>\n",
              "</g>\n",
              "<!-- 1&#45;&gt;5 -->\n",
              "<g id=\"edge8\" class=\"edge\">\n",
              "\n",
              "<path fill=\"none\" stroke=\"black\" d=\"M270.7,-94.79C265.2,-97.1 258.96,-99.3 253,-100.46 214.49,-107.98 200.37,-104.38 166,-85.46 158.18,-81.16 150.97,-74.28 145.53,-68.19\"/>\n",
              "<polygon fill=\"black\" stroke=\"black\" points=\"142.06,-64.14 147.03,-66.47 143.69,-66.04 145.32,-67.94 145.32,-67.94 145.32,-67.94 143.69,-66.04 143.61,-69.4 142.06,-64.14 142.06,-64.14\"/>\n",
              "<text text-anchor=\"start\" x=\"206.5\" y=\"-109.26\" font-family=\"Courier,monospace\" font-size=\"9.00\">ε</text>\n",
              "</g>\n",
              "<!-- 2 -->\n",
              "<g id=\"node4\" class=\"node\">\n",
              "\n",
              "<path fill=\"none\" stroke=\"black\" d=\"M217.33,-82.96C217.33,-82.96 201.67,-82.96 201.67,-82.96 198.83,-82.96 196,-80.13 196,-77.3 196,-77.3 196,-71.63 196,-71.63 196,-68.8 198.83,-65.96 201.67,-65.96 201.67,-65.96 217.33,-65.96 217.33,-65.96 220.17,-65.96 223,-68.8 223,-71.63 223,-71.63 223,-77.3 223,-77.3 223,-80.13 220.17,-82.96 217.33,-82.96\"/>\n",
              "<text text-anchor=\"start\" x=\"200\" y=\"-71.96\" font-family=\"Courier,monospace\" font-size=\"10.00\">q01</text>\n",
              "</g>\n",
              "<!-- 2&#45;&gt;1 -->\n",
              "<g id=\"edge2\" class=\"edge\">\n",
              "\n",
              "<path fill=\"none\" stroke=\"black\" d=\"M223.21,-76.44C234.68,-78.23 251.79,-80.9 265.47,-83.03\"/>\n",
              "<polygon fill=\"black\" stroke=\"black\" points=\"270.72,-83.85 265.43,-85.3 268.25,-83.46 265.78,-83.08 265.78,-83.08 265.78,-83.08 268.25,-83.46 266.13,-80.85 270.72,-83.85 270.72,-83.85\"/>\n",
              "<text text-anchor=\"start\" x=\"244\" y=\"-86.26\" font-family=\"Courier,monospace\" font-size=\"9.00\">a</text>\n",
              "</g>\n",
              "<!-- 3 -->\n",
              "<g id=\"node5\" class=\"node\">\n",
              "\n",
              "<path fill=\"none\" stroke=\"black\" d=\"M296.33,-33.96C296.33,-33.96 280.67,-33.96 280.67,-33.96 277.83,-33.96 275,-31.13 275,-28.3 275,-28.3 275,-22.63 275,-22.63 275,-19.8 277.83,-16.96 280.67,-16.96 280.67,-16.96 296.33,-16.96 296.33,-16.96 299.17,-16.96 302,-19.8 302,-22.63 302,-22.63 302,-28.3 302,-28.3 302,-31.13 299.17,-33.96 296.33,-33.96\"/>\n",
              "<path fill=\"none\" stroke=\"black\" d=\"M297.67,-37.96C297.67,-37.96 279.33,-37.96 279.33,-37.96 275.17,-37.96 271,-33.8 271,-29.63 271,-29.63 271,-21.3 271,-21.3 271,-17.13 275.17,-12.96 279.33,-12.96 279.33,-12.96 297.67,-12.96 297.67,-12.96 301.83,-12.96 306,-17.13 306,-21.3 306,-21.3 306,-29.63 306,-29.63 306,-33.8 301.83,-37.96 297.67,-37.96\"/>\n",
              "<text text-anchor=\"start\" x=\"279\" y=\"-22.96\" font-family=\"Courier,monospace\" font-size=\"10.00\">q04</text>\n",
              "</g>\n",
              "<!-- 3&#45;&gt;5 -->\n",
              "<g id=\"edge7\" class=\"edge\">\n",
              "\n",
              "<path fill=\"none\" stroke=\"black\" d=\"M270.95,-15.72C252.35,-6.08 221.43,5.96 196,-3.46 175,-11.25 156.39,-29.95 145.53,-42.67\"/>\n",
              "<polygon fill=\"black\" stroke=\"black\" points=\"142.15,-46.73 143.62,-41.44 143.75,-44.8 145.35,-42.88 145.35,-42.88 145.35,-42.88 143.75,-44.8 147.08,-44.32 142.15,-46.73 142.15,-46.73\"/>\n",
              "<text text-anchor=\"start\" x=\"206.5\" y=\"-9.26\" font-family=\"Courier,monospace\" font-size=\"9.00\">ε</text>\n",
              "</g>\n",
              "<!-- 4 -->\n",
              "<g id=\"node6\" class=\"node\">\n",
              "\n",
              "<path fill=\"none\" stroke=\"black\" d=\"M217.33,-45.96C217.33,-45.96 201.67,-45.96 201.67,-45.96 198.83,-45.96 196,-43.13 196,-40.3 196,-40.3 196,-34.63 196,-34.63 196,-31.8 198.83,-28.96 201.67,-28.96 201.67,-28.96 217.33,-28.96 217.33,-28.96 220.17,-28.96 223,-31.8 223,-34.63 223,-34.63 223,-40.3 223,-40.3 223,-43.13 220.17,-45.96 217.33,-45.96\"/>\n",
              "<text text-anchor=\"start\" x=\"200\" y=\"-34.96\" font-family=\"Courier,monospace\" font-size=\"10.00\">q03</text>\n",
              "</g>\n",
              "<!-- 4&#45;&gt;3 -->\n",
              "<g id=\"edge3\" class=\"edge\">\n",
              "\n",
              "<path fill=\"none\" stroke=\"black\" d=\"M223.21,-35.48C234.68,-33.69 251.79,-31.03 265.47,-28.89\"/>\n",
              "<polygon fill=\"black\" stroke=\"black\" points=\"270.72,-28.08 266.13,-31.07 268.25,-28.46 265.78,-28.85 265.78,-28.85 265.78,-28.85 268.25,-28.46 265.43,-26.62 270.72,-28.08 270.72,-28.08\"/>\n",
              "<text text-anchor=\"start\" x=\"244\" y=\"-39.26\" font-family=\"Courier,monospace\" font-size=\"9.00\">b</text>\n",
              "</g>\n",
              "<!-- 5&#45;&gt;2 -->\n",
              "<g id=\"edge4\" class=\"edge\">\n",
              "\n",
              "<path fill=\"none\" stroke=\"black\" d=\"M148.22,-58.77C160.04,-61.85 177.78,-66.47 190.95,-69.89\"/>\n",
              "<polygon fill=\"black\" stroke=\"black\" points=\"195.93,-71.19 190.52,-72.11 193.51,-70.56 191.09,-69.93 191.09,-69.93 191.09,-69.93 193.51,-70.56 191.66,-67.75 195.93,-71.19 195.93,-71.19\"/>\n",
              "<text text-anchor=\"start\" x=\"169\" y=\"-71.26\" font-family=\"Courier,monospace\" font-size=\"9.00\">ε</text>\n",
              "</g>\n",
              "<!-- 5&#45;&gt;4 -->\n",
              "<g id=\"edge5\" class=\"edge\">\n",
              "\n",
              "<path fill=\"none\" stroke=\"black\" d=\"M146.72,-46.89C152.21,-43.21 159.12,-39.34 166,-37.46 173.98,-35.28 183.12,-35.01 190.88,-35.4\"/>\n",
              "<polygon fill=\"black\" stroke=\"black\" points=\"196,-35.75 190.85,-37.65 193.5,-35.58 191.01,-35.41 191.01,-35.41 191.01,-35.41 193.5,-35.58 191.16,-33.16 196,-35.75 196,-35.75\"/>\n",
              "<text text-anchor=\"start\" x=\"169\" y=\"-43.26\" font-family=\"Courier,monospace\" font-size=\"9.00\">ε</text>\n",
              "</g>\n",
              "</g>\n",
              "</svg>"
            ],
            "text/plain": [
              "<IPython.core.display.SVG object>"
            ]
          },
          "metadata": {},
          "output_type": "display_data"
        },
        {
          "data": {
            "text/html": [
              "subexpression: a"
            ],
            "text/plain": [
              "<IPython.core.display.HTML object>"
            ]
          },
          "metadata": {},
          "output_type": "display_data"
        },
        {
          "data": {
            "image/svg+xml": [
              "<svg xmlns=\"http://www.w3.org/2000/svg\" xmlns:xlink=\"http://www.w3.org/1999/xlink\" width=\"156pt\" height=\"37pt\" viewBox=\"0.00 0.00 156.00 36.50\">\n",
              "<g id=\"graph0\" class=\"graph\" transform=\"scale(1 1) rotate(0) translate(4 32.5)\">\n",
              "\n",
              "<polygon fill=\"white\" stroke=\"transparent\" points=\"-4,4 -4,-32.5 152,-32.5 152,4 -4,4\"/>\n",
              "<!-- _START -->\n",
              "<g id=\"node1\" class=\"node\">\n",
              "\n",
              "</g>\n",
              "<!-- 0 -->\n",
              "<g id=\"node2\" class=\"node\">\n",
              "\n",
              "<path fill=\"none\" stroke=\"black\" d=\"M59.33,-21C59.33,-21 43.67,-21 43.67,-21 40.83,-21 38,-18.17 38,-15.33 38,-15.33 38,-9.67 38,-9.67 38,-6.83 40.83,-4 43.67,-4 43.67,-4 59.33,-4 59.33,-4 62.17,-4 65,-6.83 65,-9.67 65,-9.67 65,-15.33 65,-15.33 65,-18.17 62.17,-21 59.33,-21\"/>\n",
              "<text text-anchor=\"start\" x=\"42\" y=\"-10\" font-family=\"Courier,monospace\" font-size=\"10.00\">q07</text>\n",
              "</g>\n",
              "<!-- _START&#45;&gt;0 -->\n",
              "<g id=\"edge1\" class=\"edge\">\n",
              "\n",
              "<path fill=\"none\" stroke=\"black\" d=\"M1.14,-12.5C2.82,-12.5 19.12,-12.5 32.54,-12.5\"/>\n",
              "<polygon fill=\"black\" stroke=\"black\" points=\"37.69,-12.5 32.69,-14.75 35.19,-12.5 32.69,-12.5 32.69,-12.5 32.69,-12.5 35.19,-12.5 32.69,-10.25 37.69,-12.5 37.69,-12.5\"/>\n",
              "</g>\n",
              "<!-- 1 -->\n",
              "<g id=\"node3\" class=\"node\">\n",
              "\n",
              "<path fill=\"none\" stroke=\"black\" d=\"M138.33,-21C138.33,-21 122.67,-21 122.67,-21 119.83,-21 117,-18.17 117,-15.33 117,-15.33 117,-9.67 117,-9.67 117,-6.83 119.83,-4 122.67,-4 122.67,-4 138.33,-4 138.33,-4 141.17,-4 144,-6.83 144,-9.67 144,-9.67 144,-15.33 144,-15.33 144,-18.17 141.17,-21 138.33,-21\"/>\n",
              "<path fill=\"none\" stroke=\"black\" d=\"M139.67,-25C139.67,-25 121.33,-25 121.33,-25 117.17,-25 113,-20.83 113,-16.67 113,-16.67 113,-8.33 113,-8.33 113,-4.17 117.17,0 121.33,0 121.33,0 139.67,0 139.67,0 143.83,0 148,-4.17 148,-8.33 148,-8.33 148,-16.67 148,-16.67 148,-20.83 143.83,-25 139.67,-25\"/>\n",
              "<text text-anchor=\"start\" x=\"121\" y=\"-10\" font-family=\"Courier,monospace\" font-size=\"10.00\">q08</text>\n",
              "</g>\n",
              "<!-- 0&#45;&gt;1 -->\n",
              "<g id=\"edge2\" class=\"edge\">\n",
              "\n",
              "<path fill=\"none\" stroke=\"black\" d=\"M65.21,-12.5C76.68,-12.5 93.79,-12.5 107.47,-12.5\"/>\n",
              "<polygon fill=\"black\" stroke=\"black\" points=\"112.72,-12.5 107.72,-14.75 110.22,-12.5 107.72,-12.5 107.72,-12.5 107.72,-12.5 110.22,-12.5 107.72,-10.25 112.72,-12.5 112.72,-12.5\"/>\n",
              "<text text-anchor=\"start\" x=\"86\" y=\"-18.3\" font-family=\"Courier,monospace\" font-size=\"9.00\">a</text>\n",
              "</g>\n",
              "</g>\n",
              "</svg>"
            ],
            "text/plain": [
              "<IPython.core.display.SVG object>"
            ]
          },
          "metadata": {},
          "output_type": "display_data"
        },
        {
          "data": {
            "text/html": [
              "subexpression: b"
            ],
            "text/plain": [
              "<IPython.core.display.HTML object>"
            ]
          },
          "metadata": {},
          "output_type": "display_data"
        },
        {
          "data": {
            "image/svg+xml": [
              "<svg xmlns=\"http://www.w3.org/2000/svg\" xmlns:xlink=\"http://www.w3.org/1999/xlink\" width=\"156pt\" height=\"37pt\" viewBox=\"0.00 0.00 156.00 36.50\">\n",
              "<g id=\"graph0\" class=\"graph\" transform=\"scale(1 1) rotate(0) translate(4 32.5)\">\n",
              "\n",
              "<polygon fill=\"white\" stroke=\"transparent\" points=\"-4,4 -4,-32.5 152,-32.5 152,4 -4,4\"/>\n",
              "<!-- _START -->\n",
              "<g id=\"node1\" class=\"node\">\n",
              "\n",
              "</g>\n",
              "<!-- 0 -->\n",
              "<g id=\"node2\" class=\"node\">\n",
              "\n",
              "<path fill=\"none\" stroke=\"black\" d=\"M59.33,-21C59.33,-21 43.67,-21 43.67,-21 40.83,-21 38,-18.17 38,-15.33 38,-15.33 38,-9.67 38,-9.67 38,-6.83 40.83,-4 43.67,-4 43.67,-4 59.33,-4 59.33,-4 62.17,-4 65,-6.83 65,-9.67 65,-9.67 65,-15.33 65,-15.33 65,-18.17 62.17,-21 59.33,-21\"/>\n",
              "<text text-anchor=\"start\" x=\"42\" y=\"-10\" font-family=\"Courier,monospace\" font-size=\"10.00\">q09</text>\n",
              "</g>\n",
              "<!-- _START&#45;&gt;0 -->\n",
              "<g id=\"edge1\" class=\"edge\">\n",
              "\n",
              "<path fill=\"none\" stroke=\"black\" d=\"M1.14,-12.5C2.82,-12.5 19.12,-12.5 32.54,-12.5\"/>\n",
              "<polygon fill=\"black\" stroke=\"black\" points=\"37.69,-12.5 32.69,-14.75 35.19,-12.5 32.69,-12.5 32.69,-12.5 32.69,-12.5 35.19,-12.5 32.69,-10.25 37.69,-12.5 37.69,-12.5\"/>\n",
              "</g>\n",
              "<!-- 1 -->\n",
              "<g id=\"node3\" class=\"node\">\n",
              "\n",
              "<path fill=\"none\" stroke=\"black\" d=\"M138.33,-21C138.33,-21 122.67,-21 122.67,-21 119.83,-21 117,-18.17 117,-15.33 117,-15.33 117,-9.67 117,-9.67 117,-6.83 119.83,-4 122.67,-4 122.67,-4 138.33,-4 138.33,-4 141.17,-4 144,-6.83 144,-9.67 144,-9.67 144,-15.33 144,-15.33 144,-18.17 141.17,-21 138.33,-21\"/>\n",
              "<path fill=\"none\" stroke=\"black\" d=\"M139.67,-25C139.67,-25 121.33,-25 121.33,-25 117.17,-25 113,-20.83 113,-16.67 113,-16.67 113,-8.33 113,-8.33 113,-4.17 117.17,0 121.33,0 121.33,0 139.67,0 139.67,0 143.83,0 148,-4.17 148,-8.33 148,-8.33 148,-16.67 148,-16.67 148,-20.83 143.83,-25 139.67,-25\"/>\n",
              "<text text-anchor=\"start\" x=\"121\" y=\"-10\" font-family=\"Courier,monospace\" font-size=\"10.00\">q10</text>\n",
              "</g>\n",
              "<!-- 0&#45;&gt;1 -->\n",
              "<g id=\"edge2\" class=\"edge\">\n",
              "\n",
              "<path fill=\"none\" stroke=\"black\" d=\"M65.21,-12.5C76.68,-12.5 93.79,-12.5 107.47,-12.5\"/>\n",
              "<polygon fill=\"black\" stroke=\"black\" points=\"112.72,-12.5 107.72,-14.75 110.22,-12.5 107.72,-12.5 107.72,-12.5 107.72,-12.5 110.22,-12.5 107.72,-10.25 112.72,-12.5 112.72,-12.5\"/>\n",
              "<text text-anchor=\"start\" x=\"86\" y=\"-18.3\" font-family=\"Courier,monospace\" font-size=\"9.00\">b</text>\n",
              "</g>\n",
              "</g>\n",
              "</svg>"
            ],
            "text/plain": [
              "<IPython.core.display.SVG object>"
            ]
          },
          "metadata": {},
          "output_type": "display_data"
        },
        {
          "data": {
            "text/html": [
              "subexpression: a"
            ],
            "text/plain": [
              "<IPython.core.display.HTML object>"
            ]
          },
          "metadata": {},
          "output_type": "display_data"
        },
        {
          "data": {
            "image/svg+xml": [
              "<svg xmlns=\"http://www.w3.org/2000/svg\" xmlns:xlink=\"http://www.w3.org/1999/xlink\" width=\"156pt\" height=\"37pt\" viewBox=\"0.00 0.00 156.00 36.50\">\n",
              "<g id=\"graph0\" class=\"graph\" transform=\"scale(1 1) rotate(0) translate(4 32.5)\">\n",
              "\n",
              "<polygon fill=\"white\" stroke=\"transparent\" points=\"-4,4 -4,-32.5 152,-32.5 152,4 -4,4\"/>\n",
              "<!-- _START -->\n",
              "<g id=\"node1\" class=\"node\">\n",
              "\n",
              "</g>\n",
              "<!-- 1 -->\n",
              "<g id=\"node3\" class=\"node\">\n",
              "\n",
              "<path fill=\"none\" stroke=\"black\" d=\"M59.33,-21C59.33,-21 43.67,-21 43.67,-21 40.83,-21 38,-18.17 38,-15.33 38,-15.33 38,-9.67 38,-9.67 38,-6.83 40.83,-4 43.67,-4 43.67,-4 59.33,-4 59.33,-4 62.17,-4 65,-6.83 65,-9.67 65,-9.67 65,-15.33 65,-15.33 65,-18.17 62.17,-21 59.33,-21\"/>\n",
              "<text text-anchor=\"start\" x=\"42\" y=\"-10\" font-family=\"Courier,monospace\" font-size=\"10.00\">q11</text>\n",
              "</g>\n",
              "<!-- _START&#45;&gt;1 -->\n",
              "<g id=\"edge1\" class=\"edge\">\n",
              "\n",
              "<path fill=\"none\" stroke=\"black\" d=\"M1.14,-12.5C2.82,-12.5 19.12,-12.5 32.54,-12.5\"/>\n",
              "<polygon fill=\"black\" stroke=\"black\" points=\"37.69,-12.5 32.69,-14.75 35.19,-12.5 32.69,-12.5 32.69,-12.5 32.69,-12.5 35.19,-12.5 32.69,-10.25 37.69,-12.5 37.69,-12.5\"/>\n",
              "</g>\n",
              "<!-- 0 -->\n",
              "<g id=\"node2\" class=\"node\">\n",
              "\n",
              "<path fill=\"none\" stroke=\"black\" d=\"M138.33,-21C138.33,-21 122.67,-21 122.67,-21 119.83,-21 117,-18.17 117,-15.33 117,-15.33 117,-9.67 117,-9.67 117,-6.83 119.83,-4 122.67,-4 122.67,-4 138.33,-4 138.33,-4 141.17,-4 144,-6.83 144,-9.67 144,-9.67 144,-15.33 144,-15.33 144,-18.17 141.17,-21 138.33,-21\"/>\n",
              "<path fill=\"none\" stroke=\"black\" d=\"M139.67,-25C139.67,-25 121.33,-25 121.33,-25 117.17,-25 113,-20.83 113,-16.67 113,-16.67 113,-8.33 113,-8.33 113,-4.17 117.17,0 121.33,0 121.33,0 139.67,0 139.67,0 143.83,0 148,-4.17 148,-8.33 148,-8.33 148,-16.67 148,-16.67 148,-20.83 143.83,-25 139.67,-25\"/>\n",
              "<text text-anchor=\"start\" x=\"121\" y=\"-10\" font-family=\"Courier,monospace\" font-size=\"10.00\">q12</text>\n",
              "</g>\n",
              "<!-- 1&#45;&gt;0 -->\n",
              "<g id=\"edge2\" class=\"edge\">\n",
              "\n",
              "<path fill=\"none\" stroke=\"black\" d=\"M65.21,-12.5C76.68,-12.5 93.79,-12.5 107.47,-12.5\"/>\n",
              "<polygon fill=\"black\" stroke=\"black\" points=\"112.72,-12.5 107.72,-14.75 110.22,-12.5 107.72,-12.5 107.72,-12.5 107.72,-12.5 110.22,-12.5 107.72,-10.25 112.72,-12.5 112.72,-12.5\"/>\n",
              "<text text-anchor=\"start\" x=\"86\" y=\"-18.3\" font-family=\"Courier,monospace\" font-size=\"9.00\">a</text>\n",
              "</g>\n",
              "</g>\n",
              "</svg>"
            ],
            "text/plain": [
              "<IPython.core.display.SVG object>"
            ]
          },
          "metadata": {},
          "output_type": "display_data"
        },
        {
          "data": {
            "text/html": [
              "subexpression: (a ∪ b)* a b a"
            ],
            "text/plain": [
              "<IPython.core.display.HTML object>"
            ]
          },
          "metadata": {},
          "output_type": "display_data"
        },
        {
          "data": {
            "image/svg+xml": [
              "<svg xmlns=\"http://www.w3.org/2000/svg\" xmlns:xlink=\"http://www.w3.org/1999/xlink\" width=\"756pt\" height=\"179pt\" viewBox=\"0.00 0.00 756.00 179.00\">\n",
              "<g id=\"graph0\" class=\"graph\" transform=\"scale(1 1) rotate(0) translate(4 175)\">\n",
              "\n",
              "<polygon fill=\"white\" stroke=\"transparent\" points=\"-4,4 -4,-175 752,-175 752,4 -4,4\"/>\n",
              "<!-- _START -->\n",
              "<g id=\"node1\" class=\"node\">\n",
              "\n",
              "</g>\n",
              "<!-- 0 -->\n",
              "<g id=\"node2\" class=\"node\">\n",
              "\n",
              "<path fill=\"none\" stroke=\"black\" d=\"M59.33,-24.5C59.33,-24.5 43.67,-24.5 43.67,-24.5 40.83,-24.5 38,-21.67 38,-18.83 38,-18.83 38,-13.17 38,-13.17 38,-10.33 40.83,-7.5 43.67,-7.5 43.67,-7.5 59.33,-7.5 59.33,-7.5 62.17,-7.5 65,-10.33 65,-13.17 65,-13.17 65,-18.83 65,-18.83 65,-21.67 62.17,-24.5 59.33,-24.5\"/>\n",
              "<text text-anchor=\"start\" x=\"42\" y=\"-13.5\" font-family=\"Courier,monospace\" font-size=\"10.00\">q06</text>\n",
              "</g>\n",
              "<!-- _START&#45;&gt;0 -->\n",
              "<g id=\"edge1\" class=\"edge\">\n",
              "\n",
              "<path fill=\"none\" stroke=\"black\" d=\"M1.14,-16C2.82,-16 19.12,-16 32.54,-16\"/>\n",
              "<polygon fill=\"black\" stroke=\"black\" points=\"37.69,-16 32.69,-18.25 35.19,-16 32.69,-16 32.69,-16 32.69,-16 35.19,-16 32.69,-13.75 37.69,-16 37.69,-16\"/>\n",
              "</g>\n",
              "<!-- 5 -->\n",
              "<g id=\"node7\" class=\"node\">\n",
              "\n",
              "<path fill=\"none\" stroke=\"black\" d=\"M134.33,-96.5C134.33,-96.5 118.67,-96.5 118.67,-96.5 115.83,-96.5 113,-93.67 113,-90.83 113,-90.83 113,-85.17 113,-85.17 113,-82.33 115.83,-79.5 118.67,-79.5 118.67,-79.5 134.33,-79.5 134.33,-79.5 137.17,-79.5 140,-82.33 140,-85.17 140,-85.17 140,-90.83 140,-90.83 140,-93.67 137.17,-96.5 134.33,-96.5\"/>\n",
              "<text text-anchor=\"start\" x=\"117\" y=\"-85.5\" font-family=\"Courier,monospace\" font-size=\"10.00\">q05</text>\n",
              "</g>\n",
              "<!-- 0&#45;&gt;5 -->\n",
              "<g id=\"edge6\" class=\"edge\">\n",
              "\n",
              "<path fill=\"none\" stroke=\"black\" d=\"M61.16,-24.54C74,-37.21 98.16,-61.04 112.95,-75.62\"/>\n",
              "<polygon fill=\"black\" stroke=\"black\" points=\"116.85,-79.47 111.71,-77.56 115.07,-77.71 113.29,-75.96 113.29,-75.96 113.29,-75.96 115.07,-77.71 114.87,-74.36 116.85,-79.47 116.85,-79.47\"/>\n",
              "<text text-anchor=\"start\" x=\"86\" y=\"-61.8\" font-family=\"Courier,monospace\" font-size=\"9.00\">ε</text>\n",
              "</g>\n",
              "<!-- 6 -->\n",
              "<g id=\"node8\" class=\"node\">\n",
              "\n",
              "<path fill=\"none\" stroke=\"black\" d=\"M359.33,-74.5C359.33,-74.5 343.67,-74.5 343.67,-74.5 340.83,-74.5 338,-71.67 338,-68.83 338,-68.83 338,-63.17 338,-63.17 338,-60.33 340.83,-57.5 343.67,-57.5 343.67,-57.5 359.33,-57.5 359.33,-57.5 362.17,-57.5 365,-60.33 365,-63.17 365,-63.17 365,-68.83 365,-68.83 365,-71.67 362.17,-74.5 359.33,-74.5\"/>\n",
              "<text text-anchor=\"start\" x=\"342\" y=\"-63.5\" font-family=\"Courier,monospace\" font-size=\"10.00\">q07</text>\n",
              "</g>\n",
              "<!-- 0&#45;&gt;6 -->\n",
              "<g id=\"edge7\" class=\"edge\">\n",
              "\n",
              "<path fill=\"none\" stroke=\"black\" d=\"M65.24,-11.46C79.66,-6.73 103.96,0 125.5,0 125.5,0 125.5,0 277.5,0 308.69,0 332.51,-33.55 343.62,-52.81\"/>\n",
              "<polygon fill=\"black\" stroke=\"black\" points=\"346.17,-57.37 341.76,-54.1 344.95,-55.19 343.73,-53.01 343.73,-53.01 343.73,-53.01 344.95,-55.19 345.69,-51.91 346.17,-57.37 346.17,-57.37\"/>\n",
              "<text text-anchor=\"start\" x=\"198.5\" y=\"-5.8\" font-family=\"Courier,monospace\" font-size=\"9.00\">ε</text>\n",
              "</g>\n",
              "<!-- 1 -->\n",
              "<g id=\"node3\" class=\"node\">\n",
              "\n",
              "<path fill=\"none\" stroke=\"black\" d=\"M209.33,-51.5C209.33,-51.5 193.67,-51.5 193.67,-51.5 190.83,-51.5 188,-48.67 188,-45.83 188,-45.83 188,-40.17 188,-40.17 188,-37.33 190.83,-34.5 193.67,-34.5 193.67,-34.5 209.33,-34.5 209.33,-34.5 212.17,-34.5 215,-37.33 215,-40.17 215,-40.17 215,-45.83 215,-45.83 215,-48.67 212.17,-51.5 209.33,-51.5\"/>\n",
              "<text text-anchor=\"start\" x=\"192\" y=\"-40.5\" font-family=\"Courier,monospace\" font-size=\"10.00\">q01</text>\n",
              "</g>\n",
              "<!-- 2 -->\n",
              "<g id=\"node4\" class=\"node\">\n",
              "\n",
              "<path fill=\"none\" stroke=\"black\" d=\"M284.33,-74.5C284.33,-74.5 268.67,-74.5 268.67,-74.5 265.83,-74.5 263,-71.67 263,-68.83 263,-68.83 263,-63.17 263,-63.17 263,-60.33 265.83,-57.5 268.67,-57.5 268.67,-57.5 284.33,-57.5 284.33,-57.5 287.17,-57.5 290,-60.33 290,-63.17 290,-63.17 290,-68.83 290,-68.83 290,-71.67 287.17,-74.5 284.33,-74.5\"/>\n",
              "<text text-anchor=\"start\" x=\"267\" y=\"-63.5\" font-family=\"Courier,monospace\" font-size=\"10.00\">q02</text>\n",
              "</g>\n",
              "<!-- 1&#45;&gt;2 -->\n",
              "<g id=\"edge2\" class=\"edge\">\n",
              "\n",
              "<path fill=\"none\" stroke=\"black\" d=\"M215.22,-47.01C227.04,-50.73 244.78,-56.32 257.95,-60.47\"/>\n",
              "<polygon fill=\"black\" stroke=\"black\" points=\"262.93,-62.04 257.49,-62.68 260.55,-61.29 258.16,-60.54 258.16,-60.54 258.16,-60.54 260.55,-61.29 258.84,-58.39 262.93,-62.04 262.93,-62.04\"/>\n",
              "<text text-anchor=\"start\" x=\"236\" y=\"-60.8\" font-family=\"Courier,monospace\" font-size=\"9.00\">a</text>\n",
              "</g>\n",
              "<!-- 2&#45;&gt;5 -->\n",
              "<g id=\"edge10\" class=\"edge\">\n",
              "\n",
              "<path fill=\"none\" stroke=\"black\" d=\"M262.83,-69.74C257.38,-71.24 250.92,-72.88 245,-74 210.06,-80.63 168.64,-84.7 145.49,-86.63\"/>\n",
              "<polygon fill=\"black\" stroke=\"black\" points=\"140.28,-87.06 145.08,-84.41 142.77,-86.85 145.26,-86.65 145.26,-86.65 145.26,-86.65 142.77,-86.85 145.45,-88.89 140.28,-87.06 140.28,-87.06\"/>\n",
              "<text text-anchor=\"start\" x=\"198.5\" y=\"-87.8\" font-family=\"Courier,monospace\" font-size=\"9.00\">ε</text>\n",
              "</g>\n",
              "<!-- 2&#45;&gt;6 -->\n",
              "<g id=\"edge11\" class=\"edge\">\n",
              "\n",
              "<path fill=\"none\" stroke=\"black\" d=\"M290.22,-66C301.94,-66 319.46,-66 332.6,-66\"/>\n",
              "<polygon fill=\"black\" stroke=\"black\" points=\"337.93,-66 332.93,-68.25 335.43,-66 332.93,-66 332.93,-66 332.93,-66 335.43,-66 332.93,-63.75 337.93,-66 337.93,-66\"/>\n",
              "<text text-anchor=\"start\" x=\"311\" y=\"-71.8\" font-family=\"Courier,monospace\" font-size=\"9.00\">ε</text>\n",
              "</g>\n",
              "<!-- 3 -->\n",
              "<g id=\"node5\" class=\"node\">\n",
              "\n",
              "<path fill=\"none\" stroke=\"black\" d=\"M209.33,-139.5C209.33,-139.5 193.67,-139.5 193.67,-139.5 190.83,-139.5 188,-136.67 188,-133.83 188,-133.83 188,-128.17 188,-128.17 188,-125.33 190.83,-122.5 193.67,-122.5 193.67,-122.5 209.33,-122.5 209.33,-122.5 212.17,-122.5 215,-125.33 215,-128.17 215,-128.17 215,-133.83 215,-133.83 215,-136.67 212.17,-139.5 209.33,-139.5\"/>\n",
              "<text text-anchor=\"start\" x=\"192\" y=\"-128.5\" font-family=\"Courier,monospace\" font-size=\"10.00\">q03</text>\n",
              "</g>\n",
              "<!-- 4 -->\n",
              "<g id=\"node6\" class=\"node\">\n",
              "\n",
              "<path fill=\"none\" stroke=\"black\" d=\"M284.33,-139.5C284.33,-139.5 268.67,-139.5 268.67,-139.5 265.83,-139.5 263,-136.67 263,-133.83 263,-133.83 263,-128.17 263,-128.17 263,-125.33 265.83,-122.5 268.67,-122.5 268.67,-122.5 284.33,-122.5 284.33,-122.5 287.17,-122.5 290,-125.33 290,-128.17 290,-128.17 290,-133.83 290,-133.83 290,-136.67 287.17,-139.5 284.33,-139.5\"/>\n",
              "<text text-anchor=\"start\" x=\"267\" y=\"-128.5\" font-family=\"Courier,monospace\" font-size=\"10.00\">q04</text>\n",
              "</g>\n",
              "<!-- 3&#45;&gt;4 -->\n",
              "<g id=\"edge3\" class=\"edge\">\n",
              "\n",
              "<path fill=\"none\" stroke=\"black\" d=\"M215.22,-131C226.94,-131 244.46,-131 257.6,-131\"/>\n",
              "<polygon fill=\"black\" stroke=\"black\" points=\"262.93,-131 257.93,-133.25 260.43,-131 257.93,-131 257.93,-131 257.93,-131 260.43,-131 257.93,-128.75 262.93,-131 262.93,-131\"/>\n",
              "<text text-anchor=\"start\" x=\"236\" y=\"-136.8\" font-family=\"Courier,monospace\" font-size=\"9.00\">b</text>\n",
              "</g>\n",
              "<!-- 4&#45;&gt;5 -->\n",
              "<g id=\"edge8\" class=\"edge\">\n",
              "\n",
              "<path fill=\"none\" stroke=\"black\" d=\"M265.54,-139.68C259.91,-143.99 252.52,-148.75 245,-151 220.71,-158.25 212.36,-156 188,-149 173.27,-144.77 169.32,-142.33 158,-132 148.3,-123.14 140.01,-110.65 134.53,-101.24\"/>\n",
              "<polygon fill=\"black\" stroke=\"black\" points=\"131.93,-96.63 136.35,-99.88 133.16,-98.81 134.39,-100.99 134.39,-100.99 134.39,-100.99 133.16,-98.81 132.43,-102.09 131.93,-96.63 131.93,-96.63\"/>\n",
              "<text text-anchor=\"start\" x=\"198.5\" y=\"-160.8\" font-family=\"Courier,monospace\" font-size=\"9.00\">ε</text>\n",
              "</g>\n",
              "<!-- 4&#45;&gt;6 -->\n",
              "<g id=\"edge9\" class=\"edge\">\n",
              "\n",
              "<path fill=\"none\" stroke=\"black\" d=\"M287.35,-122.23C300.15,-110.83 322.58,-90.86 336.98,-78.04\"/>\n",
              "<polygon fill=\"black\" stroke=\"black\" points=\"340.81,-74.63 338.57,-79.63 338.94,-76.29 337.08,-77.95 337.08,-77.95 337.08,-77.95 338.94,-76.29 335.58,-76.27 340.81,-74.63 340.81,-74.63\"/>\n",
              "<text text-anchor=\"start\" x=\"311\" y=\"-107.8\" font-family=\"Courier,monospace\" font-size=\"9.00\">ε</text>\n",
              "</g>\n",
              "<!-- 5&#45;&gt;1 -->\n",
              "<g id=\"edge4\" class=\"edge\">\n",
              "\n",
              "<path fill=\"none\" stroke=\"black\" d=\"M134.46,-79.32C140.18,-72.69 148.8,-63.74 158,-58 165.55,-53.29 174.78,-49.8 182.71,-47.38\"/>\n",
              "<polygon fill=\"black\" stroke=\"black\" points=\"187.95,-45.87 183.77,-49.42 185.55,-46.56 183.15,-47.25 183.15,-47.25 183.15,-47.25 185.55,-46.56 182.53,-45.09 187.95,-45.87 187.95,-45.87\"/>\n",
              "<text text-anchor=\"start\" x=\"161\" y=\"-63.8\" font-family=\"Courier,monospace\" font-size=\"9.00\">ε</text>\n",
              "</g>\n",
              "<!-- 5&#45;&gt;3 -->\n",
              "<g id=\"edge5\" class=\"edge\">\n",
              "\n",
              "<path fill=\"none\" stroke=\"black\" d=\"M140.22,-95.49C152.15,-102.52 170.09,-113.09 183.3,-120.87\"/>\n",
              "<polygon fill=\"black\" stroke=\"black\" points=\"187.93,-123.6 182.48,-123 185.78,-122.33 183.62,-121.06 183.62,-121.06 183.62,-121.06 185.78,-122.33 184.76,-119.12 187.93,-123.6 187.93,-123.6\"/>\n",
              "<text text-anchor=\"start\" x=\"161\" y=\"-117.8\" font-family=\"Courier,monospace\" font-size=\"9.00\">ε</text>\n",
              "</g>\n",
              "<!-- 7 -->\n",
              "<g id=\"node9\" class=\"node\">\n",
              "\n",
              "<path fill=\"none\" stroke=\"black\" d=\"M434.33,-74.5C434.33,-74.5 418.67,-74.5 418.67,-74.5 415.83,-74.5 413,-71.67 413,-68.83 413,-68.83 413,-63.17 413,-63.17 413,-60.33 415.83,-57.5 418.67,-57.5 418.67,-57.5 434.33,-57.5 434.33,-57.5 437.17,-57.5 440,-60.33 440,-63.17 440,-63.17 440,-68.83 440,-68.83 440,-71.67 437.17,-74.5 434.33,-74.5\"/>\n",
              "<text text-anchor=\"start\" x=\"417\" y=\"-63.5\" font-family=\"Courier,monospace\" font-size=\"10.00\">q08</text>\n",
              "</g>\n",
              "<!-- 6&#45;&gt;7 -->\n",
              "<g id=\"edge12\" class=\"edge\">\n",
              "\n",
              "<path fill=\"none\" stroke=\"black\" d=\"M365.22,-66C376.94,-66 394.46,-66 407.6,-66\"/>\n",
              "<polygon fill=\"black\" stroke=\"black\" points=\"412.93,-66 407.93,-68.25 410.43,-66 407.93,-66 407.93,-66 407.93,-66 410.43,-66 407.93,-63.75 412.93,-66 412.93,-66\"/>\n",
              "<text text-anchor=\"start\" x=\"386\" y=\"-71.8\" font-family=\"Courier,monospace\" font-size=\"9.00\">a</text>\n",
              "</g>\n",
              "<!-- 8 -->\n",
              "<g id=\"node10\" class=\"node\">\n",
              "\n",
              "<path fill=\"none\" stroke=\"black\" d=\"M509.33,-74.5C509.33,-74.5 493.67,-74.5 493.67,-74.5 490.83,-74.5 488,-71.67 488,-68.83 488,-68.83 488,-63.17 488,-63.17 488,-60.33 490.83,-57.5 493.67,-57.5 493.67,-57.5 509.33,-57.5 509.33,-57.5 512.17,-57.5 515,-60.33 515,-63.17 515,-63.17 515,-68.83 515,-68.83 515,-71.67 512.17,-74.5 509.33,-74.5\"/>\n",
              "<text text-anchor=\"start\" x=\"492\" y=\"-63.5\" font-family=\"Courier,monospace\" font-size=\"10.00\">q09</text>\n",
              "</g>\n",
              "<!-- 7&#45;&gt;8 -->\n",
              "<g id=\"edge15\" class=\"edge\">\n",
              "\n",
              "<path fill=\"none\" stroke=\"black\" d=\"M440.22,-66C451.94,-66 469.46,-66 482.6,-66\"/>\n",
              "<polygon fill=\"black\" stroke=\"black\" points=\"487.93,-66 482.93,-68.25 485.43,-66 482.93,-66 482.93,-66 482.93,-66 485.43,-66 482.93,-63.75 487.93,-66 487.93,-66\"/>\n",
              "<text text-anchor=\"start\" x=\"461\" y=\"-71.8\" font-family=\"Courier,monospace\" font-size=\"9.00\">ε</text>\n",
              "</g>\n",
              "<!-- 9 -->\n",
              "<g id=\"node11\" class=\"node\">\n",
              "\n",
              "<path fill=\"none\" stroke=\"black\" d=\"M584.33,-74.5C584.33,-74.5 568.67,-74.5 568.67,-74.5 565.83,-74.5 563,-71.67 563,-68.83 563,-68.83 563,-63.17 563,-63.17 563,-60.33 565.83,-57.5 568.67,-57.5 568.67,-57.5 584.33,-57.5 584.33,-57.5 587.17,-57.5 590,-60.33 590,-63.17 590,-63.17 590,-68.83 590,-68.83 590,-71.67 587.17,-74.5 584.33,-74.5\"/>\n",
              "<text text-anchor=\"start\" x=\"567\" y=\"-63.5\" font-family=\"Courier,monospace\" font-size=\"10.00\">q10</text>\n",
              "</g>\n",
              "<!-- 8&#45;&gt;9 -->\n",
              "<g id=\"edge13\" class=\"edge\">\n",
              "\n",
              "<path fill=\"none\" stroke=\"black\" d=\"M515.22,-66C526.94,-66 544.46,-66 557.6,-66\"/>\n",
              "<polygon fill=\"black\" stroke=\"black\" points=\"562.93,-66 557.93,-68.25 560.43,-66 557.93,-66 557.93,-66 557.93,-66 560.43,-66 557.93,-63.75 562.93,-66 562.93,-66\"/>\n",
              "<text text-anchor=\"start\" x=\"536\" y=\"-71.8\" font-family=\"Courier,monospace\" font-size=\"9.00\">b</text>\n",
              "</g>\n",
              "<!-- 10 -->\n",
              "<g id=\"node12\" class=\"node\">\n",
              "\n",
              "<path fill=\"none\" stroke=\"black\" d=\"M659.33,-74.5C659.33,-74.5 643.67,-74.5 643.67,-74.5 640.83,-74.5 638,-71.67 638,-68.83 638,-68.83 638,-63.17 638,-63.17 638,-60.33 640.83,-57.5 643.67,-57.5 643.67,-57.5 659.33,-57.5 659.33,-57.5 662.17,-57.5 665,-60.33 665,-63.17 665,-63.17 665,-68.83 665,-68.83 665,-71.67 662.17,-74.5 659.33,-74.5\"/>\n",
              "<text text-anchor=\"start\" x=\"642\" y=\"-63.5\" font-family=\"Courier,monospace\" font-size=\"10.00\">q11</text>\n",
              "</g>\n",
              "<!-- 9&#45;&gt;10 -->\n",
              "<g id=\"edge16\" class=\"edge\">\n",
              "\n",
              "<path fill=\"none\" stroke=\"black\" d=\"M590.22,-66C601.94,-66 619.46,-66 632.6,-66\"/>\n",
              "<polygon fill=\"black\" stroke=\"black\" points=\"637.93,-66 632.93,-68.25 635.43,-66 632.93,-66 632.93,-66 632.93,-66 635.43,-66 632.93,-63.75 637.93,-66 637.93,-66\"/>\n",
              "<text text-anchor=\"start\" x=\"611\" y=\"-71.8\" font-family=\"Courier,monospace\" font-size=\"9.00\">ε</text>\n",
              "</g>\n",
              "<!-- 11 -->\n",
              "<g id=\"node13\" class=\"node\">\n",
              "\n",
              "<path fill=\"none\" stroke=\"black\" d=\"M738.33,-74.5C738.33,-74.5 722.67,-74.5 722.67,-74.5 719.83,-74.5 717,-71.67 717,-68.83 717,-68.83 717,-63.17 717,-63.17 717,-60.33 719.83,-57.5 722.67,-57.5 722.67,-57.5 738.33,-57.5 738.33,-57.5 741.17,-57.5 744,-60.33 744,-63.17 744,-63.17 744,-68.83 744,-68.83 744,-71.67 741.17,-74.5 738.33,-74.5\"/>\n",
              "<path fill=\"none\" stroke=\"black\" d=\"M739.67,-78.5C739.67,-78.5 721.33,-78.5 721.33,-78.5 717.17,-78.5 713,-74.33 713,-70.17 713,-70.17 713,-61.83 713,-61.83 713,-57.67 717.17,-53.5 721.33,-53.5 721.33,-53.5 739.67,-53.5 739.67,-53.5 743.83,-53.5 748,-57.67 748,-61.83 748,-61.83 748,-70.17 748,-70.17 748,-74.33 743.83,-78.5 739.67,-78.5\"/>\n",
              "<text text-anchor=\"start\" x=\"721\" y=\"-63.5\" font-family=\"Courier,monospace\" font-size=\"10.00\">q12</text>\n",
              "</g>\n",
              "<!-- 10&#45;&gt;11 -->\n",
              "<g id=\"edge14\" class=\"edge\">\n",
              "\n",
              "<path fill=\"none\" stroke=\"black\" d=\"M665.21,-66C676.68,-66 693.79,-66 707.47,-66\"/>\n",
              "<polygon fill=\"black\" stroke=\"black\" points=\"712.72,-66 707.72,-68.25 710.22,-66 707.72,-66 707.72,-66 707.72,-66 710.22,-66 707.72,-63.75 712.72,-66 712.72,-66\"/>\n",
              "<text text-anchor=\"start\" x=\"686\" y=\"-71.8\" font-family=\"Courier,monospace\" font-size=\"9.00\">a</text>\n",
              "</g>\n",
              "</g>\n",
              "</svg>"
            ],
            "text/plain": [
              "<IPython.core.display.SVG object>"
            ]
          },
          "metadata": {},
          "output_type": "display_data"
        }
      ],
      "source": [
        "m = from_regexp('(a|b)* a b a', display_steps=True)"
      ]
    },
    {
      "cell_type": "markdown",
      "metadata": {
        "id": "Uh5hd4SCDqL2"
      },
      "source": [
        "**Question.** If a regular expression has $n$ symbols, how big will the resulting NFA be?\n",
        "\n",
        "For a very cool \"real-time\" visualization of (a slightly different version of) this construction, see [Debuggex](https://www.debuggex.com)."
      ]
    }
  ],
  "metadata": {
    "kernelspec": {
      "display_name": "Python 3",
      "language": "python",
      "name": "python3"
    },
    "language_info": {
      "codemirror_mode": {
        "name": "ipython",
        "version": 3
      },
      "file_extension": ".py",
      "mimetype": "text/x-python",
      "name": "python",
      "nbconvert_exporter": "python",
      "pygments_lexer": "ipython3",
      "version": "3.8.1"
    },
    "colab": {
      "provenance": [],
      "include_colab_link": true
    }
  },
  "nbformat": 4,
  "nbformat_minor": 0
}